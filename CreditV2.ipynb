{
 "cells": [
  {
   "cell_type": "code",
   "execution_count": 2,
   "metadata": {},
   "outputs": [],
   "source": [
    "import pandas as pd\n",
    "import numpy as np\n",
    "import matplotlib as mplot\n",
    "import seaborn as sns\n",
    "from scipy import stats\n",
    "import matplotlib.pyplot as plt\n",
    "%matplotlib inline"
   ]
  },
  {
   "cell_type": "code",
   "execution_count": 3,
   "metadata": {},
   "outputs": [],
   "source": [
    "sns.set(color_codes=True)\n",
    "tips = sns.load_dataset(\"tips\")"
   ]
  },
  {
   "cell_type": "code",
   "execution_count": 4,
   "metadata": {},
   "outputs": [],
   "source": [
    "credit = pd.read_csv(r'C:\\Users\\maavila\\Documents\\CURSO-BigData-DD\\Module V\\default of credit card clients.csv', header =1)"
   ]
  },
  {
   "cell_type": "code",
   "execution_count": 5,
   "metadata": {},
   "outputs": [
    {
     "data": {
      "text/html": [
       "<div>\n",
       "<style scoped>\n",
       "    .dataframe tbody tr th:only-of-type {\n",
       "        vertical-align: middle;\n",
       "    }\n",
       "\n",
       "    .dataframe tbody tr th {\n",
       "        vertical-align: top;\n",
       "    }\n",
       "\n",
       "    .dataframe thead th {\n",
       "        text-align: right;\n",
       "    }\n",
       "</style>\n",
       "<table border=\"1\" class=\"dataframe\">\n",
       "  <thead>\n",
       "    <tr style=\"text-align: right;\">\n",
       "      <th></th>\n",
       "      <th>ID</th>\n",
       "      <th>LIMIT_BAL</th>\n",
       "      <th>SEX</th>\n",
       "      <th>EDUCATION</th>\n",
       "      <th>MARRIAGE</th>\n",
       "      <th>AGE</th>\n",
       "      <th>PAY_0</th>\n",
       "      <th>PAY_2</th>\n",
       "      <th>PAY_3</th>\n",
       "      <th>PAY_4</th>\n",
       "      <th>...</th>\n",
       "      <th>BILL_AMT4</th>\n",
       "      <th>BILL_AMT5</th>\n",
       "      <th>BILL_AMT6</th>\n",
       "      <th>PAY_AMT1</th>\n",
       "      <th>PAY_AMT2</th>\n",
       "      <th>PAY_AMT3</th>\n",
       "      <th>PAY_AMT4</th>\n",
       "      <th>PAY_AMT5</th>\n",
       "      <th>PAY_AMT6</th>\n",
       "      <th>default payment next month</th>\n",
       "    </tr>\n",
       "  </thead>\n",
       "  <tbody>\n",
       "    <tr>\n",
       "      <td>0</td>\n",
       "      <td>1</td>\n",
       "      <td>20000</td>\n",
       "      <td>2</td>\n",
       "      <td>2</td>\n",
       "      <td>1</td>\n",
       "      <td>24</td>\n",
       "      <td>2</td>\n",
       "      <td>2</td>\n",
       "      <td>-1</td>\n",
       "      <td>-1</td>\n",
       "      <td>...</td>\n",
       "      <td>0</td>\n",
       "      <td>0</td>\n",
       "      <td>0</td>\n",
       "      <td>0</td>\n",
       "      <td>689</td>\n",
       "      <td>0</td>\n",
       "      <td>0</td>\n",
       "      <td>0</td>\n",
       "      <td>0</td>\n",
       "      <td>1</td>\n",
       "    </tr>\n",
       "    <tr>\n",
       "      <td>1</td>\n",
       "      <td>2</td>\n",
       "      <td>120000</td>\n",
       "      <td>2</td>\n",
       "      <td>2</td>\n",
       "      <td>2</td>\n",
       "      <td>26</td>\n",
       "      <td>-1</td>\n",
       "      <td>2</td>\n",
       "      <td>0</td>\n",
       "      <td>0</td>\n",
       "      <td>...</td>\n",
       "      <td>3272</td>\n",
       "      <td>3455</td>\n",
       "      <td>3261</td>\n",
       "      <td>0</td>\n",
       "      <td>1000</td>\n",
       "      <td>1000</td>\n",
       "      <td>1000</td>\n",
       "      <td>0</td>\n",
       "      <td>2000</td>\n",
       "      <td>1</td>\n",
       "    </tr>\n",
       "    <tr>\n",
       "      <td>2</td>\n",
       "      <td>3</td>\n",
       "      <td>90000</td>\n",
       "      <td>2</td>\n",
       "      <td>2</td>\n",
       "      <td>2</td>\n",
       "      <td>34</td>\n",
       "      <td>0</td>\n",
       "      <td>0</td>\n",
       "      <td>0</td>\n",
       "      <td>0</td>\n",
       "      <td>...</td>\n",
       "      <td>14331</td>\n",
       "      <td>14948</td>\n",
       "      <td>15549</td>\n",
       "      <td>1518</td>\n",
       "      <td>1500</td>\n",
       "      <td>1000</td>\n",
       "      <td>1000</td>\n",
       "      <td>1000</td>\n",
       "      <td>5000</td>\n",
       "      <td>0</td>\n",
       "    </tr>\n",
       "    <tr>\n",
       "      <td>3</td>\n",
       "      <td>4</td>\n",
       "      <td>50000</td>\n",
       "      <td>2</td>\n",
       "      <td>2</td>\n",
       "      <td>1</td>\n",
       "      <td>37</td>\n",
       "      <td>0</td>\n",
       "      <td>0</td>\n",
       "      <td>0</td>\n",
       "      <td>0</td>\n",
       "      <td>...</td>\n",
       "      <td>28314</td>\n",
       "      <td>28959</td>\n",
       "      <td>29547</td>\n",
       "      <td>2000</td>\n",
       "      <td>2019</td>\n",
       "      <td>1200</td>\n",
       "      <td>1100</td>\n",
       "      <td>1069</td>\n",
       "      <td>1000</td>\n",
       "      <td>0</td>\n",
       "    </tr>\n",
       "    <tr>\n",
       "      <td>4</td>\n",
       "      <td>5</td>\n",
       "      <td>50000</td>\n",
       "      <td>1</td>\n",
       "      <td>2</td>\n",
       "      <td>1</td>\n",
       "      <td>57</td>\n",
       "      <td>-1</td>\n",
       "      <td>0</td>\n",
       "      <td>-1</td>\n",
       "      <td>0</td>\n",
       "      <td>...</td>\n",
       "      <td>20940</td>\n",
       "      <td>19146</td>\n",
       "      <td>19131</td>\n",
       "      <td>2000</td>\n",
       "      <td>36681</td>\n",
       "      <td>10000</td>\n",
       "      <td>9000</td>\n",
       "      <td>689</td>\n",
       "      <td>679</td>\n",
       "      <td>0</td>\n",
       "    </tr>\n",
       "  </tbody>\n",
       "</table>\n",
       "<p>5 rows × 25 columns</p>\n",
       "</div>"
      ],
      "text/plain": [
       "   ID  LIMIT_BAL  SEX  EDUCATION  MARRIAGE  AGE  PAY_0  PAY_2  PAY_3  PAY_4  \\\n",
       "0   1      20000    2          2         1   24      2      2     -1     -1   \n",
       "1   2     120000    2          2         2   26     -1      2      0      0   \n",
       "2   3      90000    2          2         2   34      0      0      0      0   \n",
       "3   4      50000    2          2         1   37      0      0      0      0   \n",
       "4   5      50000    1          2         1   57     -1      0     -1      0   \n",
       "\n",
       "   ...  BILL_AMT4  BILL_AMT5  BILL_AMT6  PAY_AMT1  PAY_AMT2  PAY_AMT3  \\\n",
       "0  ...          0          0          0         0       689         0   \n",
       "1  ...       3272       3455       3261         0      1000      1000   \n",
       "2  ...      14331      14948      15549      1518      1500      1000   \n",
       "3  ...      28314      28959      29547      2000      2019      1200   \n",
       "4  ...      20940      19146      19131      2000     36681     10000   \n",
       "\n",
       "   PAY_AMT4  PAY_AMT5  PAY_AMT6  default payment next month  \n",
       "0         0         0         0                           1  \n",
       "1      1000         0      2000                           1  \n",
       "2      1000      1000      5000                           0  \n",
       "3      1100      1069      1000                           0  \n",
       "4      9000       689       679                           0  \n",
       "\n",
       "[5 rows x 25 columns]"
      ]
     },
     "execution_count": 5,
     "metadata": {},
     "output_type": "execute_result"
    }
   ],
   "source": [
    "credit.head()"
   ]
  },
  {
   "cell_type": "code",
   "execution_count": 6,
   "metadata": {},
   "outputs": [
    {
     "data": {
      "text/html": [
       "<div>\n",
       "<style scoped>\n",
       "    .dataframe tbody tr th:only-of-type {\n",
       "        vertical-align: middle;\n",
       "    }\n",
       "\n",
       "    .dataframe tbody tr th {\n",
       "        vertical-align: top;\n",
       "    }\n",
       "\n",
       "    .dataframe thead th {\n",
       "        text-align: right;\n",
       "    }\n",
       "</style>\n",
       "<table border=\"1\" class=\"dataframe\">\n",
       "  <thead>\n",
       "    <tr style=\"text-align: right;\">\n",
       "      <th></th>\n",
       "      <th>ID</th>\n",
       "      <th>LIMIT_BAL</th>\n",
       "      <th>SEX</th>\n",
       "      <th>EDUCATION</th>\n",
       "      <th>MARRIAGE</th>\n",
       "      <th>AGE</th>\n",
       "      <th>PAY_0</th>\n",
       "      <th>PAY_2</th>\n",
       "      <th>PAY_3</th>\n",
       "      <th>PAY_4</th>\n",
       "      <th>...</th>\n",
       "      <th>BILL_AMT4</th>\n",
       "      <th>BILL_AMT5</th>\n",
       "      <th>BILL_AMT6</th>\n",
       "      <th>PAY_AMT1</th>\n",
       "      <th>PAY_AMT2</th>\n",
       "      <th>PAY_AMT3</th>\n",
       "      <th>PAY_AMT4</th>\n",
       "      <th>PAY_AMT5</th>\n",
       "      <th>PAY_AMT6</th>\n",
       "      <th>default payment next month</th>\n",
       "    </tr>\n",
       "  </thead>\n",
       "  <tbody>\n",
       "    <tr>\n",
       "      <td>count</td>\n",
       "      <td>30000.000000</td>\n",
       "      <td>30000.000000</td>\n",
       "      <td>30000.000000</td>\n",
       "      <td>30000.000000</td>\n",
       "      <td>30000.000000</td>\n",
       "      <td>30000.000000</td>\n",
       "      <td>30000.000000</td>\n",
       "      <td>30000.000000</td>\n",
       "      <td>30000.000000</td>\n",
       "      <td>30000.000000</td>\n",
       "      <td>...</td>\n",
       "      <td>30000.000000</td>\n",
       "      <td>30000.000000</td>\n",
       "      <td>30000.000000</td>\n",
       "      <td>30000.000000</td>\n",
       "      <td>3.000000e+04</td>\n",
       "      <td>30000.00000</td>\n",
       "      <td>30000.000000</td>\n",
       "      <td>30000.000000</td>\n",
       "      <td>30000.000000</td>\n",
       "      <td>30000.000000</td>\n",
       "    </tr>\n",
       "    <tr>\n",
       "      <td>mean</td>\n",
       "      <td>15000.500000</td>\n",
       "      <td>167484.322667</td>\n",
       "      <td>1.603733</td>\n",
       "      <td>1.853133</td>\n",
       "      <td>1.551867</td>\n",
       "      <td>35.485500</td>\n",
       "      <td>-0.016700</td>\n",
       "      <td>-0.133767</td>\n",
       "      <td>-0.166200</td>\n",
       "      <td>-0.220667</td>\n",
       "      <td>...</td>\n",
       "      <td>43262.948967</td>\n",
       "      <td>40311.400967</td>\n",
       "      <td>38871.760400</td>\n",
       "      <td>5663.580500</td>\n",
       "      <td>5.921163e+03</td>\n",
       "      <td>5225.68150</td>\n",
       "      <td>4826.076867</td>\n",
       "      <td>4799.387633</td>\n",
       "      <td>5215.502567</td>\n",
       "      <td>0.221200</td>\n",
       "    </tr>\n",
       "    <tr>\n",
       "      <td>std</td>\n",
       "      <td>8660.398374</td>\n",
       "      <td>129747.661567</td>\n",
       "      <td>0.489129</td>\n",
       "      <td>0.790349</td>\n",
       "      <td>0.521970</td>\n",
       "      <td>9.217904</td>\n",
       "      <td>1.123802</td>\n",
       "      <td>1.197186</td>\n",
       "      <td>1.196868</td>\n",
       "      <td>1.169139</td>\n",
       "      <td>...</td>\n",
       "      <td>64332.856134</td>\n",
       "      <td>60797.155770</td>\n",
       "      <td>59554.107537</td>\n",
       "      <td>16563.280354</td>\n",
       "      <td>2.304087e+04</td>\n",
       "      <td>17606.96147</td>\n",
       "      <td>15666.159744</td>\n",
       "      <td>15278.305679</td>\n",
       "      <td>17777.465775</td>\n",
       "      <td>0.415062</td>\n",
       "    </tr>\n",
       "    <tr>\n",
       "      <td>min</td>\n",
       "      <td>1.000000</td>\n",
       "      <td>10000.000000</td>\n",
       "      <td>1.000000</td>\n",
       "      <td>0.000000</td>\n",
       "      <td>0.000000</td>\n",
       "      <td>21.000000</td>\n",
       "      <td>-2.000000</td>\n",
       "      <td>-2.000000</td>\n",
       "      <td>-2.000000</td>\n",
       "      <td>-2.000000</td>\n",
       "      <td>...</td>\n",
       "      <td>-170000.000000</td>\n",
       "      <td>-81334.000000</td>\n",
       "      <td>-339603.000000</td>\n",
       "      <td>0.000000</td>\n",
       "      <td>0.000000e+00</td>\n",
       "      <td>0.00000</td>\n",
       "      <td>0.000000</td>\n",
       "      <td>0.000000</td>\n",
       "      <td>0.000000</td>\n",
       "      <td>0.000000</td>\n",
       "    </tr>\n",
       "    <tr>\n",
       "      <td>25%</td>\n",
       "      <td>7500.750000</td>\n",
       "      <td>50000.000000</td>\n",
       "      <td>1.000000</td>\n",
       "      <td>1.000000</td>\n",
       "      <td>1.000000</td>\n",
       "      <td>28.000000</td>\n",
       "      <td>-1.000000</td>\n",
       "      <td>-1.000000</td>\n",
       "      <td>-1.000000</td>\n",
       "      <td>-1.000000</td>\n",
       "      <td>...</td>\n",
       "      <td>2326.750000</td>\n",
       "      <td>1763.000000</td>\n",
       "      <td>1256.000000</td>\n",
       "      <td>1000.000000</td>\n",
       "      <td>8.330000e+02</td>\n",
       "      <td>390.00000</td>\n",
       "      <td>296.000000</td>\n",
       "      <td>252.500000</td>\n",
       "      <td>117.750000</td>\n",
       "      <td>0.000000</td>\n",
       "    </tr>\n",
       "    <tr>\n",
       "      <td>50%</td>\n",
       "      <td>15000.500000</td>\n",
       "      <td>140000.000000</td>\n",
       "      <td>2.000000</td>\n",
       "      <td>2.000000</td>\n",
       "      <td>2.000000</td>\n",
       "      <td>34.000000</td>\n",
       "      <td>0.000000</td>\n",
       "      <td>0.000000</td>\n",
       "      <td>0.000000</td>\n",
       "      <td>0.000000</td>\n",
       "      <td>...</td>\n",
       "      <td>19052.000000</td>\n",
       "      <td>18104.500000</td>\n",
       "      <td>17071.000000</td>\n",
       "      <td>2100.000000</td>\n",
       "      <td>2.009000e+03</td>\n",
       "      <td>1800.00000</td>\n",
       "      <td>1500.000000</td>\n",
       "      <td>1500.000000</td>\n",
       "      <td>1500.000000</td>\n",
       "      <td>0.000000</td>\n",
       "    </tr>\n",
       "    <tr>\n",
       "      <td>75%</td>\n",
       "      <td>22500.250000</td>\n",
       "      <td>240000.000000</td>\n",
       "      <td>2.000000</td>\n",
       "      <td>2.000000</td>\n",
       "      <td>2.000000</td>\n",
       "      <td>41.000000</td>\n",
       "      <td>0.000000</td>\n",
       "      <td>0.000000</td>\n",
       "      <td>0.000000</td>\n",
       "      <td>0.000000</td>\n",
       "      <td>...</td>\n",
       "      <td>54506.000000</td>\n",
       "      <td>50190.500000</td>\n",
       "      <td>49198.250000</td>\n",
       "      <td>5006.000000</td>\n",
       "      <td>5.000000e+03</td>\n",
       "      <td>4505.00000</td>\n",
       "      <td>4013.250000</td>\n",
       "      <td>4031.500000</td>\n",
       "      <td>4000.000000</td>\n",
       "      <td>0.000000</td>\n",
       "    </tr>\n",
       "    <tr>\n",
       "      <td>max</td>\n",
       "      <td>30000.000000</td>\n",
       "      <td>1000000.000000</td>\n",
       "      <td>2.000000</td>\n",
       "      <td>6.000000</td>\n",
       "      <td>3.000000</td>\n",
       "      <td>79.000000</td>\n",
       "      <td>8.000000</td>\n",
       "      <td>8.000000</td>\n",
       "      <td>8.000000</td>\n",
       "      <td>8.000000</td>\n",
       "      <td>...</td>\n",
       "      <td>891586.000000</td>\n",
       "      <td>927171.000000</td>\n",
       "      <td>961664.000000</td>\n",
       "      <td>873552.000000</td>\n",
       "      <td>1.684259e+06</td>\n",
       "      <td>896040.00000</td>\n",
       "      <td>621000.000000</td>\n",
       "      <td>426529.000000</td>\n",
       "      <td>528666.000000</td>\n",
       "      <td>1.000000</td>\n",
       "    </tr>\n",
       "  </tbody>\n",
       "</table>\n",
       "<p>8 rows × 25 columns</p>\n",
       "</div>"
      ],
      "text/plain": [
       "                 ID       LIMIT_BAL           SEX     EDUCATION      MARRIAGE  \\\n",
       "count  30000.000000    30000.000000  30000.000000  30000.000000  30000.000000   \n",
       "mean   15000.500000   167484.322667      1.603733      1.853133      1.551867   \n",
       "std     8660.398374   129747.661567      0.489129      0.790349      0.521970   \n",
       "min        1.000000    10000.000000      1.000000      0.000000      0.000000   \n",
       "25%     7500.750000    50000.000000      1.000000      1.000000      1.000000   \n",
       "50%    15000.500000   140000.000000      2.000000      2.000000      2.000000   \n",
       "75%    22500.250000   240000.000000      2.000000      2.000000      2.000000   \n",
       "max    30000.000000  1000000.000000      2.000000      6.000000      3.000000   \n",
       "\n",
       "                AGE         PAY_0         PAY_2         PAY_3         PAY_4  \\\n",
       "count  30000.000000  30000.000000  30000.000000  30000.000000  30000.000000   \n",
       "mean      35.485500     -0.016700     -0.133767     -0.166200     -0.220667   \n",
       "std        9.217904      1.123802      1.197186      1.196868      1.169139   \n",
       "min       21.000000     -2.000000     -2.000000     -2.000000     -2.000000   \n",
       "25%       28.000000     -1.000000     -1.000000     -1.000000     -1.000000   \n",
       "50%       34.000000      0.000000      0.000000      0.000000      0.000000   \n",
       "75%       41.000000      0.000000      0.000000      0.000000      0.000000   \n",
       "max       79.000000      8.000000      8.000000      8.000000      8.000000   \n",
       "\n",
       "       ...      BILL_AMT4      BILL_AMT5      BILL_AMT6       PAY_AMT1  \\\n",
       "count  ...   30000.000000   30000.000000   30000.000000   30000.000000   \n",
       "mean   ...   43262.948967   40311.400967   38871.760400    5663.580500   \n",
       "std    ...   64332.856134   60797.155770   59554.107537   16563.280354   \n",
       "min    ... -170000.000000  -81334.000000 -339603.000000       0.000000   \n",
       "25%    ...    2326.750000    1763.000000    1256.000000    1000.000000   \n",
       "50%    ...   19052.000000   18104.500000   17071.000000    2100.000000   \n",
       "75%    ...   54506.000000   50190.500000   49198.250000    5006.000000   \n",
       "max    ...  891586.000000  927171.000000  961664.000000  873552.000000   \n",
       "\n",
       "           PAY_AMT2      PAY_AMT3       PAY_AMT4       PAY_AMT5  \\\n",
       "count  3.000000e+04   30000.00000   30000.000000   30000.000000   \n",
       "mean   5.921163e+03    5225.68150    4826.076867    4799.387633   \n",
       "std    2.304087e+04   17606.96147   15666.159744   15278.305679   \n",
       "min    0.000000e+00       0.00000       0.000000       0.000000   \n",
       "25%    8.330000e+02     390.00000     296.000000     252.500000   \n",
       "50%    2.009000e+03    1800.00000    1500.000000    1500.000000   \n",
       "75%    5.000000e+03    4505.00000    4013.250000    4031.500000   \n",
       "max    1.684259e+06  896040.00000  621000.000000  426529.000000   \n",
       "\n",
       "            PAY_AMT6  default payment next month  \n",
       "count   30000.000000                30000.000000  \n",
       "mean     5215.502567                    0.221200  \n",
       "std     17777.465775                    0.415062  \n",
       "min         0.000000                    0.000000  \n",
       "25%       117.750000                    0.000000  \n",
       "50%      1500.000000                    0.000000  \n",
       "75%      4000.000000                    0.000000  \n",
       "max    528666.000000                    1.000000  \n",
       "\n",
       "[8 rows x 25 columns]"
      ]
     },
     "execution_count": 6,
     "metadata": {},
     "output_type": "execute_result"
    }
   ],
   "source": [
    "credit.describe()"
   ]
  },
  {
   "cell_type": "code",
   "execution_count": 6,
   "metadata": {},
   "outputs": [],
   "source": [
    "x = credit.describe ()\n",
    "x.to_excel('output1.xlsx', engine='xlsxwriter')  "
   ]
  },
  {
   "cell_type": "code",
   "execution_count": 3,
   "metadata": {},
   "outputs": [
    {
     "name": "stdout",
     "output_type": "stream",
     "text": [
      "<class 'pandas.core.frame.DataFrame'>\n",
      "RangeIndex: 30000 entries, 0 to 29999\n",
      "Data columns (total 25 columns):\n",
      "ID                            30000 non-null int64\n",
      "LIMIT_BAL                     30000 non-null int64\n",
      "SEX                           30000 non-null int64\n",
      "EDUCATION                     30000 non-null int64\n",
      "MARRIAGE                      30000 non-null int64\n",
      "AGE                           30000 non-null int64\n",
      "PAY_0                         30000 non-null int64\n",
      "PAY_2                         30000 non-null int64\n",
      "PAY_3                         30000 non-null int64\n",
      "PAY_4                         30000 non-null int64\n",
      "PAY_5                         30000 non-null int64\n",
      "PAY_6                         30000 non-null int64\n",
      "BILL_AMT1                     30000 non-null int64\n",
      "BILL_AMT2                     30000 non-null int64\n",
      "BILL_AMT3                     30000 non-null int64\n",
      "BILL_AMT4                     30000 non-null int64\n",
      "BILL_AMT5                     30000 non-null int64\n",
      "BILL_AMT6                     30000 non-null int64\n",
      "PAY_AMT1                      30000 non-null int64\n",
      "PAY_AMT2                      30000 non-null int64\n",
      "PAY_AMT3                      30000 non-null int64\n",
      "PAY_AMT4                      30000 non-null int64\n",
      "PAY_AMT5                      30000 non-null int64\n",
      "PAY_AMT6                      30000 non-null int64\n",
      "default payment next month    30000 non-null int64\n",
      "dtypes: int64(25)\n",
      "memory usage: 5.7 MB\n"
     ]
    }
   ],
   "source": [
    "credit.info()"
   ]
  },
  {
   "cell_type": "code",
   "execution_count": 7,
   "metadata": {},
   "outputs": [
    {
     "data": {
      "text/plain": [
       "ID                            0\n",
       "LIMIT_BAL                     0\n",
       "SEX                           0\n",
       "EDUCATION                     0\n",
       "MARRIAGE                      0\n",
       "AGE                           0\n",
       "PAY_0                         0\n",
       "PAY_2                         0\n",
       "PAY_3                         0\n",
       "PAY_4                         0\n",
       "PAY_5                         0\n",
       "PAY_6                         0\n",
       "BILL_AMT1                     0\n",
       "BILL_AMT2                     0\n",
       "BILL_AMT3                     0\n",
       "BILL_AMT4                     0\n",
       "BILL_AMT5                     0\n",
       "BILL_AMT6                     0\n",
       "PAY_AMT1                      0\n",
       "PAY_AMT2                      0\n",
       "PAY_AMT3                      0\n",
       "PAY_AMT4                      0\n",
       "PAY_AMT5                      0\n",
       "PAY_AMT6                      0\n",
       "default payment next month    0\n",
       "dtype: int64"
      ]
     },
     "execution_count": 7,
     "metadata": {},
     "output_type": "execute_result"
    }
   ],
   "source": [
    "len(credit) - credit.count() "
   ]
  },
  {
   "cell_type": "code",
   "execution_count": 12,
   "metadata": {},
   "outputs": [
    {
     "data": {
      "image/png": "[encoded data removed]",
      "text/plain": [
       "<Figure size 494.8x360 with 1 Axes>"
      ]
     },
     "metadata": {},
     "output_type": "display_data"
    }
   ],
   "source": [
    "sns.lmplot(x=\"LIMIT_BAL\", y=\"AGE\", hue=\"default payment next month\", data=credit);"
   ]
  },
  {
   "cell_type": "code",
   "execution_count": 9,
   "metadata": {},
   "outputs": [
    {
     "data": {
      "image/png": "[encoded data removed]",
      "text/plain": [
       "<Figure size 535.85x360 with 1 Axes>"
      ]
     },
     "metadata": {},
     "output_type": "display_data"
    }
   ],
   "source": [
    "sns.relplot(x=\"BILL_AMT1\", y=\"AGE\", size=\"LIMIT_BAL\",hue=\"default payment next month\", sizes=(15, 200), data=credit);"
   ]
  },
  {
   "cell_type": "code",
   "execution_count": 14,
   "metadata": {},
   "outputs": [
    {
     "data": {
      "text/plain": [
       "<matplotlib.axes._subplots.AxesSubplot at 0x1e5f10681c8>"
      ]
     },
     "execution_count": 14,
     "metadata": {},
     "output_type": "execute_result"
    },
    {
     "data": {
      "image/png": "[encoded data removed]",
      "text/plain": [
       "<Figure size 432x288 with 1 Axes>"
      ]
     },
     "metadata": {},
     "output_type": "display_data"
    }
   ],
   "source": [
    "sns.boxplot(x=credit['LIMIT_BAL'])"
   ]
  },
  {
   "cell_type": "code",
   "execution_count": 20,
   "metadata": {},
   "outputs": [
    {
     "data": {
      "text/plain": [
       "<matplotlib.axes._subplots.AxesSubplot at 0x1e5f0fbb848>"
      ]
     },
     "execution_count": 20,
     "metadata": {},
     "output_type": "execute_result"
    },
    {
     "data": {
      "image/png": "[encoded data removed]",
      "text/plain": [
       "<Figure size 432x288 with 1 Axes>"
      ]
     },
     "metadata": {},
     "output_type": "display_data"
    }
   ],
   "source": [
    "sns.boxplot(x=credit['PAY_AMT1'])"
   ]
  },
  {
   "cell_type": "code",
   "execution_count": 10,
   "metadata": {},
   "outputs": [],
   "source": [
    "# apply z score to eliminate outlier\n",
    "z = np.abs(stats.zscore(credit))"
   ]
  },
  {
   "cell_type": "code",
   "execution_count": 24,
   "metadata": {},
   "outputs": [
    {
     "name": "stdout",
     "output_type": "stream",
     "text": [
      "[[1.73199307 1.13672015 0.81016074 ... 0.31413612 0.29338206 1.87637834]\n",
      " [1.7318776  0.3659805  0.81016074 ... 0.31413612 0.18087821 1.87637834]\n",
      " [1.73176213 0.59720239 0.81016074 ... 0.24868274 0.01212243 0.53294156]\n",
      " ...\n",
      " [1.73176213 1.05964618 1.23432296 ... 0.18322937 0.11900109 1.87637834]\n",
      " [1.7318776  0.67427636 1.23432296 ... 3.15253642 0.19190359 1.87637834]\n",
      " [1.73199307 0.90549825 1.23432296 ... 0.24868274 0.23713013 1.87637834]]\n"
     ]
    }
   ],
   "source": [
    "print (z)"
   ]
  },
  {
   "cell_type": "code",
   "execution_count": 11,
   "metadata": {},
   "outputs": [
    {
     "name": "stdout",
     "output_type": "stream",
     "text": [
      "(array([    6,     6,     6, ..., 29987, 29993, 29998], dtype=int64), array([13, 14, 15, ..., 20, 19, 18], dtype=int64))\n"
     ]
    }
   ],
   "source": [
    "threshold = 4.5\n",
    "print(np.where(z > 4.5))"
   ]
  },
  {
   "cell_type": "code",
   "execution_count": 12,
   "metadata": {},
   "outputs": [
    {
     "ename": "IndexError",
     "evalue": "list index out of range",
     "output_type": "error",
     "traceback": [
      "\u001b[1;31m---------------------------------------------------------------------------\u001b[0m",
      "\u001b[1;31mIndexError\u001b[0m                                Traceback (most recent call last)",
      "\u001b[1;32m<ipython-input-12-67f8e2de3fda>\u001b[0m in \u001b[0;36m<module>\u001b[1;34m\u001b[0m\n\u001b[1;32m----> 1\u001b[1;33m \u001b[0mprint\u001b[0m \u001b[1;33m(\u001b[0m\u001b[0mcredit\u001b[0m\u001b[1;33m(\u001b[0m\u001b[1;33m[\u001b[0m\u001b[1;36m6\u001b[0m\u001b[1;33m]\u001b[0m\u001b[1;33m[\u001b[0m\u001b[1;36m13\u001b[0m\u001b[1;33m]\u001b[0m\u001b[1;33m)\u001b[0m\u001b[1;33m)\u001b[0m\u001b[1;33m\u001b[0m\u001b[1;33m\u001b[0m\u001b[0m\n\u001b[0m",
      "\u001b[1;31mIndexError\u001b[0m: list index out of range"
     ]
    }
   ],
   "source": [
    "print (credit([6][13]))"
   ]
  },
  {
   "cell_type": "code",
   "execution_count": 13,
   "metadata": {},
   "outputs": [],
   "source": [
    "# Eliminating Outliers based on zcores\n",
    "credit_o = credit[(z < 4.5).all(axis=1)]"
   ]
  },
  {
   "cell_type": "code",
   "execution_count": 14,
   "metadata": {},
   "outputs": [
    {
     "data": {
      "text/plain": [
       "(28297, 25)"
      ]
     },
     "execution_count": 14,
     "metadata": {},
     "output_type": "execute_result"
    }
   ],
   "source": [
    "credit_o.shape"
   ]
  },
  {
   "cell_type": "code",
   "execution_count": 14,
   "metadata": {},
   "outputs": [],
   "source": [
    "#Eliminate ID\n",
    "credit_o = credit_o.drop(columns=\"ID\")\n",
    "credit = credit.drop(columns=\"ID\")"
   ]
  },
  {
   "cell_type": "code",
   "execution_count": 15,
   "metadata": {},
   "outputs": [],
   "source": [
    "#Convert, SEX, EDUCATION, MARRIAGE and DEFAULT to Categorical\n",
    "credit_o['SEX'] = credit_o['SEX'].astype('category')\n",
    "credit_o['EDUCATION'] = credit_o['EDUCATION'].astype('category')\n",
    "credit_o['MARRIAGE'] = credit_o['MARRIAGE'].astype('category')\n",
    "credit_o['default payment next month'] = credit_o['default payment next month'].astype('category')"
   ]
  },
  {
   "cell_type": "code",
   "execution_count": null,
   "metadata": {},
   "outputs": [],
   "source": [
    "#Convert PAY to category\n",
    "credit_o[\"PAY_0\"] = credit_o[\"PAY_0\"].astype(\"category\")\n",
    "credit_o[\"PAY_2\"] = credit_o[\"PAY_2\"].astype(\"category\")\n",
    "credit_o[\"PAY_3\"] = credit_o[\"PAY_3\"].astype(\"category\")\n",
    "credit_o[\"PAY_4\"] = credit_o[\"PAY_4\"].astype(\"category\")\n",
    "credit_o[\"PAY_5\"] = credit_o[\"PAY_5\"].astype(\"category\")\n",
    "credit_o[\"PAY_6\"] = credit_o[\"PAY_6\"].astype(\"category\")"
   ]
  },
  {
   "cell_type": "code",
   "execution_count": 18,
   "metadata": {},
   "outputs": [],
   "source": [
    "credit_o=credit_o.rename(columns = {'default payment next month':'DEFAULT'})"
   ]
  },
  {
   "cell_type": "code",
   "execution_count": 19,
   "metadata": {},
   "outputs": [],
   "source": [
    "#Convert, SEX, EDUCATION, MARRIAGE and DEFAULT to Categorical\n",
    "credit['SEX'] = credit['SEX'].astype('category')\n",
    "credit['EDUCATION'] = credit['EDUCATION'].astype('category')\n",
    "credit['MARRIAGE'] = credit['MARRIAGE'].astype('category')\n",
    "credit['default payment next month'] = credit['default payment next month'].astype('category')"
   ]
  },
  {
   "cell_type": "code",
   "execution_count": 20,
   "metadata": {},
   "outputs": [],
   "source": [
    "#Convert PAY to category\n",
    "credit[\"PAY_0\"] = credit[\"PAY_0\"].astype(\"category\")\n",
    "credit[\"PAY_2\"] = credit[\"PAY_2\"].astype(\"category\")\n",
    "credit[\"PAY_3\"] = credit[\"PAY_3\"].astype(\"category\")\n",
    "credit[\"PAY_4\"] = credit[\"PAY_4\"].astype(\"category\")\n",
    "credit[\"PAY_5\"] = credit[\"PAY_5\"].astype(\"category\")\n",
    "credit[\"PAY_6\"] = credit[\"PAY_6\"].astype(\"category\")"
   ]
  },
  {
   "cell_type": "code",
   "execution_count": 22,
   "metadata": {},
   "outputs": [],
   "source": [
    "credit=credit.rename(columns = {'default payment next month':'DEFAULT'})"
   ]
  },
  {
   "cell_type": "code",
   "execution_count": 23,
   "metadata": {},
   "outputs": [
    {
     "name": "stdout",
     "output_type": "stream",
     "text": [
      "<class 'pandas.core.frame.DataFrame'>\n",
      "RangeIndex: 30000 entries, 0 to 29999\n",
      "Data columns (total 24 columns):\n",
      "LIMIT_BAL    30000 non-null int64\n",
      "SEX          30000 non-null category\n",
      "EDUCATION    30000 non-null category\n",
      "MARRIAGE     30000 non-null category\n",
      "AGE          30000 non-null int64\n",
      "PAY_0        30000 non-null category\n",
      "PAY_2        30000 non-null category\n",
      "PAY_3        30000 non-null category\n",
      "PAY_4        30000 non-null category\n",
      "PAY_5        30000 non-null category\n",
      "PAY_6        30000 non-null category\n",
      "BILL_AMT1    30000 non-null int64\n",
      "BILL_AMT2    30000 non-null int64\n",
      "BILL_AMT3    30000 non-null int64\n",
      "BILL_AMT4    30000 non-null int64\n",
      "BILL_AMT5    30000 non-null int64\n",
      "BILL_AMT6    30000 non-null int64\n",
      "PAY_AMT1     30000 non-null int64\n",
      "PAY_AMT2     30000 non-null int64\n",
      "PAY_AMT3     30000 non-null int64\n",
      "PAY_AMT4     30000 non-null int64\n",
      "PAY_AMT5     30000 non-null int64\n",
      "PAY_AMT6     30000 non-null int64\n",
      "DEFAULT      30000 non-null category\n",
      "dtypes: category(10), int64(14)\n",
      "memory usage: 3.5 MB\n"
     ]
    }
   ],
   "source": [
    "credit.info()"
   ]
  },
  {
   "cell_type": "code",
   "execution_count": 26,
   "metadata": {},
   "outputs": [
    {
     "name": "stdout",
     "output_type": "stream",
     "text": [
      "<class 'pandas.core.frame.DataFrame'>\n",
      "Int64Index: 28297 entries, 0 to 29999\n",
      "Data columns (total 24 columns):\n",
      "LIMIT_BAL    28297 non-null int64\n",
      "SEX          28297 non-null category\n",
      "EDUCATION    28297 non-null category\n",
      "MARRIAGE     28297 non-null category\n",
      "AGE          28297 non-null int64\n",
      "PAY_0        28297 non-null int64\n",
      "PAY_2        28297 non-null int64\n",
      "PAY_3        28297 non-null int64\n",
      "PAY_4        28297 non-null int64\n",
      "PAY_5        28297 non-null int64\n",
      "PAY_6        28297 non-null int64\n",
      "BILL_AMT1    28297 non-null int64\n",
      "BILL_AMT2    28297 non-null int64\n",
      "BILL_AMT3    28297 non-null int64\n",
      "BILL_AMT4    28297 non-null int64\n",
      "BILL_AMT5    28297 non-null int64\n",
      "BILL_AMT6    28297 non-null int64\n",
      "PAY_AMT1     28297 non-null int64\n",
      "PAY_AMT2     28297 non-null int64\n",
      "PAY_AMT3     28297 non-null int64\n",
      "PAY_AMT4     28297 non-null int64\n",
      "PAY_AMT5     28297 non-null int64\n",
      "PAY_AMT6     28297 non-null int64\n",
      "DEFAULT      28297 non-null category\n",
      "dtypes: category(4), int64(20)\n",
      "memory usage: 4.6 MB\n"
     ]
    }
   ],
   "source": [
    "credit_o.info()"
   ]
  },
  {
   "cell_type": "code",
   "execution_count": 25,
   "metadata": {},
   "outputs": [
    {
     "data": {
      "text/html": [
       "<div>\n",
       "<style scoped>\n",
       "    .dataframe tbody tr th:only-of-type {\n",
       "        vertical-align: middle;\n",
       "    }\n",
       "\n",
       "    .dataframe tbody tr th {\n",
       "        vertical-align: top;\n",
       "    }\n",
       "\n",
       "    .dataframe thead th {\n",
       "        text-align: right;\n",
       "    }\n",
       "</style>\n",
       "<table border=\"1\" class=\"dataframe\">\n",
       "  <thead>\n",
       "    <tr style=\"text-align: right;\">\n",
       "      <th></th>\n",
       "      <th>LIMIT_BAL</th>\n",
       "      <th>AGE</th>\n",
       "      <th>PAY_0</th>\n",
       "      <th>PAY_2</th>\n",
       "      <th>PAY_3</th>\n",
       "      <th>PAY_4</th>\n",
       "      <th>PAY_5</th>\n",
       "      <th>PAY_6</th>\n",
       "      <th>BILL_AMT1</th>\n",
       "      <th>BILL_AMT2</th>\n",
       "      <th>BILL_AMT3</th>\n",
       "      <th>BILL_AMT4</th>\n",
       "      <th>BILL_AMT5</th>\n",
       "      <th>BILL_AMT6</th>\n",
       "      <th>PAY_AMT1</th>\n",
       "      <th>PAY_AMT2</th>\n",
       "      <th>PAY_AMT3</th>\n",
       "      <th>PAY_AMT4</th>\n",
       "      <th>PAY_AMT5</th>\n",
       "      <th>PAY_AMT6</th>\n",
       "    </tr>\n",
       "  </thead>\n",
       "  <tbody>\n",
       "    <tr>\n",
       "      <td>count</td>\n",
       "      <td>28297.000000</td>\n",
       "      <td>28297.000000</td>\n",
       "      <td>28297.000000</td>\n",
       "      <td>28297.000000</td>\n",
       "      <td>28297.000000</td>\n",
       "      <td>28297.000000</td>\n",
       "      <td>28297.000000</td>\n",
       "      <td>28297.000000</td>\n",
       "      <td>28297.000000</td>\n",
       "      <td>28297.000000</td>\n",
       "      <td>28297.000000</td>\n",
       "      <td>28297.000000</td>\n",
       "      <td>28297.000000</td>\n",
       "      <td>28297.000000</td>\n",
       "      <td>28297.000000</td>\n",
       "      <td>28297.000000</td>\n",
       "      <td>28297.000000</td>\n",
       "      <td>28297.000000</td>\n",
       "      <td>28297.000000</td>\n",
       "      <td>28297.000000</td>\n",
       "    </tr>\n",
       "    <tr>\n",
       "      <td>mean</td>\n",
       "      <td>159209.092130</td>\n",
       "      <td>35.403046</td>\n",
       "      <td>-0.021698</td>\n",
       "      <td>-0.139025</td>\n",
       "      <td>-0.177581</td>\n",
       "      <td>-0.239425</td>\n",
       "      <td>-0.286992</td>\n",
       "      <td>-0.313885</td>\n",
       "      <td>45977.853377</td>\n",
       "      <td>43740.683677</td>\n",
       "      <td>41420.425805</td>\n",
       "      <td>37811.782945</td>\n",
       "      <td>35000.531010</td>\n",
       "      <td>33562.753825</td>\n",
       "      <td>4258.430823</td>\n",
       "      <td>4377.426582</td>\n",
       "      <td>3768.369332</td>\n",
       "      <td>3459.536064</td>\n",
       "      <td>3409.750504</td>\n",
       "      <td>3500.157967</td>\n",
       "    </tr>\n",
       "    <tr>\n",
       "      <td>std</td>\n",
       "      <td>123260.283683</td>\n",
       "      <td>9.235255</td>\n",
       "      <td>1.089938</td>\n",
       "      <td>1.177027</td>\n",
       "      <td>1.163735</td>\n",
       "      <td>1.118238</td>\n",
       "      <td>1.083429</td>\n",
       "      <td>1.104679</td>\n",
       "      <td>60968.347786</td>\n",
       "      <td>58510.977780</td>\n",
       "      <td>55876.264115</td>\n",
       "      <td>51973.614702</td>\n",
       "      <td>49131.534704</td>\n",
       "      <td>48141.557038</td>\n",
       "      <td>7361.188654</td>\n",
       "      <td>8718.346146</td>\n",
       "      <td>7241.375536</td>\n",
       "      <td>6917.062529</td>\n",
       "      <td>6687.582278</td>\n",
       "      <td>7473.770503</td>\n",
       "    </tr>\n",
       "    <tr>\n",
       "      <td>min</td>\n",
       "      <td>10000.000000</td>\n",
       "      <td>21.000000</td>\n",
       "      <td>-2.000000</td>\n",
       "      <td>-2.000000</td>\n",
       "      <td>-2.000000</td>\n",
       "      <td>-2.000000</td>\n",
       "      <td>-2.000000</td>\n",
       "      <td>-2.000000</td>\n",
       "      <td>-11545.000000</td>\n",
       "      <td>-69777.000000</td>\n",
       "      <td>-46127.000000</td>\n",
       "      <td>-50616.000000</td>\n",
       "      <td>-53007.000000</td>\n",
       "      <td>-94625.000000</td>\n",
       "      <td>0.000000</td>\n",
       "      <td>0.000000</td>\n",
       "      <td>0.000000</td>\n",
       "      <td>0.000000</td>\n",
       "      <td>0.000000</td>\n",
       "      <td>0.000000</td>\n",
       "    </tr>\n",
       "    <tr>\n",
       "      <td>25%</td>\n",
       "      <td>50000.000000</td>\n",
       "      <td>28.000000</td>\n",
       "      <td>-1.000000</td>\n",
       "      <td>-1.000000</td>\n",
       "      <td>-1.000000</td>\n",
       "      <td>-1.000000</td>\n",
       "      <td>-1.000000</td>\n",
       "      <td>-1.000000</td>\n",
       "      <td>3366.000000</td>\n",
       "      <td>2798.000000</td>\n",
       "      <td>2482.000000</td>\n",
       "      <td>2049.000000</td>\n",
       "      <td>1529.000000</td>\n",
       "      <td>1053.000000</td>\n",
       "      <td>913.000000</td>\n",
       "      <td>780.000000</td>\n",
       "      <td>390.000000</td>\n",
       "      <td>249.000000</td>\n",
       "      <td>199.000000</td>\n",
       "      <td>15.000000</td>\n",
       "    </tr>\n",
       "    <tr>\n",
       "      <td>50%</td>\n",
       "      <td>130000.000000</td>\n",
       "      <td>34.000000</td>\n",
       "      <td>0.000000</td>\n",
       "      <td>0.000000</td>\n",
       "      <td>0.000000</td>\n",
       "      <td>0.000000</td>\n",
       "      <td>0.000000</td>\n",
       "      <td>0.000000</td>\n",
       "      <td>21026.000000</td>\n",
       "      <td>20168.000000</td>\n",
       "      <td>19381.000000</td>\n",
       "      <td>18362.000000</td>\n",
       "      <td>17147.000000</td>\n",
       "      <td>15788.000000</td>\n",
       "      <td>2018.000000</td>\n",
       "      <td>2000.000000</td>\n",
       "      <td>1700.000000</td>\n",
       "      <td>1430.000000</td>\n",
       "      <td>1452.000000</td>\n",
       "      <td>1348.000000</td>\n",
       "    </tr>\n",
       "    <tr>\n",
       "      <td>75%</td>\n",
       "      <td>230000.000000</td>\n",
       "      <td>41.000000</td>\n",
       "      <td>0.000000</td>\n",
       "      <td>0.000000</td>\n",
       "      <td>0.000000</td>\n",
       "      <td>0.000000</td>\n",
       "      <td>0.000000</td>\n",
       "      <td>0.000000</td>\n",
       "      <td>62080.000000</td>\n",
       "      <td>58994.000000</td>\n",
       "      <td>55185.000000</td>\n",
       "      <td>49671.000000</td>\n",
       "      <td>46917.000000</td>\n",
       "      <td>45199.000000</td>\n",
       "      <td>5000.000000</td>\n",
       "      <td>4808.000000</td>\n",
       "      <td>4005.000000</td>\n",
       "      <td>3766.000000</td>\n",
       "      <td>3754.000000</td>\n",
       "      <td>3620.000000</td>\n",
       "    </tr>\n",
       "    <tr>\n",
       "      <td>max</td>\n",
       "      <td>750000.000000</td>\n",
       "      <td>75.000000</td>\n",
       "      <td>5.000000</td>\n",
       "      <td>5.000000</td>\n",
       "      <td>5.000000</td>\n",
       "      <td>5.000000</td>\n",
       "      <td>4.000000</td>\n",
       "      <td>4.000000</td>\n",
       "      <td>379080.000000</td>\n",
       "      <td>365353.000000</td>\n",
       "      <td>355496.000000</td>\n",
       "      <td>328616.000000</td>\n",
       "      <td>311458.000000</td>\n",
       "      <td>306652.000000</td>\n",
       "      <td>80019.000000</td>\n",
       "      <td>108168.000000</td>\n",
       "      <td>83731.000000</td>\n",
       "      <td>75206.000000</td>\n",
       "      <td>73512.000000</td>\n",
       "      <td>85000.000000</td>\n",
       "    </tr>\n",
       "  </tbody>\n",
       "</table>\n",
       "</div>"
      ],
      "text/plain": [
       "           LIMIT_BAL           AGE         PAY_0         PAY_2         PAY_3  \\\n",
       "count   28297.000000  28297.000000  28297.000000  28297.000000  28297.000000   \n",
       "mean   159209.092130     35.403046     -0.021698     -0.139025     -0.177581   \n",
       "std    123260.283683      9.235255      1.089938      1.177027      1.163735   \n",
       "min     10000.000000     21.000000     -2.000000     -2.000000     -2.000000   \n",
       "25%     50000.000000     28.000000     -1.000000     -1.000000     -1.000000   \n",
       "50%    130000.000000     34.000000      0.000000      0.000000      0.000000   \n",
       "75%    230000.000000     41.000000      0.000000      0.000000      0.000000   \n",
       "max    750000.000000     75.000000      5.000000      5.000000      5.000000   \n",
       "\n",
       "              PAY_4         PAY_5         PAY_6      BILL_AMT1      BILL_AMT2  \\\n",
       "count  28297.000000  28297.000000  28297.000000   28297.000000   28297.000000   \n",
       "mean      -0.239425     -0.286992     -0.313885   45977.853377   43740.683677   \n",
       "std        1.118238      1.083429      1.104679   60968.347786   58510.977780   \n",
       "min       -2.000000     -2.000000     -2.000000  -11545.000000  -69777.000000   \n",
       "25%       -1.000000     -1.000000     -1.000000    3366.000000    2798.000000   \n",
       "50%        0.000000      0.000000      0.000000   21026.000000   20168.000000   \n",
       "75%        0.000000      0.000000      0.000000   62080.000000   58994.000000   \n",
       "max        5.000000      4.000000      4.000000  379080.000000  365353.000000   \n",
       "\n",
       "           BILL_AMT3      BILL_AMT4      BILL_AMT5      BILL_AMT6  \\\n",
       "count   28297.000000   28297.000000   28297.000000   28297.000000   \n",
       "mean    41420.425805   37811.782945   35000.531010   33562.753825   \n",
       "std     55876.264115   51973.614702   49131.534704   48141.557038   \n",
       "min    -46127.000000  -50616.000000  -53007.000000  -94625.000000   \n",
       "25%      2482.000000    2049.000000    1529.000000    1053.000000   \n",
       "50%     19381.000000   18362.000000   17147.000000   15788.000000   \n",
       "75%     55185.000000   49671.000000   46917.000000   45199.000000   \n",
       "max    355496.000000  328616.000000  311458.000000  306652.000000   \n",
       "\n",
       "           PAY_AMT1       PAY_AMT2      PAY_AMT3      PAY_AMT4      PAY_AMT5  \\\n",
       "count  28297.000000   28297.000000  28297.000000  28297.000000  28297.000000   \n",
       "mean    4258.430823    4377.426582   3768.369332   3459.536064   3409.750504   \n",
       "std     7361.188654    8718.346146   7241.375536   6917.062529   6687.582278   \n",
       "min        0.000000       0.000000      0.000000      0.000000      0.000000   \n",
       "25%      913.000000     780.000000    390.000000    249.000000    199.000000   \n",
       "50%     2018.000000    2000.000000   1700.000000   1430.000000   1452.000000   \n",
       "75%     5000.000000    4808.000000   4005.000000   3766.000000   3754.000000   \n",
       "max    80019.000000  108168.000000  83731.000000  75206.000000  73512.000000   \n",
       "\n",
       "           PAY_AMT6  \n",
       "count  28297.000000  \n",
       "mean    3500.157967  \n",
       "std     7473.770503  \n",
       "min        0.000000  \n",
       "25%       15.000000  \n",
       "50%     1348.000000  \n",
       "75%     3620.000000  \n",
       "max    85000.000000  "
      ]
     },
     "execution_count": 25,
     "metadata": {},
     "output_type": "execute_result"
    }
   ],
   "source": [
    "credit_o.describe()"
   ]
  },
  {
   "cell_type": "code",
   "execution_count": 27,
   "metadata": {},
   "outputs": [
    {
     "data": {
      "text/plain": [
       "2    13343\n",
       "1     9877\n",
       "3     4699\n",
       "5      249\n",
       "4      115\n",
       "0       14\n",
       "Name: EDUCATION, dtype: int64"
      ]
     },
     "execution_count": 27,
     "metadata": {},
     "output_type": "execute_result"
    }
   ],
   "source": [
    "credit_o[\"EDUCATION\"].value_counts() "
   ]
  },
  {
   "cell_type": "code",
   "execution_count": 28,
   "metadata": {},
   "outputs": [
    {
     "data": {
      "text/plain": [
       "2    14030\n",
       "1    10585\n",
       "3     4917\n",
       "5      280\n",
       "4      123\n",
       "6       51\n",
       "0       14\n",
       "Name: EDUCATION, dtype: int64"
      ]
     },
     "execution_count": 28,
     "metadata": {},
     "output_type": "execute_result"
    }
   ],
   "source": [
    "credit [\"EDUCATION\"].value_counts()"
   ]
  },
  {
   "cell_type": "code",
   "execution_count": 13,
   "metadata": {},
   "outputs": [
    {
     "data": {
      "text/html": [
       "<div>\n",
       "<style scoped>\n",
       "    .dataframe tbody tr th:only-of-type {\n",
       "        vertical-align: middle;\n",
       "    }\n",
       "\n",
       "    .dataframe tbody tr th {\n",
       "        vertical-align: top;\n",
       "    }\n",
       "\n",
       "    .dataframe thead th {\n",
       "        text-align: right;\n",
       "    }\n",
       "</style>\n",
       "<table border=\"1\" class=\"dataframe\">\n",
       "  <thead>\n",
       "    <tr style=\"text-align: right;\">\n",
       "      <th></th>\n",
       "      <th>LIMIT_BAL</th>\n",
       "      <th>SEX</th>\n",
       "      <th>EDUCATION</th>\n",
       "      <th>MARRIAGE</th>\n",
       "      <th>AGE</th>\n",
       "      <th>PAY_0</th>\n",
       "      <th>PAY_2</th>\n",
       "      <th>PAY_3</th>\n",
       "      <th>PAY_4</th>\n",
       "      <th>PAY_5</th>\n",
       "      <th>...</th>\n",
       "      <th>BILL_AMT4</th>\n",
       "      <th>BILL_AMT5</th>\n",
       "      <th>BILL_AMT6</th>\n",
       "      <th>PAY_AMT1</th>\n",
       "      <th>PAY_AMT2</th>\n",
       "      <th>PAY_AMT3</th>\n",
       "      <th>PAY_AMT4</th>\n",
       "      <th>PAY_AMT5</th>\n",
       "      <th>PAY_AMT6</th>\n",
       "      <th>DEFAULT</th>\n",
       "    </tr>\n",
       "  </thead>\n",
       "  <tbody>\n",
       "    <tr>\n",
       "      <td>47</td>\n",
       "      <td>150000</td>\n",
       "      <td>2</td>\n",
       "      <td>5</td>\n",
       "      <td>2</td>\n",
       "      <td>46</td>\n",
       "      <td>0</td>\n",
       "      <td>0</td>\n",
       "      <td>-1</td>\n",
       "      <td>0</td>\n",
       "      <td>0</td>\n",
       "      <td>...</td>\n",
       "      <td>1170</td>\n",
       "      <td>0</td>\n",
       "      <td>0</td>\n",
       "      <td>1013</td>\n",
       "      <td>1170</td>\n",
       "      <td>0</td>\n",
       "      <td>0</td>\n",
       "      <td>0</td>\n",
       "      <td>0</td>\n",
       "      <td>1</td>\n",
       "    </tr>\n",
       "    <tr>\n",
       "      <td>69</td>\n",
       "      <td>20000</td>\n",
       "      <td>1</td>\n",
       "      <td>5</td>\n",
       "      <td>2</td>\n",
       "      <td>22</td>\n",
       "      <td>2</td>\n",
       "      <td>0</td>\n",
       "      <td>0</td>\n",
       "      <td>0</td>\n",
       "      <td>0</td>\n",
       "      <td>...</td>\n",
       "      <td>18085</td>\n",
       "      <td>11205</td>\n",
       "      <td>5982</td>\n",
       "      <td>0</td>\n",
       "      <td>1200</td>\n",
       "      <td>1000</td>\n",
       "      <td>500</td>\n",
       "      <td>1000</td>\n",
       "      <td>0</td>\n",
       "      <td>0</td>\n",
       "    </tr>\n",
       "    <tr>\n",
       "      <td>358</td>\n",
       "      <td>110000</td>\n",
       "      <td>2</td>\n",
       "      <td>4</td>\n",
       "      <td>2</td>\n",
       "      <td>24</td>\n",
       "      <td>0</td>\n",
       "      <td>0</td>\n",
       "      <td>0</td>\n",
       "      <td>0</td>\n",
       "      <td>0</td>\n",
       "      <td>...</td>\n",
       "      <td>80631</td>\n",
       "      <td>82333</td>\n",
       "      <td>84462</td>\n",
       "      <td>3000</td>\n",
       "      <td>2900</td>\n",
       "      <td>2900</td>\n",
       "      <td>3000</td>\n",
       "      <td>3500</td>\n",
       "      <td>4000</td>\n",
       "      <td>0</td>\n",
       "    </tr>\n",
       "    <tr>\n",
       "      <td>385</td>\n",
       "      <td>410000</td>\n",
       "      <td>2</td>\n",
       "      <td>5</td>\n",
       "      <td>1</td>\n",
       "      <td>42</td>\n",
       "      <td>0</td>\n",
       "      <td>0</td>\n",
       "      <td>0</td>\n",
       "      <td>0</td>\n",
       "      <td>0</td>\n",
       "      <td>...</td>\n",
       "      <td>240865</td>\n",
       "      <td>234939</td>\n",
       "      <td>240176</td>\n",
       "      <td>15000</td>\n",
       "      <td>14000</td>\n",
       "      <td>9000</td>\n",
       "      <td>8500</td>\n",
       "      <td>9000</td>\n",
       "      <td>8300</td>\n",
       "      <td>0</td>\n",
       "    </tr>\n",
       "    <tr>\n",
       "      <td>448</td>\n",
       "      <td>200000</td>\n",
       "      <td>1</td>\n",
       "      <td>4</td>\n",
       "      <td>1</td>\n",
       "      <td>42</td>\n",
       "      <td>0</td>\n",
       "      <td>0</td>\n",
       "      <td>0</td>\n",
       "      <td>0</td>\n",
       "      <td>0</td>\n",
       "      <td>...</td>\n",
       "      <td>30384</td>\n",
       "      <td>30900</td>\n",
       "      <td>0</td>\n",
       "      <td>5000</td>\n",
       "      <td>1485</td>\n",
       "      <td>1956</td>\n",
       "      <td>1500</td>\n",
       "      <td>0</td>\n",
       "      <td>2102</td>\n",
       "      <td>0</td>\n",
       "    </tr>\n",
       "    <tr>\n",
       "      <td>...</td>\n",
       "      <td>...</td>\n",
       "      <td>...</td>\n",
       "      <td>...</td>\n",
       "      <td>...</td>\n",
       "      <td>...</td>\n",
       "      <td>...</td>\n",
       "      <td>...</td>\n",
       "      <td>...</td>\n",
       "      <td>...</td>\n",
       "      <td>...</td>\n",
       "      <td>...</td>\n",
       "      <td>...</td>\n",
       "      <td>...</td>\n",
       "      <td>...</td>\n",
       "      <td>...</td>\n",
       "      <td>...</td>\n",
       "      <td>...</td>\n",
       "      <td>...</td>\n",
       "      <td>...</td>\n",
       "      <td>...</td>\n",
       "      <td>...</td>\n",
       "    </tr>\n",
       "    <tr>\n",
       "      <td>29777</td>\n",
       "      <td>150000</td>\n",
       "      <td>1</td>\n",
       "      <td>4</td>\n",
       "      <td>2</td>\n",
       "      <td>29</td>\n",
       "      <td>0</td>\n",
       "      <td>0</td>\n",
       "      <td>0</td>\n",
       "      <td>0</td>\n",
       "      <td>0</td>\n",
       "      <td>...</td>\n",
       "      <td>69995</td>\n",
       "      <td>60000</td>\n",
       "      <td>0</td>\n",
       "      <td>8500</td>\n",
       "      <td>8000</td>\n",
       "      <td>2500</td>\n",
       "      <td>1500</td>\n",
       "      <td>0</td>\n",
       "      <td>0</td>\n",
       "      <td>1</td>\n",
       "    </tr>\n",
       "    <tr>\n",
       "      <td>29811</td>\n",
       "      <td>50000</td>\n",
       "      <td>1</td>\n",
       "      <td>5</td>\n",
       "      <td>2</td>\n",
       "      <td>46</td>\n",
       "      <td>0</td>\n",
       "      <td>0</td>\n",
       "      <td>0</td>\n",
       "      <td>-1</td>\n",
       "      <td>0</td>\n",
       "      <td>...</td>\n",
       "      <td>19183</td>\n",
       "      <td>19563</td>\n",
       "      <td>19157</td>\n",
       "      <td>1423</td>\n",
       "      <td>1000</td>\n",
       "      <td>19183</td>\n",
       "      <td>687</td>\n",
       "      <td>696</td>\n",
       "      <td>776</td>\n",
       "      <td>0</td>\n",
       "    </tr>\n",
       "    <tr>\n",
       "      <td>29839</td>\n",
       "      <td>150000</td>\n",
       "      <td>1</td>\n",
       "      <td>5</td>\n",
       "      <td>1</td>\n",
       "      <td>36</td>\n",
       "      <td>0</td>\n",
       "      <td>0</td>\n",
       "      <td>0</td>\n",
       "      <td>0</td>\n",
       "      <td>0</td>\n",
       "      <td>...</td>\n",
       "      <td>136378</td>\n",
       "      <td>139219</td>\n",
       "      <td>142172</td>\n",
       "      <td>5500</td>\n",
       "      <td>3800</td>\n",
       "      <td>3900</td>\n",
       "      <td>4000</td>\n",
       "      <td>4100</td>\n",
       "      <td>4100</td>\n",
       "      <td>0</td>\n",
       "    </tr>\n",
       "    <tr>\n",
       "      <td>29920</td>\n",
       "      <td>50000</td>\n",
       "      <td>1</td>\n",
       "      <td>5</td>\n",
       "      <td>1</td>\n",
       "      <td>45</td>\n",
       "      <td>2</td>\n",
       "      <td>0</td>\n",
       "      <td>0</td>\n",
       "      <td>0</td>\n",
       "      <td>0</td>\n",
       "      <td>...</td>\n",
       "      <td>50947</td>\n",
       "      <td>51020</td>\n",
       "      <td>0</td>\n",
       "      <td>3000</td>\n",
       "      <td>3428</td>\n",
       "      <td>2002</td>\n",
       "      <td>1023</td>\n",
       "      <td>0</td>\n",
       "      <td>0</td>\n",
       "      <td>1</td>\n",
       "    </tr>\n",
       "    <tr>\n",
       "      <td>29966</td>\n",
       "      <td>150000</td>\n",
       "      <td>1</td>\n",
       "      <td>5</td>\n",
       "      <td>2</td>\n",
       "      <td>31</td>\n",
       "      <td>2</td>\n",
       "      <td>0</td>\n",
       "      <td>0</td>\n",
       "      <td>0</td>\n",
       "      <td>-2</td>\n",
       "      <td>...</td>\n",
       "      <td>0</td>\n",
       "      <td>0</td>\n",
       "      <td>0</td>\n",
       "      <td>4633</td>\n",
       "      <td>2000</td>\n",
       "      <td>0</td>\n",
       "      <td>0</td>\n",
       "      <td>0</td>\n",
       "      <td>0</td>\n",
       "      <td>1</td>\n",
       "    </tr>\n",
       "  </tbody>\n",
       "</table>\n",
       "<p>378 rows × 24 columns</p>\n",
       "</div>"
      ],
      "text/plain": [
       "       LIMIT_BAL SEX EDUCATION MARRIAGE  AGE PAY_0 PAY_2 PAY_3 PAY_4 PAY_5  \\\n",
       "47        150000   2         5        2   46     0     0    -1     0     0   \n",
       "69         20000   1         5        2   22     2     0     0     0     0   \n",
       "358       110000   2         4        2   24     0     0     0     0     0   \n",
       "385       410000   2         5        1   42     0     0     0     0     0   \n",
       "448       200000   1         4        1   42     0     0     0     0     0   \n",
       "...          ...  ..       ...      ...  ...   ...   ...   ...   ...   ...   \n",
       "29777     150000   1         4        2   29     0     0     0     0     0   \n",
       "29811      50000   1         5        2   46     0     0     0    -1     0   \n",
       "29839     150000   1         5        1   36     0     0     0     0     0   \n",
       "29920      50000   1         5        1   45     2     0     0     0     0   \n",
       "29966     150000   1         5        2   31     2     0     0     0    -2   \n",
       "\n",
       "       ... BILL_AMT4  BILL_AMT5  BILL_AMT6  PAY_AMT1  PAY_AMT2  PAY_AMT3  \\\n",
       "47     ...      1170          0          0      1013      1170         0   \n",
       "69     ...     18085      11205       5982         0      1200      1000   \n",
       "358    ...     80631      82333      84462      3000      2900      2900   \n",
       "385    ...    240865     234939     240176     15000     14000      9000   \n",
       "448    ...     30384      30900          0      5000      1485      1956   \n",
       "...    ...       ...        ...        ...       ...       ...       ...   \n",
       "29777  ...     69995      60000          0      8500      8000      2500   \n",
       "29811  ...     19183      19563      19157      1423      1000     19183   \n",
       "29839  ...    136378     139219     142172      5500      3800      3900   \n",
       "29920  ...     50947      51020          0      3000      3428      2002   \n",
       "29966  ...         0          0          0      4633      2000         0   \n",
       "\n",
       "       PAY_AMT4  PAY_AMT5  PAY_AMT6  DEFAULT  \n",
       "47            0         0         0        1  \n",
       "69          500      1000         0        0  \n",
       "358        3000      3500      4000        0  \n",
       "385        8500      9000      8300        0  \n",
       "448        1500         0      2102        0  \n",
       "...         ...       ...       ...      ...  \n",
       "29777      1500         0         0        1  \n",
       "29811       687       696       776        0  \n",
       "29839      4000      4100      4100        0  \n",
       "29920      1023         0         0        1  \n",
       "29966         0         0         0        1  \n",
       "\n",
       "[378 rows x 24 columns]"
      ]
     },
     "execution_count": 13,
     "metadata": {},
     "output_type": "execute_result"
    }
   ],
   "source": [
    "credit_o.loc[credit_o['EDUCATION'].isin([6,5,4,0])]"
   ]
  },
  {
   "cell_type": "code",
   "execution_count": 15,
   "metadata": {},
   "outputs": [
    {
     "data": {
      "text/html": [
       "<div>\n",
       "<style scoped>\n",
       "    .dataframe tbody tr th:only-of-type {\n",
       "        vertical-align: middle;\n",
       "    }\n",
       "\n",
       "    .dataframe tbody tr th {\n",
       "        vertical-align: top;\n",
       "    }\n",
       "\n",
       "    .dataframe thead th {\n",
       "        text-align: right;\n",
       "    }\n",
       "</style>\n",
       "<table border=\"1\" class=\"dataframe\">\n",
       "  <thead>\n",
       "    <tr style=\"text-align: right;\">\n",
       "      <th></th>\n",
       "      <th>LIMIT_BAL</th>\n",
       "      <th>SEX</th>\n",
       "      <th>EDUCATION</th>\n",
       "      <th>MARRIAGE</th>\n",
       "      <th>AGE</th>\n",
       "      <th>PAY_0</th>\n",
       "      <th>PAY_2</th>\n",
       "      <th>PAY_3</th>\n",
       "      <th>PAY_4</th>\n",
       "      <th>PAY_5</th>\n",
       "      <th>...</th>\n",
       "      <th>BILL_AMT4</th>\n",
       "      <th>BILL_AMT5</th>\n",
       "      <th>BILL_AMT6</th>\n",
       "      <th>PAY_AMT1</th>\n",
       "      <th>PAY_AMT2</th>\n",
       "      <th>PAY_AMT3</th>\n",
       "      <th>PAY_AMT4</th>\n",
       "      <th>PAY_AMT5</th>\n",
       "      <th>PAY_AMT6</th>\n",
       "      <th>DEFAULT</th>\n",
       "    </tr>\n",
       "  </thead>\n",
       "  <tbody>\n",
       "    <tr>\n",
       "      <td>47</td>\n",
       "      <td>150000</td>\n",
       "      <td>2</td>\n",
       "      <td>5</td>\n",
       "      <td>2</td>\n",
       "      <td>46</td>\n",
       "      <td>0</td>\n",
       "      <td>0</td>\n",
       "      <td>-1</td>\n",
       "      <td>0</td>\n",
       "      <td>0</td>\n",
       "      <td>...</td>\n",
       "      <td>1170</td>\n",
       "      <td>0</td>\n",
       "      <td>0</td>\n",
       "      <td>1013</td>\n",
       "      <td>1170</td>\n",
       "      <td>0</td>\n",
       "      <td>0</td>\n",
       "      <td>0</td>\n",
       "      <td>0</td>\n",
       "      <td>1</td>\n",
       "    </tr>\n",
       "    <tr>\n",
       "      <td>69</td>\n",
       "      <td>20000</td>\n",
       "      <td>1</td>\n",
       "      <td>5</td>\n",
       "      <td>2</td>\n",
       "      <td>22</td>\n",
       "      <td>2</td>\n",
       "      <td>0</td>\n",
       "      <td>0</td>\n",
       "      <td>0</td>\n",
       "      <td>0</td>\n",
       "      <td>...</td>\n",
       "      <td>18085</td>\n",
       "      <td>11205</td>\n",
       "      <td>5982</td>\n",
       "      <td>0</td>\n",
       "      <td>1200</td>\n",
       "      <td>1000</td>\n",
       "      <td>500</td>\n",
       "      <td>1000</td>\n",
       "      <td>0</td>\n",
       "      <td>0</td>\n",
       "    </tr>\n",
       "    <tr>\n",
       "      <td>358</td>\n",
       "      <td>110000</td>\n",
       "      <td>2</td>\n",
       "      <td>4</td>\n",
       "      <td>2</td>\n",
       "      <td>24</td>\n",
       "      <td>0</td>\n",
       "      <td>0</td>\n",
       "      <td>0</td>\n",
       "      <td>0</td>\n",
       "      <td>0</td>\n",
       "      <td>...</td>\n",
       "      <td>80631</td>\n",
       "      <td>82333</td>\n",
       "      <td>84462</td>\n",
       "      <td>3000</td>\n",
       "      <td>2900</td>\n",
       "      <td>2900</td>\n",
       "      <td>3000</td>\n",
       "      <td>3500</td>\n",
       "      <td>4000</td>\n",
       "      <td>0</td>\n",
       "    </tr>\n",
       "    <tr>\n",
       "      <td>385</td>\n",
       "      <td>410000</td>\n",
       "      <td>2</td>\n",
       "      <td>5</td>\n",
       "      <td>1</td>\n",
       "      <td>42</td>\n",
       "      <td>0</td>\n",
       "      <td>0</td>\n",
       "      <td>0</td>\n",
       "      <td>0</td>\n",
       "      <td>0</td>\n",
       "      <td>...</td>\n",
       "      <td>240865</td>\n",
       "      <td>234939</td>\n",
       "      <td>240176</td>\n",
       "      <td>15000</td>\n",
       "      <td>14000</td>\n",
       "      <td>9000</td>\n",
       "      <td>8500</td>\n",
       "      <td>9000</td>\n",
       "      <td>8300</td>\n",
       "      <td>0</td>\n",
       "    </tr>\n",
       "    <tr>\n",
       "      <td>448</td>\n",
       "      <td>200000</td>\n",
       "      <td>1</td>\n",
       "      <td>4</td>\n",
       "      <td>1</td>\n",
       "      <td>42</td>\n",
       "      <td>0</td>\n",
       "      <td>0</td>\n",
       "      <td>0</td>\n",
       "      <td>0</td>\n",
       "      <td>0</td>\n",
       "      <td>...</td>\n",
       "      <td>30384</td>\n",
       "      <td>30900</td>\n",
       "      <td>0</td>\n",
       "      <td>5000</td>\n",
       "      <td>1485</td>\n",
       "      <td>1956</td>\n",
       "      <td>1500</td>\n",
       "      <td>0</td>\n",
       "      <td>2102</td>\n",
       "      <td>0</td>\n",
       "    </tr>\n",
       "    <tr>\n",
       "      <td>...</td>\n",
       "      <td>...</td>\n",
       "      <td>...</td>\n",
       "      <td>...</td>\n",
       "      <td>...</td>\n",
       "      <td>...</td>\n",
       "      <td>...</td>\n",
       "      <td>...</td>\n",
       "      <td>...</td>\n",
       "      <td>...</td>\n",
       "      <td>...</td>\n",
       "      <td>...</td>\n",
       "      <td>...</td>\n",
       "      <td>...</td>\n",
       "      <td>...</td>\n",
       "      <td>...</td>\n",
       "      <td>...</td>\n",
       "      <td>...</td>\n",
       "      <td>...</td>\n",
       "      <td>...</td>\n",
       "      <td>...</td>\n",
       "      <td>...</td>\n",
       "    </tr>\n",
       "    <tr>\n",
       "      <td>29836</td>\n",
       "      <td>180000</td>\n",
       "      <td>1</td>\n",
       "      <td>6</td>\n",
       "      <td>1</td>\n",
       "      <td>34</td>\n",
       "      <td>-2</td>\n",
       "      <td>-2</td>\n",
       "      <td>-2</td>\n",
       "      <td>-2</td>\n",
       "      <td>-2</td>\n",
       "      <td>...</td>\n",
       "      <td>0</td>\n",
       "      <td>0</td>\n",
       "      <td>0</td>\n",
       "      <td>0</td>\n",
       "      <td>0</td>\n",
       "      <td>0</td>\n",
       "      <td>0</td>\n",
       "      <td>0</td>\n",
       "      <td>0</td>\n",
       "      <td>0</td>\n",
       "    </tr>\n",
       "    <tr>\n",
       "      <td>29839</td>\n",
       "      <td>150000</td>\n",
       "      <td>1</td>\n",
       "      <td>5</td>\n",
       "      <td>1</td>\n",
       "      <td>36</td>\n",
       "      <td>0</td>\n",
       "      <td>0</td>\n",
       "      <td>0</td>\n",
       "      <td>0</td>\n",
       "      <td>0</td>\n",
       "      <td>...</td>\n",
       "      <td>136378</td>\n",
       "      <td>139219</td>\n",
       "      <td>142172</td>\n",
       "      <td>5500</td>\n",
       "      <td>3800</td>\n",
       "      <td>3900</td>\n",
       "      <td>4000</td>\n",
       "      <td>4100</td>\n",
       "      <td>4100</td>\n",
       "      <td>0</td>\n",
       "    </tr>\n",
       "    <tr>\n",
       "      <td>29847</td>\n",
       "      <td>310000</td>\n",
       "      <td>1</td>\n",
       "      <td>4</td>\n",
       "      <td>1</td>\n",
       "      <td>46</td>\n",
       "      <td>-1</td>\n",
       "      <td>-1</td>\n",
       "      <td>-1</td>\n",
       "      <td>-1</td>\n",
       "      <td>-1</td>\n",
       "      <td>...</td>\n",
       "      <td>91238</td>\n",
       "      <td>18293</td>\n",
       "      <td>14332</td>\n",
       "      <td>10414</td>\n",
       "      <td>21229</td>\n",
       "      <td>91254</td>\n",
       "      <td>18293</td>\n",
       "      <td>14332</td>\n",
       "      <td>15785</td>\n",
       "      <td>0</td>\n",
       "    </tr>\n",
       "    <tr>\n",
       "      <td>29920</td>\n",
       "      <td>50000</td>\n",
       "      <td>1</td>\n",
       "      <td>5</td>\n",
       "      <td>1</td>\n",
       "      <td>45</td>\n",
       "      <td>2</td>\n",
       "      <td>0</td>\n",
       "      <td>0</td>\n",
       "      <td>0</td>\n",
       "      <td>0</td>\n",
       "      <td>...</td>\n",
       "      <td>50947</td>\n",
       "      <td>51020</td>\n",
       "      <td>0</td>\n",
       "      <td>3000</td>\n",
       "      <td>3428</td>\n",
       "      <td>2002</td>\n",
       "      <td>1023</td>\n",
       "      <td>0</td>\n",
       "      <td>0</td>\n",
       "      <td>1</td>\n",
       "    </tr>\n",
       "    <tr>\n",
       "      <td>29966</td>\n",
       "      <td>150000</td>\n",
       "      <td>1</td>\n",
       "      <td>5</td>\n",
       "      <td>2</td>\n",
       "      <td>31</td>\n",
       "      <td>2</td>\n",
       "      <td>0</td>\n",
       "      <td>0</td>\n",
       "      <td>0</td>\n",
       "      <td>-2</td>\n",
       "      <td>...</td>\n",
       "      <td>0</td>\n",
       "      <td>0</td>\n",
       "      <td>0</td>\n",
       "      <td>4633</td>\n",
       "      <td>2000</td>\n",
       "      <td>0</td>\n",
       "      <td>0</td>\n",
       "      <td>0</td>\n",
       "      <td>0</td>\n",
       "      <td>1</td>\n",
       "    </tr>\n",
       "  </tbody>\n",
       "</table>\n",
       "<p>468 rows × 24 columns</p>\n",
       "</div>"
      ],
      "text/plain": [
       "       LIMIT_BAL SEX EDUCATION MARRIAGE  AGE PAY_0 PAY_2 PAY_3 PAY_4 PAY_5  \\\n",
       "47        150000   2         5        2   46     0     0    -1     0     0   \n",
       "69         20000   1         5        2   22     2     0     0     0     0   \n",
       "358       110000   2         4        2   24     0     0     0     0     0   \n",
       "385       410000   2         5        1   42     0     0     0     0     0   \n",
       "448       200000   1         4        1   42     0     0     0     0     0   \n",
       "...          ...  ..       ...      ...  ...   ...   ...   ...   ...   ...   \n",
       "29836     180000   1         6        1   34    -2    -2    -2    -2    -2   \n",
       "29839     150000   1         5        1   36     0     0     0     0     0   \n",
       "29847     310000   1         4        1   46    -1    -1    -1    -1    -1   \n",
       "29920      50000   1         5        1   45     2     0     0     0     0   \n",
       "29966     150000   1         5        2   31     2     0     0     0    -2   \n",
       "\n",
       "       ... BILL_AMT4  BILL_AMT5  BILL_AMT6  PAY_AMT1  PAY_AMT2  PAY_AMT3  \\\n",
       "47     ...      1170          0          0      1013      1170         0   \n",
       "69     ...     18085      11205       5982         0      1200      1000   \n",
       "358    ...     80631      82333      84462      3000      2900      2900   \n",
       "385    ...    240865     234939     240176     15000     14000      9000   \n",
       "448    ...     30384      30900          0      5000      1485      1956   \n",
       "...    ...       ...        ...        ...       ...       ...       ...   \n",
       "29836  ...         0          0          0         0         0         0   \n",
       "29839  ...    136378     139219     142172      5500      3800      3900   \n",
       "29847  ...     91238      18293      14332     10414     21229     91254   \n",
       "29920  ...     50947      51020          0      3000      3428      2002   \n",
       "29966  ...         0          0          0      4633      2000         0   \n",
       "\n",
       "       PAY_AMT4  PAY_AMT5  PAY_AMT6  DEFAULT  \n",
       "47            0         0         0        1  \n",
       "69          500      1000         0        0  \n",
       "358        3000      3500      4000        0  \n",
       "385        8500      9000      8300        0  \n",
       "448        1500         0      2102        0  \n",
       "...         ...       ...       ...      ...  \n",
       "29836         0         0         0        0  \n",
       "29839      4000      4100      4100        0  \n",
       "29847     18293     14332     15785        0  \n",
       "29920      1023         0         0        1  \n",
       "29966         0         0         0        1  \n",
       "\n",
       "[468 rows x 24 columns]"
      ]
     },
     "execution_count": 15,
     "metadata": {},
     "output_type": "execute_result"
    }
   ],
   "source": [
    "credit.loc[credit['EDUCATION'].isin([6,5,4,0])]"
   ]
  },
  {
   "cell_type": "code",
   "execution_count": 33,
   "metadata": {},
   "outputs": [],
   "source": [
    "#Replacing Education values to OTHER (simplification)\n",
    "#Run for 6,5 and 4\n",
    "credit_o.replace({\"EDUCATION\":{6:0}}, inplace = True)"
   ]
  },
  {
   "cell_type": "code",
   "execution_count": 35,
   "metadata": {},
   "outputs": [],
   "source": [
    "#Replacing Education values to OTHER (simplification)\n",
    "credit.replace({\"EDUCATION\":{6:0}}, inplace = True)"
   ]
  },
  {
   "cell_type": "code",
   "execution_count": 36,
   "metadata": {},
   "outputs": [
    {
     "data": {
      "text/plain": [
       "2    13343\n",
       "1     9877\n",
       "3     4699\n",
       "0      378\n",
       "Name: EDUCATION, dtype: int64"
      ]
     },
     "execution_count": 36,
     "metadata": {},
     "output_type": "execute_result"
    }
   ],
   "source": [
    "credit_o[\"EDUCATION\"].value_counts() "
   ]
  },
  {
   "cell_type": "code",
   "execution_count": 37,
   "metadata": {},
   "outputs": [
    {
     "data": {
      "text/plain": [
       "2    14030\n",
       "1    10585\n",
       "3     4917\n",
       "0      468\n",
       "Name: EDUCATION, dtype: int64"
      ]
     },
     "execution_count": 37,
     "metadata": {},
     "output_type": "execute_result"
    }
   ],
   "source": [
    "credit[\"EDUCATION\"].value_counts() "
   ]
  },
  {
   "cell_type": "code",
   "execution_count": 42,
   "metadata": {},
   "outputs": [],
   "source": [
    "credit['EDUCATION'] = credit['EDUCATION'].astype('category')\n",
    "credit_o['EDUCATION'] = credit_o['EDUCATION'].astype('category')"
   ]
  },
  {
   "cell_type": "code",
   "execution_count": 43,
   "metadata": {},
   "outputs": [
    {
     "data": {
      "text/html": [
       "<div>\n",
       "<style scoped>\n",
       "    .dataframe tbody tr th:only-of-type {\n",
       "        vertical-align: middle;\n",
       "    }\n",
       "\n",
       "    .dataframe tbody tr th {\n",
       "        vertical-align: top;\n",
       "    }\n",
       "\n",
       "    .dataframe thead tr th {\n",
       "        text-align: left;\n",
       "    }\n",
       "\n",
       "    .dataframe thead tr:last-of-type th {\n",
       "        text-align: right;\n",
       "    }\n",
       "</style>\n",
       "<table border=\"1\" class=\"dataframe\">\n",
       "  <thead>\n",
       "    <tr>\n",
       "      <th></th>\n",
       "      <th></th>\n",
       "      <th colspan=\"8\" halign=\"left\">LIMIT_BAL</th>\n",
       "      <th colspan=\"2\" halign=\"left\">AGE</th>\n",
       "      <th>...</th>\n",
       "      <th colspan=\"2\" halign=\"left\">PAY_AMT5</th>\n",
       "      <th colspan=\"8\" halign=\"left\">PAY_AMT6</th>\n",
       "    </tr>\n",
       "    <tr>\n",
       "      <th></th>\n",
       "      <th></th>\n",
       "      <th>count</th>\n",
       "      <th>mean</th>\n",
       "      <th>std</th>\n",
       "      <th>min</th>\n",
       "      <th>25%</th>\n",
       "      <th>50%</th>\n",
       "      <th>75%</th>\n",
       "      <th>max</th>\n",
       "      <th>count</th>\n",
       "      <th>mean</th>\n",
       "      <th>...</th>\n",
       "      <th>75%</th>\n",
       "      <th>max</th>\n",
       "      <th>count</th>\n",
       "      <th>mean</th>\n",
       "      <th>std</th>\n",
       "      <th>min</th>\n",
       "      <th>25%</th>\n",
       "      <th>50%</th>\n",
       "      <th>75%</th>\n",
       "      <th>max</th>\n",
       "    </tr>\n",
       "    <tr>\n",
       "      <th>DEFAULT</th>\n",
       "      <th>SEX</th>\n",
       "      <th></th>\n",
       "      <th></th>\n",
       "      <th></th>\n",
       "      <th></th>\n",
       "      <th></th>\n",
       "      <th></th>\n",
       "      <th></th>\n",
       "      <th></th>\n",
       "      <th></th>\n",
       "      <th></th>\n",
       "      <th></th>\n",
       "      <th></th>\n",
       "      <th></th>\n",
       "      <th></th>\n",
       "      <th></th>\n",
       "      <th></th>\n",
       "      <th></th>\n",
       "      <th></th>\n",
       "      <th></th>\n",
       "      <th></th>\n",
       "      <th></th>\n",
       "    </tr>\n",
       "  </thead>\n",
       "  <tbody>\n",
       "    <tr>\n",
       "      <td rowspan=\"2\" valign=\"top\">0</td>\n",
       "      <td>1</td>\n",
       "      <td>9015.0</td>\n",
       "      <td>175510.371603</td>\n",
       "      <td>139488.384482</td>\n",
       "      <td>10000.0</td>\n",
       "      <td>50000.0</td>\n",
       "      <td>150000.0</td>\n",
       "      <td>260000.0</td>\n",
       "      <td>800000.0</td>\n",
       "      <td>9015.0</td>\n",
       "      <td>36.428619</td>\n",
       "      <td>...</td>\n",
       "      <td>4500.0</td>\n",
       "      <td>326889.0</td>\n",
       "      <td>9015.0</td>\n",
       "      <td>5821.985358</td>\n",
       "      <td>19917.893251</td>\n",
       "      <td>0.0</td>\n",
       "      <td>248.0</td>\n",
       "      <td>1501.0</td>\n",
       "      <td>4400.0</td>\n",
       "      <td>527143.0</td>\n",
       "    </tr>\n",
       "    <tr>\n",
       "      <td>2</td>\n",
       "      <td>14349.0</td>\n",
       "      <td>179726.531466</td>\n",
       "      <td>126418.360295</td>\n",
       "      <td>10000.0</td>\n",
       "      <td>80000.0</td>\n",
       "      <td>160000.0</td>\n",
       "      <td>250000.0</td>\n",
       "      <td>1000000.0</td>\n",
       "      <td>14349.0</td>\n",
       "      <td>34.781866</td>\n",
       "      <td>...</td>\n",
       "      <td>4684.0</td>\n",
       "      <td>426529.0</td>\n",
       "      <td>14349.0</td>\n",
       "      <td>5654.903059</td>\n",
       "      <td>18050.776184</td>\n",
       "      <td>0.0</td>\n",
       "      <td>323.0</td>\n",
       "      <td>1853.0</td>\n",
       "      <td>4688.0</td>\n",
       "      <td>528666.0</td>\n",
       "    </tr>\n",
       "    <tr>\n",
       "      <td rowspan=\"2\" valign=\"top\">1</td>\n",
       "      <td>1</td>\n",
       "      <td>2873.0</td>\n",
       "      <td>125895.468152</td>\n",
       "      <td>117902.950137</td>\n",
       "      <td>10000.0</td>\n",
       "      <td>30000.0</td>\n",
       "      <td>80000.0</td>\n",
       "      <td>190000.0</td>\n",
       "      <td>720000.0</td>\n",
       "      <td>2873.0</td>\n",
       "      <td>36.804386</td>\n",
       "      <td>...</td>\n",
       "      <td>3000.0</td>\n",
       "      <td>332000.0</td>\n",
       "      <td>2873.0</td>\n",
       "      <td>3563.602158</td>\n",
       "      <td>14557.195429</td>\n",
       "      <td>0.0</td>\n",
       "      <td>0.0</td>\n",
       "      <td>960.0</td>\n",
       "      <td>2800.0</td>\n",
       "      <td>345293.0</td>\n",
       "    </tr>\n",
       "    <tr>\n",
       "      <td>2</td>\n",
       "      <td>3763.0</td>\n",
       "      <td>133327.132607</td>\n",
       "      <td>113323.651312</td>\n",
       "      <td>10000.0</td>\n",
       "      <td>50000.0</td>\n",
       "      <td>100000.0</td>\n",
       "      <td>200000.0</td>\n",
       "      <td>740000.0</td>\n",
       "      <td>3763.0</td>\n",
       "      <td>34.902206</td>\n",
       "      <td>...</td>\n",
       "      <td>3000.0</td>\n",
       "      <td>330982.0</td>\n",
       "      <td>3763.0</td>\n",
       "      <td>3348.245017</td>\n",
       "      <td>12566.701734</td>\n",
       "      <td>0.0</td>\n",
       "      <td>0.0</td>\n",
       "      <td>1001.0</td>\n",
       "      <td>3000.0</td>\n",
       "      <td>287982.0</td>\n",
       "    </tr>\n",
       "  </tbody>\n",
       "</table>\n",
       "<p>4 rows × 112 columns</p>\n",
       "</div>"
      ],
      "text/plain": [
       "            LIMIT_BAL                                                  \\\n",
       "                count           mean            std      min      25%   \n",
       "DEFAULT SEX                                                             \n",
       "0       1      9015.0  175510.371603  139488.384482  10000.0  50000.0   \n",
       "        2     14349.0  179726.531466  126418.360295  10000.0  80000.0   \n",
       "1       1      2873.0  125895.468152  117902.950137  10000.0  30000.0   \n",
       "        2      3763.0  133327.132607  113323.651312  10000.0  50000.0   \n",
       "\n",
       "                                                AGE             ... PAY_AMT5  \\\n",
       "                  50%       75%        max    count       mean  ...      75%   \n",
       "DEFAULT SEX                                                     ...            \n",
       "0       1    150000.0  260000.0   800000.0   9015.0  36.428619  ...   4500.0   \n",
       "        2    160000.0  250000.0  1000000.0  14349.0  34.781866  ...   4684.0   \n",
       "1       1     80000.0  190000.0   720000.0   2873.0  36.804386  ...   3000.0   \n",
       "        2    100000.0  200000.0   740000.0   3763.0  34.902206  ...   3000.0   \n",
       "\n",
       "                      PAY_AMT6                                                 \\\n",
       "                  max    count         mean           std  min    25%     50%   \n",
       "DEFAULT SEX                                                                     \n",
       "0       1    326889.0   9015.0  5821.985358  19917.893251  0.0  248.0  1501.0   \n",
       "        2    426529.0  14349.0  5654.903059  18050.776184  0.0  323.0  1853.0   \n",
       "1       1    332000.0   2873.0  3563.602158  14557.195429  0.0    0.0   960.0   \n",
       "        2    330982.0   3763.0  3348.245017  12566.701734  0.0    0.0  1001.0   \n",
       "\n",
       "                               \n",
       "                75%       max  \n",
       "DEFAULT SEX                    \n",
       "0       1    4400.0  527143.0  \n",
       "        2    4688.0  528666.0  \n",
       "1       1    2800.0  345293.0  \n",
       "        2    3000.0  287982.0  \n",
       "\n",
       "[4 rows x 112 columns]"
      ]
     },
     "execution_count": 43,
     "metadata": {},
     "output_type": "execute_result"
    }
   ],
   "source": [
    "credit_obj = credit.groupby([\"DEFAULT\", \"SEX\"])\n",
    "credit_obj.describe ()"
   ]
  },
  {
   "cell_type": "code",
   "execution_count": 44,
   "metadata": {},
   "outputs": [
    {
     "data": {
      "text/html": [
       "<div>\n",
       "<style scoped>\n",
       "    .dataframe tbody tr th:only-of-type {\n",
       "        vertical-align: middle;\n",
       "    }\n",
       "\n",
       "    .dataframe tbody tr th {\n",
       "        vertical-align: top;\n",
       "    }\n",
       "\n",
       "    .dataframe thead tr th {\n",
       "        text-align: left;\n",
       "    }\n",
       "\n",
       "    .dataframe thead tr:last-of-type th {\n",
       "        text-align: right;\n",
       "    }\n",
       "</style>\n",
       "<table border=\"1\" class=\"dataframe\">\n",
       "  <thead>\n",
       "    <tr>\n",
       "      <th></th>\n",
       "      <th></th>\n",
       "      <th colspan=\"8\" halign=\"left\">LIMIT_BAL</th>\n",
       "      <th colspan=\"2\" halign=\"left\">AGE</th>\n",
       "      <th>...</th>\n",
       "      <th colspan=\"2\" halign=\"left\">PAY_AMT5</th>\n",
       "      <th colspan=\"8\" halign=\"left\">PAY_AMT6</th>\n",
       "    </tr>\n",
       "    <tr>\n",
       "      <th></th>\n",
       "      <th></th>\n",
       "      <th>count</th>\n",
       "      <th>mean</th>\n",
       "      <th>std</th>\n",
       "      <th>min</th>\n",
       "      <th>25%</th>\n",
       "      <th>50%</th>\n",
       "      <th>75%</th>\n",
       "      <th>max</th>\n",
       "      <th>count</th>\n",
       "      <th>mean</th>\n",
       "      <th>...</th>\n",
       "      <th>75%</th>\n",
       "      <th>max</th>\n",
       "      <th>count</th>\n",
       "      <th>mean</th>\n",
       "      <th>std</th>\n",
       "      <th>min</th>\n",
       "      <th>25%</th>\n",
       "      <th>50%</th>\n",
       "      <th>75%</th>\n",
       "      <th>max</th>\n",
       "    </tr>\n",
       "    <tr>\n",
       "      <th>DEFAULT</th>\n",
       "      <th>SEX</th>\n",
       "      <th></th>\n",
       "      <th></th>\n",
       "      <th></th>\n",
       "      <th></th>\n",
       "      <th></th>\n",
       "      <th></th>\n",
       "      <th></th>\n",
       "      <th></th>\n",
       "      <th></th>\n",
       "      <th></th>\n",
       "      <th></th>\n",
       "      <th></th>\n",
       "      <th></th>\n",
       "      <th></th>\n",
       "      <th></th>\n",
       "      <th></th>\n",
       "      <th></th>\n",
       "      <th></th>\n",
       "      <th></th>\n",
       "      <th></th>\n",
       "      <th></th>\n",
       "    </tr>\n",
       "  </thead>\n",
       "  <tbody>\n",
       "    <tr>\n",
       "      <td rowspan=\"2\" valign=\"top\">0</td>\n",
       "      <td>1</td>\n",
       "      <td>8381.0</td>\n",
       "      <td>164064.670087</td>\n",
       "      <td>131801.529098</td>\n",
       "      <td>10000.0</td>\n",
       "      <td>50000.0</td>\n",
       "      <td>130000.0</td>\n",
       "      <td>240000.0</td>\n",
       "      <td>740000.0</td>\n",
       "      <td>8381.0</td>\n",
       "      <td>36.343157</td>\n",
       "      <td>...</td>\n",
       "      <td>4000.00</td>\n",
       "      <td>73512.0</td>\n",
       "      <td>8381.0</td>\n",
       "      <td>3623.698246</td>\n",
       "      <td>7836.817507</td>\n",
       "      <td>0.0</td>\n",
       "      <td>148.0</td>\n",
       "      <td>1305.0</td>\n",
       "      <td>3800.0</td>\n",
       "      <td>85000.0</td>\n",
       "    </tr>\n",
       "    <tr>\n",
       "      <td>2</td>\n",
       "      <td>13592.0</td>\n",
       "      <td>172363.596233</td>\n",
       "      <td>121140.857207</td>\n",
       "      <td>10000.0</td>\n",
       "      <td>70000.0</td>\n",
       "      <td>150000.0</td>\n",
       "      <td>240000.0</td>\n",
       "      <td>750000.0</td>\n",
       "      <td>13592.0</td>\n",
       "      <td>34.704017</td>\n",
       "      <td>...</td>\n",
       "      <td>4123.50</td>\n",
       "      <td>73000.0</td>\n",
       "      <td>13592.0</td>\n",
       "      <td>3940.755371</td>\n",
       "      <td>7996.343931</td>\n",
       "      <td>0.0</td>\n",
       "      <td>280.0</td>\n",
       "      <td>1647.0</td>\n",
       "      <td>4100.0</td>\n",
       "      <td>84363.0</td>\n",
       "    </tr>\n",
       "    <tr>\n",
       "      <td rowspan=\"2\" valign=\"top\">1</td>\n",
       "      <td>1</td>\n",
       "      <td>2720.0</td>\n",
       "      <td>119811.647059</td>\n",
       "      <td>110474.310060</td>\n",
       "      <td>10000.0</td>\n",
       "      <td>30000.0</td>\n",
       "      <td>80000.0</td>\n",
       "      <td>180000.0</td>\n",
       "      <td>720000.0</td>\n",
       "      <td>2720.0</td>\n",
       "      <td>36.679412</td>\n",
       "      <td>...</td>\n",
       "      <td>2932.75</td>\n",
       "      <td>69438.0</td>\n",
       "      <td>2720.0</td>\n",
       "      <td>2366.156985</td>\n",
       "      <td>5680.478350</td>\n",
       "      <td>0.0</td>\n",
       "      <td>0.0</td>\n",
       "      <td>900.0</td>\n",
       "      <td>2500.0</td>\n",
       "      <td>82000.0</td>\n",
       "    </tr>\n",
       "    <tr>\n",
       "      <td>2</td>\n",
       "      <td>3604.0</td>\n",
       "      <td>128041.065483</td>\n",
       "      <td>107223.648912</td>\n",
       "      <td>10000.0</td>\n",
       "      <td>50000.0</td>\n",
       "      <td>90000.0</td>\n",
       "      <td>190000.0</td>\n",
       "      <td>740000.0</td>\n",
       "      <td>3604.0</td>\n",
       "      <td>34.889845</td>\n",
       "      <td>...</td>\n",
       "      <td>2674.00</td>\n",
       "      <td>72460.0</td>\n",
       "      <td>3604.0</td>\n",
       "      <td>2407.064650</td>\n",
       "      <td>5229.590374</td>\n",
       "      <td>0.0</td>\n",
       "      <td>0.0</td>\n",
       "      <td>1000.0</td>\n",
       "      <td>2737.0</td>\n",
       "      <td>75003.0</td>\n",
       "    </tr>\n",
       "  </tbody>\n",
       "</table>\n",
       "<p>4 rows × 160 columns</p>\n",
       "</div>"
      ],
      "text/plain": [
       "            LIMIT_BAL                                                  \\\n",
       "                count           mean            std      min      25%   \n",
       "DEFAULT SEX                                                             \n",
       "0       1      8381.0  164064.670087  131801.529098  10000.0  50000.0   \n",
       "        2     13592.0  172363.596233  121140.857207  10000.0  70000.0   \n",
       "1       1      2720.0  119811.647059  110474.310060  10000.0  30000.0   \n",
       "        2      3604.0  128041.065483  107223.648912  10000.0  50000.0   \n",
       "\n",
       "                                               AGE             ... PAY_AMT5  \\\n",
       "                  50%       75%       max    count       mean  ...      75%   \n",
       "DEFAULT SEX                                                    ...            \n",
       "0       1    130000.0  240000.0  740000.0   8381.0  36.343157  ...  4000.00   \n",
       "        2    150000.0  240000.0  750000.0  13592.0  34.704017  ...  4123.50   \n",
       "1       1     80000.0  180000.0  720000.0   2720.0  36.679412  ...  2932.75   \n",
       "        2     90000.0  190000.0  740000.0   3604.0  34.889845  ...  2674.00   \n",
       "\n",
       "                     PAY_AMT6                                                \\\n",
       "                 max    count         mean          std  min    25%     50%   \n",
       "DEFAULT SEX                                                                   \n",
       "0       1    73512.0   8381.0  3623.698246  7836.817507  0.0  148.0  1305.0   \n",
       "        2    73000.0  13592.0  3940.755371  7996.343931  0.0  280.0  1647.0   \n",
       "1       1    69438.0   2720.0  2366.156985  5680.478350  0.0    0.0   900.0   \n",
       "        2    72460.0   3604.0  2407.064650  5229.590374  0.0    0.0  1000.0   \n",
       "\n",
       "                              \n",
       "                75%      max  \n",
       "DEFAULT SEX                   \n",
       "0       1    3800.0  85000.0  \n",
       "        2    4100.0  84363.0  \n",
       "1       1    2500.0  82000.0  \n",
       "        2    2737.0  75003.0  \n",
       "\n",
       "[4 rows x 160 columns]"
      ]
     },
     "execution_count": 44,
     "metadata": {},
     "output_type": "execute_result"
    }
   ],
   "source": [
    "credit_obj2 = credit_o.groupby([\"DEFAULT\", \"SEX\"])\n",
    "credit_obj2.describe ()"
   ]
  },
  {
   "cell_type": "code",
   "execution_count": 18,
   "metadata": {},
   "outputs": [
    {
     "name": "stdout",
     "output_type": "stream",
     "text": [
      "Index(['ID', 'LIMIT_BAL', 'SEX', 'EDUCATION', 'MARRIAGE', 'AGE', 'PAY_0',\n",
      "       'PAY_2', 'PAY_3', 'PAY_4', 'PAY_5', 'PAY_6', 'BILL_AMT1', 'BILL_AMT2',\n",
      "       'BILL_AMT3', 'BILL_AMT4', 'BILL_AMT5', 'BILL_AMT6', 'PAY_AMT1',\n",
      "       'PAY_AMT2', 'PAY_AMT3', 'PAY_AMT4', 'PAY_AMT5', 'PAY_AMT6', 'DEFAULT'],\n",
      "      dtype='object')\n"
     ]
    }
   ],
   "source": [
    "header = credit_o.dtypes.index\n",
    "print(header)"
   ]
  },
  {
   "cell_type": "code",
   "execution_count": 39,
   "metadata": {},
   "outputs": [
    {
     "data": {
      "image/png": "[encoded data removed]",
      "text/plain": [
       "<Figure size 432x288 with 1 Axes>"
      ]
     },
     "metadata": {},
     "output_type": "display_data"
    }
   ],
   "source": [
    "plt.hist(credit['LIMIT_BAL'], bins = 5)\n",
    "plt.show()"
   ]
  },
  {
   "cell_type": "code",
   "execution_count": 20,
   "metadata": {},
   "outputs": [
    {
     "data": {
      "text/plain": [
       "(array([18409.,  8076.,  1741.,    71.]),\n",
       " array([ 10000., 195000., 380000., 565000., 750000.]),\n",
       " <a list of 4 Patch objects>)"
      ]
     },
     "execution_count": 20,
     "metadata": {},
     "output_type": "execute_result"
    },
    {
     "data": {
      "image/png": "[encoded data removed]",
      "text/plain": [
       "<Figure size 432x288 with 1 Axes>"
      ]
     },
     "metadata": {},
     "output_type": "display_data"
    }
   ],
   "source": [
    "plt.hist(credit_o['LIMIT_BAL'], bins=4)"
   ]
  },
  {
   "cell_type": "code",
   "execution_count": 38,
   "metadata": {},
   "outputs": [],
   "source": [
    "PAY_Y = credit.iloc[:,5:11]"
   ]
  },
  {
   "cell_type": "code",
   "execution_count": 52,
   "metadata": {},
   "outputs": [
    {
     "data": {
      "text/html": [
       "<div>\n",
       "<style scoped>\n",
       "    .dataframe tbody tr th:only-of-type {\n",
       "        vertical-align: middle;\n",
       "    }\n",
       "\n",
       "    .dataframe tbody tr th {\n",
       "        vertical-align: top;\n",
       "    }\n",
       "\n",
       "    .dataframe thead th {\n",
       "        text-align: right;\n",
       "    }\n",
       "</style>\n",
       "<table border=\"1\" class=\"dataframe\">\n",
       "  <thead>\n",
       "    <tr style=\"text-align: right;\">\n",
       "      <th></th>\n",
       "      <th>PAY_0</th>\n",
       "      <th>PAY_2</th>\n",
       "      <th>PAY_3</th>\n",
       "      <th>PAY_4</th>\n",
       "      <th>PAY_5</th>\n",
       "      <th>PAY_6</th>\n",
       "    </tr>\n",
       "  </thead>\n",
       "  <tbody>\n",
       "    <tr>\n",
       "      <td>0</td>\n",
       "      <td>2</td>\n",
       "      <td>2</td>\n",
       "      <td>-1</td>\n",
       "      <td>-1</td>\n",
       "      <td>-2</td>\n",
       "      <td>-2</td>\n",
       "    </tr>\n",
       "    <tr>\n",
       "      <td>1</td>\n",
       "      <td>-1</td>\n",
       "      <td>2</td>\n",
       "      <td>0</td>\n",
       "      <td>0</td>\n",
       "      <td>0</td>\n",
       "      <td>2</td>\n",
       "    </tr>\n",
       "    <tr>\n",
       "      <td>2</td>\n",
       "      <td>0</td>\n",
       "      <td>0</td>\n",
       "      <td>0</td>\n",
       "      <td>0</td>\n",
       "      <td>0</td>\n",
       "      <td>0</td>\n",
       "    </tr>\n",
       "    <tr>\n",
       "      <td>3</td>\n",
       "      <td>0</td>\n",
       "      <td>0</td>\n",
       "      <td>0</td>\n",
       "      <td>0</td>\n",
       "      <td>0</td>\n",
       "      <td>0</td>\n",
       "    </tr>\n",
       "    <tr>\n",
       "      <td>4</td>\n",
       "      <td>-1</td>\n",
       "      <td>0</td>\n",
       "      <td>-1</td>\n",
       "      <td>0</td>\n",
       "      <td>0</td>\n",
       "      <td>0</td>\n",
       "    </tr>\n",
       "    <tr>\n",
       "      <td>...</td>\n",
       "      <td>...</td>\n",
       "      <td>...</td>\n",
       "      <td>...</td>\n",
       "      <td>...</td>\n",
       "      <td>...</td>\n",
       "      <td>...</td>\n",
       "    </tr>\n",
       "    <tr>\n",
       "      <td>29995</td>\n",
       "      <td>0</td>\n",
       "      <td>0</td>\n",
       "      <td>0</td>\n",
       "      <td>0</td>\n",
       "      <td>0</td>\n",
       "      <td>0</td>\n",
       "    </tr>\n",
       "    <tr>\n",
       "      <td>29996</td>\n",
       "      <td>-1</td>\n",
       "      <td>-1</td>\n",
       "      <td>-1</td>\n",
       "      <td>-1</td>\n",
       "      <td>0</td>\n",
       "      <td>0</td>\n",
       "    </tr>\n",
       "    <tr>\n",
       "      <td>29997</td>\n",
       "      <td>4</td>\n",
       "      <td>3</td>\n",
       "      <td>2</td>\n",
       "      <td>-1</td>\n",
       "      <td>0</td>\n",
       "      <td>0</td>\n",
       "    </tr>\n",
       "    <tr>\n",
       "      <td>29998</td>\n",
       "      <td>1</td>\n",
       "      <td>-1</td>\n",
       "      <td>0</td>\n",
       "      <td>0</td>\n",
       "      <td>0</td>\n",
       "      <td>-1</td>\n",
       "    </tr>\n",
       "    <tr>\n",
       "      <td>29999</td>\n",
       "      <td>0</td>\n",
       "      <td>0</td>\n",
       "      <td>0</td>\n",
       "      <td>0</td>\n",
       "      <td>0</td>\n",
       "      <td>0</td>\n",
       "    </tr>\n",
       "  </tbody>\n",
       "</table>\n",
       "<p>30000 rows × 6 columns</p>\n",
       "</div>"
      ],
      "text/plain": [
       "      PAY_0 PAY_2 PAY_3 PAY_4 PAY_5 PAY_6\n",
       "0         2     2    -1    -1    -2    -2\n",
       "1        -1     2     0     0     0     2\n",
       "2         0     0     0     0     0     0\n",
       "3         0     0     0     0     0     0\n",
       "4        -1     0    -1     0     0     0\n",
       "...     ...   ...   ...   ...   ...   ...\n",
       "29995     0     0     0     0     0     0\n",
       "29996    -1    -1    -1    -1     0     0\n",
       "29997     4     3     2    -1     0     0\n",
       "29998     1    -1     0     0     0    -1\n",
       "29999     0     0     0     0     0     0\n",
       "\n",
       "[30000 rows x 6 columns]"
      ]
     },
     "execution_count": 52,
     "metadata": {},
     "output_type": "execute_result"
    }
   ],
   "source": [
    "PAY_Y"
   ]
  },
  {
   "cell_type": "code",
   "execution_count": 73,
   "metadata": {},
   "outputs": [
    {
     "data": {
      "text/plain": [
       "<seaborn.axisgrid.FacetGrid at 0x21583290f88>"
      ]
     },
     "execution_count": 73,
     "metadata": {},
     "output_type": "execute_result"
    },
    {
     "data": {
      "image/png": "[encoded data removed]",
      "text/plain": [
       "<Figure size 360x360 with 1 Axes>"
      ]
     },
     "metadata": {},
     "output_type": "display_data"
    }
   ],
   "source": [
    "sns.catplot(\"PAY_6\",data=credit, kind=\"count\")"
   ]
  },
  {
   "cell_type": "code",
   "execution_count": 70,
   "metadata": {},
   "outputs": [
    {
     "data": {
      "text/plain": [
       "<seaborn.axisgrid.FacetGrid at 0x1c79d925c48>"
      ]
     },
     "execution_count": 70,
     "metadata": {},
     "output_type": "execute_result"
    },
    {
     "data": {
      "image/png": "[encoded data removed]",
      "text/plain": [
       "<Figure size 360x360 with 1 Axes>"
      ]
     },
     "metadata": {},
     "output_type": "display_data"
    }
   ],
   "source": [
    "sns.relplot (x = \"PAY_0\" , y =\"PAY_2\", data=credit)"
   ]
  },
  {
   "cell_type": "code",
   "execution_count": 87,
   "metadata": {},
   "outputs": [
    {
     "data": {
      "text/plain": [
       "0    23364\n",
       "1     6636\n",
       "Name: DEFAULT, dtype: int64"
      ]
     },
     "execution_count": 87,
     "metadata": {},
     "output_type": "execute_result"
    }
   ],
   "source": [
    "credit[\"DEFAULT\"].value_counts()"
   ]
  },
  {
   "cell_type": "code",
   "execution_count": 96,
   "metadata": {},
   "outputs": [
    {
     "name": "stdout",
     "output_type": "stream",
     "text": [
      "Index(['LIMIT_BAL', 'SEX', 'EDUCATION', 'MARRIAGE', 'AGE', 'PAY_0', 'PAY_2',\n",
      "       'PAY_3', 'PAY_4', 'PAY_5', 'PAY_6', 'BILL_AMT1', 'BILL_AMT2',\n",
      "       'BILL_AMT3', 'BILL_AMT4', 'BILL_AMT5', 'BILL_AMT6', 'PAY_AMT1',\n",
      "       'PAY_AMT2', 'PAY_AMT3', 'PAY_AMT4', 'PAY_AMT5', 'PAY_AMT6', 'DEFAULT'],\n",
      "      dtype='object')\n"
     ]
    }
   ],
   "source": [
    "header = credit.dtypes.index\n",
    "print(header)"
   ]
  },
  {
   "cell_type": "code",
   "execution_count": 45,
   "metadata": {},
   "outputs": [
    {
     "data": {
      "text/plain": [
       "0.00    21.0\n",
       "0.25    28.0\n",
       "0.50    34.0\n",
       "0.75    41.0\n",
       "1.00    75.0\n",
       "Name: AGE, dtype: float64"
      ]
     },
     "execution_count": 45,
     "metadata": {},
     "output_type": "execute_result"
    }
   ],
   "source": [
    "#Set relevant percentiles for age and see their distribution\n",
    "credit_o['AGE'].quantile([0, 0.25, 0.5, 0.75, 1])"
   ]
  },
  {
   "cell_type": "code",
   "execution_count": 49,
   "metadata": {},
   "outputs": [],
   "source": [
    "bins = [21, 28, 34,41,55, 75]\n",
    "age_label = [\"21-27\",\"28-33\",\"34-40\",\"41-54\",\">55\"]\n",
    "credit_o[\"AGE2\"] = pd.cut(credit_o[\"AGE\"],bins, labels=age_label)"
   ]
  },
  {
   "cell_type": "code",
   "execution_count": 50,
   "metadata": {},
   "outputs": [
    {
     "data": {
      "text/plain": [
       "0        21-27\n",
       "1        21-27\n",
       "2        28-33\n",
       "3        34-40\n",
       "4          >55\n",
       "         ...  \n",
       "29994    28-33\n",
       "29995    34-40\n",
       "29996    41-54\n",
       "29997    34-40\n",
       "29999    41-54\n",
       "Name: AGE2, Length: 28297, dtype: category\n",
       "Categories (5, object): [21-27 < 28-33 < 34-40 < 41-54 < >55]"
      ]
     },
     "execution_count": 50,
     "metadata": {},
     "output_type": "execute_result"
    }
   ],
   "source": [
    "credit_o[\"AGE2\"]"
   ]
  },
  {
   "cell_type": "code",
   "execution_count": 51,
   "metadata": {},
   "outputs": [
    {
     "data": {
      "text/plain": [
       "0        21-27\n",
       "1        21-27\n",
       "2        28-33\n",
       "3        34-40\n",
       "4          >55\n",
       "         ...  \n",
       "29995    34-40\n",
       "29996    41-54\n",
       "29997    34-40\n",
       "29998    34-40\n",
       "29999    41-54\n",
       "Name: AGE2, Length: 30000, dtype: category\n",
       "Categories (5, object): [21-27 < 28-33 < 34-40 < 41-54 < >55]"
      ]
     },
     "execution_count": 51,
     "metadata": {},
     "output_type": "execute_result"
    }
   ],
   "source": [
    "credit[\"AGE2\"] = pd.cut(credit[\"AGE\"],bins, labels=age_label)\n",
    "credit[\"AGE2\"]"
   ]
  },
  {
   "cell_type": "code",
   "execution_count": 93,
   "metadata": {},
   "outputs": [],
   "source": [
    "#from the PAY_n graphs it seems they are very correlated, I will try to eliminate correlated variables\n",
    "corr_matrix = credit.corr().round(decimals=3)"
   ]
  },
  {
   "cell_type": "code",
   "execution_count": 94,
   "metadata": {},
   "outputs": [
    {
     "data": {
      "text/html": [
       "<div>\n",
       "<style scoped>\n",
       "    .dataframe tbody tr th:only-of-type {\n",
       "        vertical-align: middle;\n",
       "    }\n",
       "\n",
       "    .dataframe tbody tr th {\n",
       "        vertical-align: top;\n",
       "    }\n",
       "\n",
       "    .dataframe thead th {\n",
       "        text-align: right;\n",
       "    }\n",
       "</style>\n",
       "<table border=\"1\" class=\"dataframe\">\n",
       "  <thead>\n",
       "    <tr style=\"text-align: right;\">\n",
       "      <th></th>\n",
       "      <th>LIMIT_BAL</th>\n",
       "      <th>EDUCATION</th>\n",
       "      <th>AGE</th>\n",
       "      <th>BILL_AMT1</th>\n",
       "      <th>BILL_AMT2</th>\n",
       "      <th>BILL_AMT3</th>\n",
       "      <th>BILL_AMT4</th>\n",
       "      <th>BILL_AMT5</th>\n",
       "      <th>BILL_AMT6</th>\n",
       "      <th>PAY_AMT1</th>\n",
       "      <th>PAY_AMT2</th>\n",
       "      <th>PAY_AMT3</th>\n",
       "      <th>PAY_AMT4</th>\n",
       "      <th>PAY_AMT5</th>\n",
       "      <th>PAY_AMT6</th>\n",
       "    </tr>\n",
       "  </thead>\n",
       "  <tbody>\n",
       "    <tr>\n",
       "      <td>LIMIT_BAL</td>\n",
       "      <td>1.000</td>\n",
       "      <td>-0.245</td>\n",
       "      <td>0.145</td>\n",
       "      <td>0.285</td>\n",
       "      <td>0.278</td>\n",
       "      <td>0.283</td>\n",
       "      <td>0.294</td>\n",
       "      <td>0.296</td>\n",
       "      <td>0.290</td>\n",
       "      <td>0.195</td>\n",
       "      <td>0.178</td>\n",
       "      <td>0.210</td>\n",
       "      <td>0.203</td>\n",
       "      <td>0.217</td>\n",
       "      <td>0.220</td>\n",
       "    </tr>\n",
       "    <tr>\n",
       "      <td>EDUCATION</td>\n",
       "      <td>-0.245</td>\n",
       "      <td>1.000</td>\n",
       "      <td>0.180</td>\n",
       "      <td>-0.008</td>\n",
       "      <td>-0.009</td>\n",
       "      <td>-0.013</td>\n",
       "      <td>-0.021</td>\n",
       "      <td>-0.021</td>\n",
       "      <td>-0.015</td>\n",
       "      <td>-0.045</td>\n",
       "      <td>-0.042</td>\n",
       "      <td>-0.060</td>\n",
       "      <td>-0.043</td>\n",
       "      <td>-0.051</td>\n",
       "      <td>-0.056</td>\n",
       "    </tr>\n",
       "    <tr>\n",
       "      <td>AGE</td>\n",
       "      <td>0.145</td>\n",
       "      <td>0.180</td>\n",
       "      <td>1.000</td>\n",
       "      <td>0.056</td>\n",
       "      <td>0.054</td>\n",
       "      <td>0.054</td>\n",
       "      <td>0.051</td>\n",
       "      <td>0.049</td>\n",
       "      <td>0.048</td>\n",
       "      <td>0.026</td>\n",
       "      <td>0.022</td>\n",
       "      <td>0.029</td>\n",
       "      <td>0.021</td>\n",
       "      <td>0.023</td>\n",
       "      <td>0.019</td>\n",
       "    </tr>\n",
       "    <tr>\n",
       "      <td>BILL_AMT1</td>\n",
       "      <td>0.285</td>\n",
       "      <td>-0.008</td>\n",
       "      <td>0.056</td>\n",
       "      <td>1.000</td>\n",
       "      <td>0.951</td>\n",
       "      <td>0.892</td>\n",
       "      <td>0.860</td>\n",
       "      <td>0.830</td>\n",
       "      <td>0.803</td>\n",
       "      <td>0.140</td>\n",
       "      <td>0.099</td>\n",
       "      <td>0.157</td>\n",
       "      <td>0.158</td>\n",
       "      <td>0.167</td>\n",
       "      <td>0.179</td>\n",
       "    </tr>\n",
       "    <tr>\n",
       "      <td>BILL_AMT2</td>\n",
       "      <td>0.278</td>\n",
       "      <td>-0.009</td>\n",
       "      <td>0.054</td>\n",
       "      <td>0.951</td>\n",
       "      <td>1.000</td>\n",
       "      <td>0.928</td>\n",
       "      <td>0.892</td>\n",
       "      <td>0.860</td>\n",
       "      <td>0.832</td>\n",
       "      <td>0.280</td>\n",
       "      <td>0.101</td>\n",
       "      <td>0.151</td>\n",
       "      <td>0.147</td>\n",
       "      <td>0.158</td>\n",
       "      <td>0.174</td>\n",
       "    </tr>\n",
       "    <tr>\n",
       "      <td>BILL_AMT3</td>\n",
       "      <td>0.283</td>\n",
       "      <td>-0.013</td>\n",
       "      <td>0.054</td>\n",
       "      <td>0.892</td>\n",
       "      <td>0.928</td>\n",
       "      <td>1.000</td>\n",
       "      <td>0.924</td>\n",
       "      <td>0.884</td>\n",
       "      <td>0.853</td>\n",
       "      <td>0.244</td>\n",
       "      <td>0.317</td>\n",
       "      <td>0.130</td>\n",
       "      <td>0.143</td>\n",
       "      <td>0.180</td>\n",
       "      <td>0.182</td>\n",
       "    </tr>\n",
       "    <tr>\n",
       "      <td>BILL_AMT4</td>\n",
       "      <td>0.294</td>\n",
       "      <td>-0.021</td>\n",
       "      <td>0.051</td>\n",
       "      <td>0.860</td>\n",
       "      <td>0.892</td>\n",
       "      <td>0.924</td>\n",
       "      <td>1.000</td>\n",
       "      <td>0.940</td>\n",
       "      <td>0.901</td>\n",
       "      <td>0.233</td>\n",
       "      <td>0.208</td>\n",
       "      <td>0.300</td>\n",
       "      <td>0.130</td>\n",
       "      <td>0.160</td>\n",
       "      <td>0.178</td>\n",
       "    </tr>\n",
       "    <tr>\n",
       "      <td>BILL_AMT5</td>\n",
       "      <td>0.296</td>\n",
       "      <td>-0.021</td>\n",
       "      <td>0.049</td>\n",
       "      <td>0.830</td>\n",
       "      <td>0.860</td>\n",
       "      <td>0.884</td>\n",
       "      <td>0.940</td>\n",
       "      <td>1.000</td>\n",
       "      <td>0.946</td>\n",
       "      <td>0.217</td>\n",
       "      <td>0.181</td>\n",
       "      <td>0.252</td>\n",
       "      <td>0.293</td>\n",
       "      <td>0.142</td>\n",
       "      <td>0.164</td>\n",
       "    </tr>\n",
       "    <tr>\n",
       "      <td>BILL_AMT6</td>\n",
       "      <td>0.290</td>\n",
       "      <td>-0.015</td>\n",
       "      <td>0.048</td>\n",
       "      <td>0.803</td>\n",
       "      <td>0.832</td>\n",
       "      <td>0.853</td>\n",
       "      <td>0.901</td>\n",
       "      <td>0.946</td>\n",
       "      <td>1.000</td>\n",
       "      <td>0.200</td>\n",
       "      <td>0.173</td>\n",
       "      <td>0.234</td>\n",
       "      <td>0.250</td>\n",
       "      <td>0.308</td>\n",
       "      <td>0.115</td>\n",
       "    </tr>\n",
       "    <tr>\n",
       "      <td>PAY_AMT1</td>\n",
       "      <td>0.195</td>\n",
       "      <td>-0.045</td>\n",
       "      <td>0.026</td>\n",
       "      <td>0.140</td>\n",
       "      <td>0.280</td>\n",
       "      <td>0.244</td>\n",
       "      <td>0.233</td>\n",
       "      <td>0.217</td>\n",
       "      <td>0.200</td>\n",
       "      <td>1.000</td>\n",
       "      <td>0.286</td>\n",
       "      <td>0.252</td>\n",
       "      <td>0.200</td>\n",
       "      <td>0.148</td>\n",
       "      <td>0.186</td>\n",
       "    </tr>\n",
       "    <tr>\n",
       "      <td>PAY_AMT2</td>\n",
       "      <td>0.178</td>\n",
       "      <td>-0.042</td>\n",
       "      <td>0.022</td>\n",
       "      <td>0.099</td>\n",
       "      <td>0.101</td>\n",
       "      <td>0.317</td>\n",
       "      <td>0.208</td>\n",
       "      <td>0.181</td>\n",
       "      <td>0.173</td>\n",
       "      <td>0.286</td>\n",
       "      <td>1.000</td>\n",
       "      <td>0.245</td>\n",
       "      <td>0.180</td>\n",
       "      <td>0.181</td>\n",
       "      <td>0.158</td>\n",
       "    </tr>\n",
       "    <tr>\n",
       "      <td>PAY_AMT3</td>\n",
       "      <td>0.210</td>\n",
       "      <td>-0.060</td>\n",
       "      <td>0.029</td>\n",
       "      <td>0.157</td>\n",
       "      <td>0.151</td>\n",
       "      <td>0.130</td>\n",
       "      <td>0.300</td>\n",
       "      <td>0.252</td>\n",
       "      <td>0.234</td>\n",
       "      <td>0.252</td>\n",
       "      <td>0.245</td>\n",
       "      <td>1.000</td>\n",
       "      <td>0.216</td>\n",
       "      <td>0.159</td>\n",
       "      <td>0.163</td>\n",
       "    </tr>\n",
       "    <tr>\n",
       "      <td>PAY_AMT4</td>\n",
       "      <td>0.203</td>\n",
       "      <td>-0.043</td>\n",
       "      <td>0.021</td>\n",
       "      <td>0.158</td>\n",
       "      <td>0.147</td>\n",
       "      <td>0.143</td>\n",
       "      <td>0.130</td>\n",
       "      <td>0.293</td>\n",
       "      <td>0.250</td>\n",
       "      <td>0.200</td>\n",
       "      <td>0.180</td>\n",
       "      <td>0.216</td>\n",
       "      <td>1.000</td>\n",
       "      <td>0.152</td>\n",
       "      <td>0.158</td>\n",
       "    </tr>\n",
       "    <tr>\n",
       "      <td>PAY_AMT5</td>\n",
       "      <td>0.217</td>\n",
       "      <td>-0.051</td>\n",
       "      <td>0.023</td>\n",
       "      <td>0.167</td>\n",
       "      <td>0.158</td>\n",
       "      <td>0.180</td>\n",
       "      <td>0.160</td>\n",
       "      <td>0.142</td>\n",
       "      <td>0.308</td>\n",
       "      <td>0.148</td>\n",
       "      <td>0.181</td>\n",
       "      <td>0.159</td>\n",
       "      <td>0.152</td>\n",
       "      <td>1.000</td>\n",
       "      <td>0.155</td>\n",
       "    </tr>\n",
       "    <tr>\n",
       "      <td>PAY_AMT6</td>\n",
       "      <td>0.220</td>\n",
       "      <td>-0.056</td>\n",
       "      <td>0.019</td>\n",
       "      <td>0.179</td>\n",
       "      <td>0.174</td>\n",
       "      <td>0.182</td>\n",
       "      <td>0.178</td>\n",
       "      <td>0.164</td>\n",
       "      <td>0.115</td>\n",
       "      <td>0.186</td>\n",
       "      <td>0.158</td>\n",
       "      <td>0.163</td>\n",
       "      <td>0.158</td>\n",
       "      <td>0.155</td>\n",
       "      <td>1.000</td>\n",
       "    </tr>\n",
       "  </tbody>\n",
       "</table>\n",
       "</div>"
      ],
      "text/plain": [
       "           LIMIT_BAL  EDUCATION    AGE  BILL_AMT1  BILL_AMT2  BILL_AMT3  \\\n",
       "LIMIT_BAL      1.000     -0.245  0.145      0.285      0.278      0.283   \n",
       "EDUCATION     -0.245      1.000  0.180     -0.008     -0.009     -0.013   \n",
       "AGE            0.145      0.180  1.000      0.056      0.054      0.054   \n",
       "BILL_AMT1      0.285     -0.008  0.056      1.000      0.951      0.892   \n",
       "BILL_AMT2      0.278     -0.009  0.054      0.951      1.000      0.928   \n",
       "BILL_AMT3      0.283     -0.013  0.054      0.892      0.928      1.000   \n",
       "BILL_AMT4      0.294     -0.021  0.051      0.860      0.892      0.924   \n",
       "BILL_AMT5      0.296     -0.021  0.049      0.830      0.860      0.884   \n",
       "BILL_AMT6      0.290     -0.015  0.048      0.803      0.832      0.853   \n",
       "PAY_AMT1       0.195     -0.045  0.026      0.140      0.280      0.244   \n",
       "PAY_AMT2       0.178     -0.042  0.022      0.099      0.101      0.317   \n",
       "PAY_AMT3       0.210     -0.060  0.029      0.157      0.151      0.130   \n",
       "PAY_AMT4       0.203     -0.043  0.021      0.158      0.147      0.143   \n",
       "PAY_AMT5       0.217     -0.051  0.023      0.167      0.158      0.180   \n",
       "PAY_AMT6       0.220     -0.056  0.019      0.179      0.174      0.182   \n",
       "\n",
       "           BILL_AMT4  BILL_AMT5  BILL_AMT6  PAY_AMT1  PAY_AMT2  PAY_AMT3  \\\n",
       "LIMIT_BAL      0.294      0.296      0.290     0.195     0.178     0.210   \n",
       "EDUCATION     -0.021     -0.021     -0.015    -0.045    -0.042    -0.060   \n",
       "AGE            0.051      0.049      0.048     0.026     0.022     0.029   \n",
       "BILL_AMT1      0.860      0.830      0.803     0.140     0.099     0.157   \n",
       "BILL_AMT2      0.892      0.860      0.832     0.280     0.101     0.151   \n",
       "BILL_AMT3      0.924      0.884      0.853     0.244     0.317     0.130   \n",
       "BILL_AMT4      1.000      0.940      0.901     0.233     0.208     0.300   \n",
       "BILL_AMT5      0.940      1.000      0.946     0.217     0.181     0.252   \n",
       "BILL_AMT6      0.901      0.946      1.000     0.200     0.173     0.234   \n",
       "PAY_AMT1       0.233      0.217      0.200     1.000     0.286     0.252   \n",
       "PAY_AMT2       0.208      0.181      0.173     0.286     1.000     0.245   \n",
       "PAY_AMT3       0.300      0.252      0.234     0.252     0.245     1.000   \n",
       "PAY_AMT4       0.130      0.293      0.250     0.200     0.180     0.216   \n",
       "PAY_AMT5       0.160      0.142      0.308     0.148     0.181     0.159   \n",
       "PAY_AMT6       0.178      0.164      0.115     0.186     0.158     0.163   \n",
       "\n",
       "           PAY_AMT4  PAY_AMT5  PAY_AMT6  \n",
       "LIMIT_BAL     0.203     0.217     0.220  \n",
       "EDUCATION    -0.043    -0.051    -0.056  \n",
       "AGE           0.021     0.023     0.019  \n",
       "BILL_AMT1     0.158     0.167     0.179  \n",
       "BILL_AMT2     0.147     0.158     0.174  \n",
       "BILL_AMT3     0.143     0.180     0.182  \n",
       "BILL_AMT4     0.130     0.160     0.178  \n",
       "BILL_AMT5     0.293     0.142     0.164  \n",
       "BILL_AMT6     0.250     0.308     0.115  \n",
       "PAY_AMT1      0.200     0.148     0.186  \n",
       "PAY_AMT2      0.180     0.181     0.158  \n",
       "PAY_AMT3      0.216     0.159     0.163  \n",
       "PAY_AMT4      1.000     0.152     0.158  \n",
       "PAY_AMT5      0.152     1.000     0.155  \n",
       "PAY_AMT6      0.158     0.155     1.000  "
      ]
     },
     "execution_count": 94,
     "metadata": {},
     "output_type": "execute_result"
    }
   ],
   "source": [
    "corr_matrix"
   ]
  },
  {
   "cell_type": "code",
   "execution_count": 99,
   "metadata": {},
   "outputs": [],
   "source": [
    "corr_matrix.to_excel('corr_matrix.xlsx', engine='xlsxwriter')  "
   ]
  },
  {
   "cell_type": "code",
   "execution_count": 98,
   "metadata": {},
   "outputs": [
    {
     "data": {
      "image/png": "[encoded data removed]",
      "text/plain": [
       "<Figure size 288x288 with 1 Axes>"
      ]
     },
     "metadata": {},
     "output_type": "display_data"
    }
   ],
   "source": [
    "plt.matshow(credit.corr().round(decimals=3))\n",
    "plt.show()"
   ]
  },
  {
   "cell_type": "code",
   "execution_count": 62,
   "metadata": {},
   "outputs": [],
   "source": [
    "new_credit = credit.drop([\"BILL_AMT2\",\"BILL_AMT3\",\"BILL_AMT4\",\"BILL_AMT5\",\"BILL_AMT6\", \"AGE\"],axis = 1, inplace = False)"
   ]
  },
  {
   "cell_type": "code",
   "execution_count": 63,
   "metadata": {},
   "outputs": [],
   "source": [
    "new_credit_o = credit_o.drop([\"BILL_AMT2\",\"BILL_AMT3\",\"BILL_AMT4\",\"BILL_AMT5\",\"BILL_AMT6\",\"AGE\"],axis = 1, inplace = False)"
   ]
  },
  {
   "cell_type": "code",
   "execution_count": 57,
   "metadata": {},
   "outputs": [
    {
     "data": {
      "text/plain": [
       "<seaborn.axisgrid.FacetGrid at 0x1c79dd13cc8>"
      ]
     },
     "execution_count": 57,
     "metadata": {},
     "output_type": "execute_result"
    },
    {
     "data": {
      "image/png": "[encoded data removed]",
      "text/plain": [
       "<Figure size 414.925x360 with 1 Axes>"
      ]
     },
     "metadata": {},
     "output_type": "display_data"
    }
   ],
   "source": [
    "sns.catplot(\"AGE2\",hue=\"DEFAULT\",kind=\"count\",data=credit)"
   ]
  },
  {
   "cell_type": "code",
   "execution_count": 64,
   "metadata": {},
   "outputs": [
    {
     "name": "stdout",
     "output_type": "stream",
     "text": [
      "<class 'pandas.core.frame.DataFrame'>\n",
      "RangeIndex: 30000 entries, 0 to 29999\n",
      "Data columns (total 19 columns):\n",
      "LIMIT_BAL    30000 non-null int64\n",
      "SEX          30000 non-null category\n",
      "EDUCATION    30000 non-null category\n",
      "MARRIAGE     30000 non-null category\n",
      "PAY_0        30000 non-null category\n",
      "PAY_2        30000 non-null category\n",
      "PAY_3        30000 non-null category\n",
      "PAY_4        30000 non-null category\n",
      "PAY_5        30000 non-null category\n",
      "PAY_6        30000 non-null category\n",
      "BILL_AMT1    30000 non-null int64\n",
      "PAY_AMT1     30000 non-null int64\n",
      "PAY_AMT2     30000 non-null int64\n",
      "PAY_AMT3     30000 non-null int64\n",
      "PAY_AMT4     30000 non-null int64\n",
      "PAY_AMT5     30000 non-null int64\n",
      "PAY_AMT6     30000 non-null int64\n",
      "DEFAULT      30000 non-null category\n",
      "AGE2         29932 non-null category\n",
      "dtypes: category(11), int64(8)\n",
      "memory usage: 2.1 MB\n"
     ]
    }
   ],
   "source": [
    "new_credit.info ()"
   ]
  },
  {
   "cell_type": "code",
   "execution_count": 65,
   "metadata": {},
   "outputs": [
    {
     "name": "stdout",
     "output_type": "stream",
     "text": [
      "Index(['LIMIT_BAL', 'SEX', 'EDUCATION', 'MARRIAGE', 'AGE', 'PAY_0', 'PAY_2',\n",
      "       'PAY_3', 'PAY_4', 'PAY_5', 'PAY_6', 'BILL_AMT1', 'BILL_AMT2',\n",
      "       'BILL_AMT3', 'BILL_AMT4', 'BILL_AMT5', 'BILL_AMT6', 'PAY_AMT1',\n",
      "       'PAY_AMT2', 'PAY_AMT3', 'PAY_AMT4', 'PAY_AMT5', 'PAY_AMT6', 'DEFAULT',\n",
      "       'AGE2'],\n",
      "      dtype='object')\n"
     ]
    }
   ],
   "source": [
    "header = credit_o.dtypes.index\n",
    "print(header)"
   ]
  },
  {
   "cell_type": "code",
   "execution_count": 71,
   "metadata": {},
   "outputs": [
    {
     "data": {
      "text/plain": [
       "<seaborn.axisgrid.FacetGrid at 0x1c79e03f548>"
      ]
     },
     "execution_count": 71,
     "metadata": {},
     "output_type": "execute_result"
    },
    {
     "data": {
      "image/png": "[encoded data removed]",
      "text/plain": [
       "<Figure size 414.925x360 with 1 Axes>"
      ]
     },
     "metadata": {},
     "output_type": "display_data"
    }
   ],
   "source": [
    "sns.catplot(\"SEX\",hue=\"DEFAULT\",kind=\"count\",data=credit)"
   ]
  },
  {
   "cell_type": "code",
   "execution_count": 72,
   "metadata": {},
   "outputs": [
    {
     "data": {
      "image/png": "[encoded data removed]",
      "text/plain": [
       "<Figure size 432x288 with 1 Axes>"
      ]
     },
     "metadata": {},
     "output_type": "display_data"
    }
   ],
   "source": [
    "A = credit['BILL_AMT1']\n",
    "plt.boxplot(A,0,'gD')\n",
    "plt.show()"
   ]
  },
  {
   "cell_type": "code",
   "execution_count": 77,
   "metadata": {},
   "outputs": [
    {
     "name": "stdout",
     "output_type": "stream",
     "text": [
      "              LIMIT_BAL     BILL_AMT1      PAY_AMT1      PAY_AMT2  \\\n",
      "LIMIT_BAL  1.683446e+10  2.727020e+09  4.195711e+08  5.333504e+08   \n",
      "BILL_AMT1  2.727020e+09  5.422240e+09  1.710894e+08  1.685692e+08   \n",
      "PAY_AMT1   4.195711e+08  1.710894e+08  2.743423e+08  1.089849e+08   \n",
      "PAY_AMT2   5.333504e+08  1.685692e+08  1.089849e+08  5.308817e+08   \n",
      "PAY_AMT3   4.801180e+08  2.034048e+08  7.354626e+07  9.929841e+07   \n",
      "PAY_AMT4   4.131202e+08  1.826164e+08  5.178189e+07  6.501168e+07   \n",
      "PAY_AMT5   4.305657e+08  1.879091e+08  3.756893e+07  6.368414e+07   \n",
      "PAY_AMT6   5.065153e+08  2.347681e+08  5.469033e+07  6.456816e+07   \n",
      "\n",
      "               PAY_AMT3      PAY_AMT4      PAY_AMT5      PAY_AMT6  \n",
      "LIMIT_BAL  4.801180e+08  4.131202e+08  4.305657e+08  5.065153e+08  \n",
      "BILL_AMT1  2.034048e+08  1.826164e+08  1.879091e+08  2.347681e+08  \n",
      "PAY_AMT1   7.354626e+07  5.178189e+07  3.756893e+07  5.469033e+07  \n",
      "PAY_AMT2   9.929841e+07  6.501168e+07  6.368414e+07  6.456816e+07  \n",
      "PAY_AMT3   3.100051e+08  5.966970e+07  4.282921e+07  5.093879e+07  \n",
      "PAY_AMT4   5.966970e+07  2.454286e+08  3.634098e+07  4.395747e+07  \n",
      "PAY_AMT5   4.282921e+07  3.634098e+07  2.334266e+08  4.207110e+07  \n",
      "PAY_AMT6   5.093879e+07  4.395747e+07  4.207110e+07  3.160383e+08  \n"
     ]
    }
   ],
   "source": [
    "cov_matrix = new_credit.cov().round(decimals=4)\n",
    "print(cov_matrix)"
   ]
  },
  {
   "cell_type": "code",
   "execution_count": 80,
   "metadata": {},
   "outputs": [
    {
     "name": "stdout",
     "output_type": "stream",
     "text": [
      "Index(['LIMIT_BAL', 'SEX', 'EDUCATION', 'MARRIAGE', 'PAY_0', 'PAY_2', 'PAY_3',\n",
      "       'PAY_4', 'PAY_5', 'PAY_6', 'BILL_AMT1', 'PAY_AMT1', 'PAY_AMT2',\n",
      "       'PAY_AMT3', 'PAY_AMT4', 'PAY_AMT5', 'PAY_AMT6', 'DEFAULT', 'AGE2'],\n",
      "      dtype='object')\n"
     ]
    }
   ],
   "source": [
    "header = new_credit.dtypes.index\n",
    "print(header)"
   ]
  },
  {
   "cell_type": "code",
   "execution_count": 101,
   "metadata": {},
   "outputs": [
    {
     "data": {
      "text/html": [
       "<div>\n",
       "<style scoped>\n",
       "    .dataframe tbody tr th:only-of-type {\n",
       "        vertical-align: middle;\n",
       "    }\n",
       "\n",
       "    .dataframe tbody tr th {\n",
       "        vertical-align: top;\n",
       "    }\n",
       "\n",
       "    .dataframe thead th {\n",
       "        text-align: right;\n",
       "    }\n",
       "</style>\n",
       "<table border=\"1\" class=\"dataframe\">\n",
       "  <thead>\n",
       "    <tr style=\"text-align: right;\">\n",
       "      <th>EDUCATION</th>\n",
       "      <th>0</th>\n",
       "      <th>1</th>\n",
       "      <th>2</th>\n",
       "      <th>3</th>\n",
       "      <th>All</th>\n",
       "    </tr>\n",
       "    <tr>\n",
       "      <th>DEFAULT</th>\n",
       "      <th></th>\n",
       "      <th></th>\n",
       "      <th></th>\n",
       "      <th></th>\n",
       "      <th></th>\n",
       "    </tr>\n",
       "  </thead>\n",
       "  <tbody>\n",
       "    <tr>\n",
       "      <td>0</td>\n",
       "      <td>185117.241379</td>\n",
       "      <td>221224.704644</td>\n",
       "      <td>157790.280374</td>\n",
       "      <td>136138.586957</td>\n",
       "      <td>178099.726074</td>\n",
       "    </tr>\n",
       "    <tr>\n",
       "      <td>1</td>\n",
       "      <td>131212.121212</td>\n",
       "      <td>178236.738703</td>\n",
       "      <td>112591.591592</td>\n",
       "      <td>98025.610348</td>\n",
       "      <td>130109.656420</td>\n",
       "    </tr>\n",
       "    <tr>\n",
       "      <td>All</td>\n",
       "      <td>181316.239316</td>\n",
       "      <td>212956.069910</td>\n",
       "      <td>147062.437634</td>\n",
       "      <td>126550.270490</td>\n",
       "      <td>167484.322667</td>\n",
       "    </tr>\n",
       "  </tbody>\n",
       "</table>\n",
       "</div>"
      ],
      "text/plain": [
       "EDUCATION              0              1              2              3  \\\n",
       "DEFAULT                                                                 \n",
       "0          185117.241379  221224.704644  157790.280374  136138.586957   \n",
       "1          131212.121212  178236.738703  112591.591592   98025.610348   \n",
       "All        181316.239316  212956.069910  147062.437634  126550.270490   \n",
       "\n",
       "EDUCATION            All  \n",
       "DEFAULT                   \n",
       "0          178099.726074  \n",
       "1          130109.656420  \n",
       "All        167484.322667  "
      ]
     },
     "execution_count": 101,
     "metadata": {},
     "output_type": "execute_result"
    }
   ],
   "source": [
    "credit.pivot_table(\"LIMIT_BAL\", \"DEFAULT\", \"EDUCATION\",  aggfunc=np.mean, margins=True)"
   ]
  },
  {
   "cell_type": "code",
   "execution_count": 110,
   "metadata": {},
   "outputs": [],
   "source": [
    "#played around with different crosstab options\n",
    "table = pd.crosstab(index=[new_credit.DEFAULT], columns=[new_credit.AGE2,new_credit.SEX])"
   ]
  },
  {
   "cell_type": "code",
   "execution_count": 111,
   "metadata": {},
   "outputs": [
    {
     "data": {
      "text/plain": [
       "AGE2   SEX  DEFAULT\n",
       "21-27  1    0          1987\n",
       "            1           656\n",
       "       2    0          4089\n",
       "            1          1214\n",
       "28-33  1    0          2399\n",
       "            1           652\n",
       "       2    0          3797\n",
       "            1           835\n",
       "34-40  1    0          2140\n",
       "            1           703\n",
       "       2    0          3240\n",
       "            1           771\n",
       "41-54  1    0          2138\n",
       "            1           753\n",
       "       2    0          2901\n",
       "            1           814\n",
       ">55    1    0           334\n",
       "            1           104\n",
       "       2    0           285\n",
       "            1           120\n",
       "dtype: int64"
      ]
     },
     "execution_count": 111,
     "metadata": {},
     "output_type": "execute_result"
    }
   ],
   "source": [
    "table.unstack()"
   ]
  },
  {
   "cell_type": "code",
   "execution_count": 154,
   "metadata": {},
   "outputs": [
    {
     "data": {
      "text/plain": [
       "female    18112\n",
       "male      11888\n",
       "Name: SEX, dtype: int64"
      ]
     },
     "execution_count": 154,
     "metadata": {},
     "output_type": "execute_result"
    }
   ],
   "source": [
    "new_credit[\"SEX\"].value_counts()"
   ]
  },
  {
   "cell_type": "code",
   "execution_count": 150,
   "metadata": {},
   "outputs": [],
   "source": [
    "new_credit[\"SEX\"] = new_credit[\"SEX\"].astype(\"str\")"
   ]
  },
  {
   "cell_type": "code",
   "execution_count": 151,
   "metadata": {},
   "outputs": [],
   "source": [
    "new_credit[\"SEX\"] = new_credit[\"SEX\"].replace({\"female\": \"male\", \"2\": \"female\"})  #had to fix a mistake"
   ]
  },
  {
   "cell_type": "code",
   "execution_count": 152,
   "metadata": {},
   "outputs": [],
   "source": [
    "new_credit[\"SEX\"] = new_credit[\"SEX\"].astype(\"category\")"
   ]
  },
  {
   "cell_type": "code",
   "execution_count": 128,
   "metadata": {},
   "outputs": [],
   "source": [
    "new_credit[\"EDUCATION\"] = new_credit[\"EDUCATION\"].astype(\"str\")\n",
    "new_credit[\"EDUCATION\"] = new_credit[\"EDUCATION\"].replace({\"0\": \"Others\", \"1\": \"Graduate School\", \"2\": \"University\",\"3\": \"High School\"})"
   ]
  },
  {
   "cell_type": "code",
   "execution_count": 138,
   "metadata": {},
   "outputs": [],
   "source": [
    "new_credit[\"EDUCATION\"] = new_credit[\"EDUCATION\"].astype(\"category\")"
   ]
  },
  {
   "cell_type": "code",
   "execution_count": 129,
   "metadata": {},
   "outputs": [],
   "source": [
    "new_credit[\"DEFAULT\"] = new_credit[\"DEFAULT\"].astype(\"str\")\n",
    "new_credit[\"DEFAULT\"] = new_credit[\"DEFAULT\"].replace({\"0\": \"PAYS\", \"1\": \"DEFAULT\"})\n",
    "new_credit[\"DEFAULT\"] = new_credit[\"DEFAULT\"].astype(\"category\")"
   ]
  },
  {
   "cell_type": "code",
   "execution_count": 140,
   "metadata": {},
   "outputs": [],
   "source": [
    "new_credit[\"MARRIAGE\"] = new_credit[\"MARRIAGE\"].astype(\"str\")\n",
    "new_credit[\"MARRIAGE\"] = new_credit[\"MARRIAGE\"].replace({\"1\": \"M\", \"2\": \"S\", \"3\": \"D\", \"4\": \"O\"})\n",
    "new_credit[\"MARRIAGE\"] = new_credit[\"MARRIAGE\"].astype(\"category\")"
   ]
  },
  {
   "cell_type": "code",
   "execution_count": 142,
   "metadata": {},
   "outputs": [],
   "source": [
    "new_credit = new_credit.drop(columns=\"MARRIAGEDEFAULT\") #had to fix another mistake"
   ]
  },
  {
   "cell_type": "code",
   "execution_count": 155,
   "metadata": {},
   "outputs": [
    {
     "name": "stdout",
     "output_type": "stream",
     "text": [
      "<class 'pandas.core.frame.DataFrame'>\n",
      "RangeIndex: 30000 entries, 0 to 29999\n",
      "Data columns (total 19 columns):\n",
      "LIMIT_BAL    30000 non-null int64\n",
      "SEX          30000 non-null category\n",
      "EDUCATION    30000 non-null category\n",
      "MARRIAGE     30000 non-null category\n",
      "PAY_0        30000 non-null category\n",
      "PAY_2        30000 non-null category\n",
      "PAY_3        30000 non-null category\n",
      "PAY_4        30000 non-null category\n",
      "PAY_5        30000 non-null category\n",
      "PAY_6        30000 non-null category\n",
      "BILL_AMT1    30000 non-null int64\n",
      "PAY_AMT1     30000 non-null int64\n",
      "PAY_AMT2     30000 non-null int64\n",
      "PAY_AMT3     30000 non-null int64\n",
      "PAY_AMT4     30000 non-null int64\n",
      "PAY_AMT5     30000 non-null int64\n",
      "PAY_AMT6     30000 non-null int64\n",
      "DEFAULT      30000 non-null category\n",
      "AGE2         29932 non-null category\n",
      "dtypes: category(11), int64(8)\n",
      "memory usage: 2.1 MB\n"
     ]
    }
   ],
   "source": [
    "new_credit.info ()"
   ]
  },
  {
   "cell_type": "code",
   "execution_count": 146,
   "metadata": {},
   "outputs": [
    {
     "data": {
      "text/plain": [
       "<seaborn.axisgrid.FacetGrid at 0x1c7a5649b88>"
      ]
     },
     "execution_count": 146,
     "metadata": {},
     "output_type": "execute_result"
    },
    {
     "data": {
      "image/png": "[encoded data removed]",
      "text/plain": [
       "<Figure size 539.475x360 with 1 Axes>"
      ]
     },
     "metadata": {},
     "output_type": "display_data"
    }
   ],
   "source": [
    "#split by defaulted or not \n",
    "sns.factorplot('EDUCATION', data=new_credit, kind='count', hue='DEFAULT', order=[\"Graduate\",\"University\", \"High School\", \"Other\"], \n",
    "                aspect=1.25, size=5)"
   ]
  },
  {
   "cell_type": "code",
   "execution_count": 159,
   "metadata": {},
   "outputs": [
    {
     "data": {
      "text/plain": [
       "<seaborn.axisgrid.FacetGrid at 0x1c7a5ed5c08>"
      ]
     },
     "execution_count": 159,
     "metadata": {},
     "output_type": "execute_result"
    },
    {
     "data": {
      "image/png": "[encoded data removed]",
      "text/plain": [
       "<Figure size 972.85x360 with 2 Axes>"
      ]
     },
     "metadata": {},
     "output_type": "display_data"
    }
   ],
   "source": [
    "#split by defaulted or not \n",
    "sns.factorplot('EDUCATION', data=new_credit, kind='count', hue='SEX', col='DEFAULT', order=[\"Graduate School\",\"University\", \"High School\", \"Others\"], \n",
    "               hue_order=[\"male\",\"female\"], aspect=1.25, size=5)"
   ]
  },
  {
   "cell_type": "code",
   "execution_count": 156,
   "metadata": {},
   "outputs": [],
   "source": [
    "#played around with different crosstab options\n",
    "table = pd.crosstab(index=[new_credit.DEFAULT], columns=[new_credit.EDUCATION,new_credit.SEX])"
   ]
  },
  {
   "cell_type": "code",
   "execution_count": 157,
   "metadata": {},
   "outputs": [
    {
     "data": {
      "text/plain": [
       "EDUCATION        SEX     DEFAULT\n",
       "Graduate School  female  DEFAULT    1130\n",
       "                         PAYS       5101\n",
       "                 male    DEFAULT     906\n",
       "                         PAYS       3448\n",
       "High School      female  DEFAULT     692\n",
       "                         PAYS       2235\n",
       "                 male    DEFAULT     545\n",
       "                         PAYS       1445\n",
       "Others           female  DEFAULT      19\n",
       "                         PAYS        279\n",
       "                 male    DEFAULT      14\n",
       "                         PAYS        156\n",
       "University       female  DEFAULT    1922\n",
       "                         PAYS       6734\n",
       "                 male    DEFAULT    1408\n",
       "                         PAYS       3966\n",
       "dtype: int64"
      ]
     },
     "execution_count": 157,
     "metadata": {},
     "output_type": "execute_result"
    }
   ],
   "source": [
    "table.unstack()"
   ]
  },
  {
   "cell_type": "code",
   "execution_count": 170,
   "metadata": {},
   "outputs": [
    {
     "data": {
      "text/plain": [
       "<seaborn.axisgrid.FacetGrid at 0x1c7a5f7a408>"
      ]
     },
     "execution_count": 170,
     "metadata": {},
     "output_type": "execute_result"
    },
    {
     "data": {
      "image/png": "[encoded data removed]",
      "text/plain": [
       "<Figure size 449.475x360 with 1 Axes>"
      ]
     },
     "metadata": {},
     "output_type": "display_data"
    }
   ],
   "source": [
    "#Testing probability of defaulting visualization\n",
    "sns.factorplot( 'AGE2', 'PAY_AMT1', hue=\"DEFAULT\", data=new_credit)"
   ]
  },
  {
   "cell_type": "code",
   "execution_count": 162,
   "metadata": {},
   "outputs": [
    {
     "data": {
      "text/plain": [
       "Index(['LIMIT_BAL', 'SEX', 'EDUCATION', 'MARRIAGE', 'PAY_0', 'PAY_2', 'PAY_3',\n",
       "       'PAY_4', 'PAY_5', 'PAY_6', 'BILL_AMT1', 'PAY_AMT1', 'PAY_AMT2',\n",
       "       'PAY_AMT3', 'PAY_AMT4', 'PAY_AMT5', 'PAY_AMT6', 'DEFAULT', 'AGE2'],\n",
       "      dtype='object')"
      ]
     },
     "execution_count": 162,
     "metadata": {},
     "output_type": "execute_result"
    }
   ],
   "source": [
    "new_credit.columns"
   ]
  },
  {
   "cell_type": "code",
   "execution_count": 175,
   "metadata": {},
   "outputs": [
    {
     "data": {
      "text/plain": [
       "<seaborn.axisgrid.FacetGrid at 0x1c7a6ec9448>"
      ]
     },
     "execution_count": 175,
     "metadata": {},
     "output_type": "execute_result"
    },
    {
     "data": {
      "image/png": "[encoded data removed]",
      "text/plain": [
       "<Figure size 1872.85x360 with 5 Axes>"
      ]
     },
     "metadata": {},
     "output_type": "display_data"
    }
   ],
   "source": [
    "# Age behavior visualizatio\n",
    "sns.factorplot('BILL_AMT1','DEFAULT',hue='SEX',data=new_credit,  hue_order=[\"male\", \"female\"],col=\"AGE2\")"
   ]
  },
  {
   "cell_type": "code",
   "execution_count": 172,
   "metadata": {},
   "outputs": [
    {
     "data": {
      "text/plain": [
       "<seaborn.axisgrid.FacetGrid at 0x1c7a65a1d48>"
      ]
     },
     "execution_count": 172,
     "metadata": {},
     "output_type": "execute_result"
    },
    {
     "data": {
      "image/png": "[encoded data removed]",
      "text/plain": [
       "<Figure size 809.475x360 with 2 Axes>"
      ]
     },
     "metadata": {},
     "output_type": "display_data"
    }
   ],
   "source": [
    "#Testing probability of defaulting visualization\n",
    "sns.factorplot( 'AGE2', 'PAY_AMT1', hue=\"DEFAULT\", data=new_credit, col=\"SEX\", col_order=[\"male\",\"female\"])"
   ]
  },
  {
   "cell_type": "code",
   "execution_count": 177,
   "metadata": {},
   "outputs": [
    {
     "data": {
      "text/plain": [
       "<seaborn.axisgrid.FacetGrid at 0x1c7a83ea088>"
      ]
     },
     "execution_count": 177,
     "metadata": {},
     "output_type": "execute_result"
    },
    {
     "data": {
      "image/png": "[encoded data removed]",
      "text/plain": [
       "<Figure size 809.475x360 with 2 Axes>"
      ]
     },
     "metadata": {},
     "output_type": "display_data"
    }
   ],
   "source": [
    "#Testing probability of defaulting visualization\n",
    "sns.factorplot( 'PAY_6', 'PAY_AMT6',  hue=\"DEFAULT\", data=new_credit, col=\"SEX\", col_order=[\"male\",\"female\"])"
   ]
  },
  {
   "cell_type": "code",
   "execution_count": 179,
   "metadata": {},
   "outputs": [
    {
     "data": {
      "text/plain": [
       "<seaborn.axisgrid.FacetGrid at 0x1c7a6658888>"
      ]
     },
     "execution_count": 179,
     "metadata": {},
     "output_type": "execute_result"
    },
    {
     "data": {
      "image/png": "[encoded data removed]",
      "text/plain": [
       "<Figure size 809.475x360 with 2 Axes>"
      ]
     },
     "metadata": {},
     "output_type": "display_data"
    }
   ],
   "source": [
    "#Testing probability of defaulting visualization\n",
    "sns.factorplot( 'PAY_2', 'PAY_AMT2',  hue=\"DEFAULT\", data=new_credit, col=\"SEX\", col_order=[\"male\",\"female\"])"
   ]
  },
  {
   "cell_type": "code",
   "execution_count": 180,
   "metadata": {
    "scrolled": true
   },
   "outputs": [
    {
     "data": {
      "text/plain": [
       "<seaborn.axisgrid.FacetGrid at 0x1c7a913c5c8>"
      ]
     },
     "execution_count": 180,
     "metadata": {},
     "output_type": "execute_result"
    },
    {
     "data": {
      "image/png": "[encoded data removed]",
      "text/plain": [
       "<Figure size 809.475x360 with 2 Axes>"
      ]
     },
     "metadata": {},
     "output_type": "display_data"
    }
   ],
   "source": [
    "#Testing probability of defaulting visualization\n",
    "sns.factorplot( 'PAY_4', 'PAY_AMT4',  hue=\"DEFAULT\", data=new_credit, col=\"SEX\", col_order=[\"male\",\"female\"])"
   ]
  },
  {
   "cell_type": "code",
   "execution_count": 190,
   "metadata": {},
   "outputs": [
    {
     "data": {
      "text/plain": [
       "<seaborn.axisgrid.FacetGrid at 0x1c7a9a3de88>"
      ]
     },
     "execution_count": 190,
     "metadata": {},
     "output_type": "execute_result"
    },
    {
     "data": {
      "image/png": "[encoded data removed]",
      "text/plain": [
       "<Figure size 1512.85x360 with 4 Axes>"
      ]
     },
     "metadata": {},
     "output_type": "display_data"
    }
   ],
   "source": [
    "# Married status behavior visualiztion\n",
    "sns.factorplot('BILL_AMT1','DEFAULT',hue='SEX',data=new_credit,  hue_order=[\"male\", \"female\"],col=\"MARRIAGE\")"
   ]
  },
  {
   "cell_type": "code",
   "execution_count": 193,
   "metadata": {
    "scrolled": true
   },
   "outputs": [
    {
     "data": {
      "text/plain": [
       "<seaborn.axisgrid.FacetGrid at 0x1c7ab300408>"
      ]
     },
     "execution_count": 193,
     "metadata": {},
     "output_type": "execute_result"
    },
    {
     "data": {
      "image/png": "[encoded data removed]",
      "text/plain": [
       "<Figure size 972.85x360 with 2 Axes>"
      ]
     },
     "metadata": {},
     "output_type": "display_data"
    }
   ],
   "source": [
    "#split by defaulted or not \n",
    "sns.catplot('MARRIAGE', data=new_credit, kind='count', hue='SEX', col='DEFAULT', order=[\"S\",\"M\", \"D\", \"O\"], \n",
    "               hue_order=[\"male\",\"female\"], aspect=1.25, size=5, palette=\"pastel\")"
   ]
  },
  {
   "cell_type": "code",
   "execution_count": 184,
   "metadata": {},
   "outputs": [],
   "source": [
    "new_credit_o[\"SEX\"] = new_credit_o[\"SEX\"].astype(\"str\")\n",
    "new_credit_o[\"SEX\"] = new_credit_o[\"SEX\"].replace({\"1\": \"male\", \"2\": \"female\"})\n",
    "new_credit_o[\"SEX\"] = new_credit_o[\"SEX\"].astype(\"category\")"
   ]
  },
  {
   "cell_type": "code",
   "execution_count": 185,
   "metadata": {},
   "outputs": [
    {
     "data": {
      "text/plain": [
       "<seaborn.axisgrid.FacetGrid at 0x1c7a9626c48>"
      ]
     },
     "execution_count": 185,
     "metadata": {},
     "output_type": "execute_result"
    },
    {
     "data": {
      "image/png": "[encoded data removed]",
      "text/plain": [
       "<Figure size 774.925x360 with 2 Axes>"
      ]
     },
     "metadata": {},
     "output_type": "display_data"
    }
   ],
   "source": [
    "#Testing probability of defaulting visualization\n",
    "sns.factorplot( 'PAY_4', 'PAY_AMT4',  hue=\"DEFAULT\", data=new_credit_o, col=\"SEX\", col_order=[\"male\",\"female\"])"
   ]
  },
  {
   "cell_type": "code",
   "execution_count": 186,
   "metadata": {},
   "outputs": [],
   "source": [
    "new_credit_o[\"EDUCATION\"] = new_credit_o[\"EDUCATION\"].astype(\"str\")\n",
    "new_credit_o[\"EDUCATION\"] = new_credit_o[\"EDUCATION\"].replace({\"0\": \"Others\", \"1\": \"Graduate School\", \"2\": \"University\",\"3\": \"High School\"})"
   ]
  },
  {
   "cell_type": "code",
   "execution_count": 187,
   "metadata": {},
   "outputs": [],
   "source": [
    "new_credit_o[\"EDUCATION\"] = new_credit_o[\"EDUCATION\"].astype(\"category\")"
   ]
  },
  {
   "cell_type": "code",
   "execution_count": 188,
   "metadata": {},
   "outputs": [],
   "source": [
    "new_credit_o[\"DEFAULT\"] = new_credit_o[\"DEFAULT\"].astype(\"str\")\n",
    "new_credit_o[\"DEFAULT\"] = new_credit_o[\"DEFAULT\"].replace({\"0\": \"PAYS\", \"1\": \"DEFAULT\"})\n",
    "new_credit_o[\"DEFAULT\"] = new_credit_o[\"DEFAULT\"].astype(\"category\")"
   ]
  },
  {
   "cell_type": "code",
   "execution_count": 189,
   "metadata": {},
   "outputs": [],
   "source": [
    "new_credit_o[\"MARRIAGE\"] = new_credit_o[\"MARRIAGE\"].astype(\"str\")\n",
    "new_credit_o[\"MARRIAGE\"] = new_credit_o[\"MARRIAGE\"].replace({\"1\": \"M\", \"2\": \"S\", \"3\": \"D\", \"4\": \"O\"})\n",
    "new_credit_o[\"MARRIAGE\"] = new_credit_o[\"MARRIAGE\"].astype(\"category\")"
   ]
  },
  {
   "cell_type": "code",
   "execution_count": 195,
   "metadata": {},
   "outputs": [
    {
     "data": {
      "text/plain": [
       "<seaborn.axisgrid.FacetGrid at 0x1c7ab678688>"
      ]
     },
     "execution_count": 195,
     "metadata": {},
     "output_type": "execute_result"
    },
    {
     "data": {
      "image/png": "[encoded data removed]",
      "text/plain": [
       "<Figure size 972.85x360 with 2 Axes>"
      ]
     },
     "metadata": {},
     "output_type": "display_data"
    }
   ],
   "source": [
    "#split by defaulted or not \n",
    "sns.catplot('MARRIAGE', data=new_credit_o, kind='count', hue='SEX', col='DEFAULT', order=[\"S\",\"M\", \"D\", \"O\"], \n",
    "               hue_order=[\"male\",\"female\"], aspect=1.25, size=5, palette=\"muted\")"
   ]
  },
  {
   "cell_type": "code",
   "execution_count": 196,
   "metadata": {},
   "outputs": [
    {
     "data": {
      "text/plain": [
       "Index(['LIMIT_BAL', 'SEX', 'EDUCATION', 'MARRIAGE', 'PAY_0', 'PAY_2', 'PAY_3',\n",
       "       'PAY_4', 'PAY_5', 'PAY_6', 'BILL_AMT1', 'PAY_AMT1', 'PAY_AMT2',\n",
       "       'PAY_AMT3', 'PAY_AMT4', 'PAY_AMT5', 'PAY_AMT6', 'DEFAULT', 'AGE2'],\n",
       "      dtype='object')"
      ]
     },
     "execution_count": 196,
     "metadata": {},
     "output_type": "execute_result"
    }
   ],
   "source": [
    "new_credit_o.columns"
   ]
  },
  {
   "cell_type": "code",
   "execution_count": 197,
   "metadata": {},
   "outputs": [],
   "source": [
    "#played around with different crosstab options\n",
    "table = pd.crosstab(index=[new_credit_o.DEFAULT], columns=[new_credit_o.EDUCATION,new_credit_o.SEX])"
   ]
  },
  {
   "cell_type": "code",
   "execution_count": 198,
   "metadata": {},
   "outputs": [
    {
     "data": {
      "text/plain": [
       "EDUCATION        SEX     DEFAULT\n",
       "Graduate School  female  DEFAULT    1086\n",
       "                         PAYS       4801\n",
       "                 male    DEFAULT     855\n",
       "                         PAYS       3135\n",
       "High School      female  DEFAULT     671\n",
       "                         PAYS       2144\n",
       "                 male    DEFAULT     512\n",
       "                         PAYS       1372\n",
       "Others           female  DEFAULT      13\n",
       "                         PAYS        235\n",
       "                 male    DEFAULT       9\n",
       "                         PAYS        121\n",
       "University       female  DEFAULT    1834\n",
       "                         PAYS       6412\n",
       "                 male    DEFAULT    1344\n",
       "                         PAYS       3753\n",
       "dtype: int64"
      ]
     },
     "execution_count": 198,
     "metadata": {},
     "output_type": "execute_result"
    }
   ],
   "source": [
    "table.unstack()"
   ]
  },
  {
   "cell_type": "code",
   "execution_count": 200,
   "metadata": {},
   "outputs": [
    {
     "data": {
      "text/plain": [
       "<seaborn.axisgrid.FacetGrid at 0x1c7abacb8c8>"
      ]
     },
     "execution_count": 200,
     "metadata": {},
     "output_type": "execute_result"
    },
    {
     "data": {
      "image/png": "[encoded data removed]",
      "text/plain": [
       "<Figure size 449.475x360 with 1 Axes>"
      ]
     },
     "metadata": {},
     "output_type": "display_data"
    }
   ],
   "source": [
    "#Testing probability of defaulting visualization\n",
    "sns.factorplot( 'AGE2', 'PAY_AMT1', hue=\"DEFAULT\", data=new_credit_o)"
   ]
  },
  {
   "cell_type": "code",
   "execution_count": null,
   "metadata": {},
   "outputs": [],
   "source": []
  }
 ],
 "metadata": {
  "kernelspec": {
   "display_name": "Python 3",
   "language": "python",
   "name": "python3"
  },
  "language_info": {
   "codemirror_mode": {
    "name": "ipython",
    "version": 3
   },
   "file_extension": ".py",
   "mimetype": "text/x-python",
   "name": "python",
   "nbconvert_exporter": "python",
   "pygments_lexer": "ipython3",
   "version": "3.7.4"
  }
 },
 "nbformat": 4,
 "nbformat_minor": 2
}
