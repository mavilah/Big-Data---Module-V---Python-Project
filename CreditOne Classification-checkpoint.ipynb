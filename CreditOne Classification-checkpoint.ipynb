{
 "cells": [
  {
   "cell_type": "markdown",
   "metadata": {},
   "source": [
    "# CreditOne Classification\n",
    "## After running a regression model on the data and having performed EDA on the data, this jupyter notebook contains only the exercise for the Classification in an attempt to predict the likelihood of a client defaulting payment.\n",
    "### Imports"
   ]
  },
  {
   "cell_type": "code",
   "execution_count": 103,
   "metadata": {},
   "outputs": [],
   "source": [
    "#imports \n",
    "\n",
    "#import libraries\n",
    "import pandas as pd\n",
    "import numpy as np\n",
    "import matplotlib as mplot\n",
    "import seaborn as sns\n",
    "from scipy import stats\n",
    "import matplotlib.pyplot as plt\n",
    "%matplotlib inline\n",
    "import sklearn\n",
    "import pylab as pl\n",
    "\n",
    "#import other functions\n",
    "from sklearn import preprocessing\n",
    "from sklearn.preprocessing import StandardScaler\n",
    "\n",
    "#import estimators\n",
    "from sklearn.neighbors import KNeighborsClassifier\n",
    "from sklearn.tree import DecisionTreeClassifier\n",
    "from sklearn.svm import SVC\n",
    "\n",
    "#model metrics\n",
    "from sklearn.metrics import mean_squared_error\n",
    "from sklearn.metrics import r2_score\n",
    "from sklearn.metrics import classification_report, confusion_matrix\n",
    "from sklearn.metrics import accuracy_score, precision_recall_fscore_support\n",
    "\n",
    "#cross validation\n",
    "from sklearn.model_selection import train_test_split\n",
    "from sklearn.model_selection import cross_val_score\n",
    "\n",
    "#Sqrt\n",
    "from math import sqrt"
   ]
  },
  {
   "cell_type": "markdown",
   "metadata": {},
   "source": [
    "# Data Preparation\n",
    "## I first attempted to read the modified file from my previous exercise and eliminate the ID column"
   ]
  },
  {
   "cell_type": "code",
   "execution_count": 4,
   "metadata": {},
   "outputs": [
    {
     "data": {
      "text/html": [
       "<div>\n",
       "<style scoped>\n",
       "    .dataframe tbody tr th:only-of-type {\n",
       "        vertical-align: middle;\n",
       "    }\n",
       "\n",
       "    .dataframe tbody tr th {\n",
       "        vertical-align: top;\n",
       "    }\n",
       "\n",
       "    .dataframe thead th {\n",
       "        text-align: right;\n",
       "    }\n",
       "</style>\n",
       "<table border=\"1\" class=\"dataframe\">\n",
       "  <thead>\n",
       "    <tr style=\"text-align: right;\">\n",
       "      <th></th>\n",
       "      <th>LIMIT_BAL</th>\n",
       "      <th>SEX</th>\n",
       "      <th>EDUCATION</th>\n",
       "      <th>MARRIAGE</th>\n",
       "      <th>PAY_0</th>\n",
       "      <th>PAY_2</th>\n",
       "      <th>PAY_3</th>\n",
       "      <th>PAY_4</th>\n",
       "      <th>PAY_5</th>\n",
       "      <th>PAY_6</th>\n",
       "      <th>BILL_AMT1</th>\n",
       "      <th>PAY_AMT1</th>\n",
       "      <th>PAY_AMT2</th>\n",
       "      <th>PAY_AMT3</th>\n",
       "      <th>PAY_AMT4</th>\n",
       "      <th>PAY_AMT5</th>\n",
       "      <th>PAY_AMT6</th>\n",
       "      <th>DEFAULT</th>\n",
       "      <th>AGE2</th>\n",
       "    </tr>\n",
       "  </thead>\n",
       "  <tbody>\n",
       "    <tr>\n",
       "      <td>0</td>\n",
       "      <td>20000</td>\n",
       "      <td>female</td>\n",
       "      <td>University</td>\n",
       "      <td>M</td>\n",
       "      <td>2</td>\n",
       "      <td>2</td>\n",
       "      <td>-1</td>\n",
       "      <td>-1</td>\n",
       "      <td>-2</td>\n",
       "      <td>-2</td>\n",
       "      <td>3913</td>\n",
       "      <td>0</td>\n",
       "      <td>689</td>\n",
       "      <td>0</td>\n",
       "      <td>0</td>\n",
       "      <td>0</td>\n",
       "      <td>0</td>\n",
       "      <td>DEFAULT</td>\n",
       "      <td>21-27</td>\n",
       "    </tr>\n",
       "    <tr>\n",
       "      <td>1</td>\n",
       "      <td>120000</td>\n",
       "      <td>female</td>\n",
       "      <td>University</td>\n",
       "      <td>S</td>\n",
       "      <td>-1</td>\n",
       "      <td>2</td>\n",
       "      <td>0</td>\n",
       "      <td>0</td>\n",
       "      <td>0</td>\n",
       "      <td>2</td>\n",
       "      <td>2682</td>\n",
       "      <td>0</td>\n",
       "      <td>1000</td>\n",
       "      <td>1000</td>\n",
       "      <td>1000</td>\n",
       "      <td>0</td>\n",
       "      <td>2000</td>\n",
       "      <td>DEFAULT</td>\n",
       "      <td>21-27</td>\n",
       "    </tr>\n",
       "    <tr>\n",
       "      <td>2</td>\n",
       "      <td>90000</td>\n",
       "      <td>female</td>\n",
       "      <td>University</td>\n",
       "      <td>S</td>\n",
       "      <td>0</td>\n",
       "      <td>0</td>\n",
       "      <td>0</td>\n",
       "      <td>0</td>\n",
       "      <td>0</td>\n",
       "      <td>0</td>\n",
       "      <td>29239</td>\n",
       "      <td>1518</td>\n",
       "      <td>1500</td>\n",
       "      <td>1000</td>\n",
       "      <td>1000</td>\n",
       "      <td>1000</td>\n",
       "      <td>5000</td>\n",
       "      <td>PAYS</td>\n",
       "      <td>28-33</td>\n",
       "    </tr>\n",
       "    <tr>\n",
       "      <td>3</td>\n",
       "      <td>50000</td>\n",
       "      <td>female</td>\n",
       "      <td>University</td>\n",
       "      <td>M</td>\n",
       "      <td>0</td>\n",
       "      <td>0</td>\n",
       "      <td>0</td>\n",
       "      <td>0</td>\n",
       "      <td>0</td>\n",
       "      <td>0</td>\n",
       "      <td>46990</td>\n",
       "      <td>2000</td>\n",
       "      <td>2019</td>\n",
       "      <td>1200</td>\n",
       "      <td>1100</td>\n",
       "      <td>1069</td>\n",
       "      <td>1000</td>\n",
       "      <td>PAYS</td>\n",
       "      <td>34-40</td>\n",
       "    </tr>\n",
       "    <tr>\n",
       "      <td>4</td>\n",
       "      <td>50000</td>\n",
       "      <td>male</td>\n",
       "      <td>University</td>\n",
       "      <td>M</td>\n",
       "      <td>-1</td>\n",
       "      <td>0</td>\n",
       "      <td>-1</td>\n",
       "      <td>0</td>\n",
       "      <td>0</td>\n",
       "      <td>0</td>\n",
       "      <td>8617</td>\n",
       "      <td>2000</td>\n",
       "      <td>36681</td>\n",
       "      <td>10000</td>\n",
       "      <td>9000</td>\n",
       "      <td>689</td>\n",
       "      <td>679</td>\n",
       "      <td>PAYS</td>\n",
       "      <td>&gt;55</td>\n",
       "    </tr>\n",
       "  </tbody>\n",
       "</table>\n",
       "</div>"
      ],
      "text/plain": [
       "   LIMIT_BAL     SEX   EDUCATION MARRIAGE  PAY_0  PAY_2  PAY_3  PAY_4  PAY_5  \\\n",
       "0      20000  female  University        M      2      2     -1     -1     -2   \n",
       "1     120000  female  University        S     -1      2      0      0      0   \n",
       "2      90000  female  University        S      0      0      0      0      0   \n",
       "3      50000  female  University        M      0      0      0      0      0   \n",
       "4      50000    male  University        M     -1      0     -1      0      0   \n",
       "\n",
       "   PAY_6  BILL_AMT1  PAY_AMT1  PAY_AMT2  PAY_AMT3  PAY_AMT4  PAY_AMT5  \\\n",
       "0     -2       3913         0       689         0         0         0   \n",
       "1      2       2682         0      1000      1000      1000         0   \n",
       "2      0      29239      1518      1500      1000      1000      1000   \n",
       "3      0      46990      2000      2019      1200      1100      1069   \n",
       "4      0       8617      2000     36681     10000      9000       689   \n",
       "\n",
       "   PAY_AMT6  DEFAULT   AGE2  \n",
       "0         0  DEFAULT  21-27  \n",
       "1      2000  DEFAULT  21-27  \n",
       "2      5000     PAYS  28-33  \n",
       "3      1000     PAYS  34-40  \n",
       "4       679     PAYS    >55  "
      ]
     },
     "execution_count": 4,
     "metadata": {},
     "output_type": "execute_result"
    }
   ],
   "source": [
    "#data\n",
    "rawData = pd.read_csv(r'C:\\Users\\maavila\\Documents\\CURSO-BigData-DD\\Module V\\Task II\\new_credit.csv', header =0)\n",
    "rawData.drop(rawData.columns[0], axis=1, inplace=True)\n",
    "rawData.head()"
   ]
  },
  {
   "cell_type": "code",
   "execution_count": 5,
   "metadata": {},
   "outputs": [
    {
     "data": {
      "text/plain": [
       "(30000, 19)"
      ]
     },
     "execution_count": 5,
     "metadata": {},
     "output_type": "execute_result"
    }
   ],
   "source": [
    "rawData.shape"
   ]
  },
  {
   "cell_type": "markdown",
   "metadata": {},
   "source": [
    "## Creating features and Dependent Variable for splitting the data into training and testing datasets"
   ]
  },
  {
   "cell_type": "code",
   "execution_count": 8,
   "metadata": {},
   "outputs": [],
   "source": [
    "#select features and dependant variable\n",
    "X = rawData.drop('DEFAULT', axis=1)\n",
    "y = rawData['DEFAULT']"
   ]
  },
  {
   "cell_type": "code",
   "execution_count": 12,
   "metadata": {},
   "outputs": [
    {
     "name": "stdout",
     "output_type": "stream",
     "text": [
      "<class 'pandas.core.frame.DataFrame'>\n",
      "RangeIndex: 30000 entries, 0 to 29999\n",
      "Data columns (total 18 columns):\n",
      "LIMIT_BAL    30000 non-null int64\n",
      "SEX          30000 non-null object\n",
      "EDUCATION    30000 non-null object\n",
      "MARRIAGE     30000 non-null object\n",
      "PAY_0        30000 non-null int64\n",
      "PAY_2        30000 non-null int64\n",
      "PAY_3        30000 non-null int64\n",
      "PAY_4        30000 non-null int64\n",
      "PAY_5        30000 non-null int64\n",
      "PAY_6        30000 non-null int64\n",
      "BILL_AMT1    30000 non-null int64\n",
      "PAY_AMT1     30000 non-null int64\n",
      "PAY_AMT2     30000 non-null int64\n",
      "PAY_AMT3     30000 non-null int64\n",
      "PAY_AMT4     30000 non-null int64\n",
      "PAY_AMT5     30000 non-null int64\n",
      "PAY_AMT6     30000 non-null int64\n",
      "AGE2         29932 non-null object\n",
      "dtypes: int64(14), object(4)\n",
      "memory usage: 4.1+ MB\n"
     ]
    }
   ],
   "source": [
    "X.info ()"
   ]
  },
  {
   "cell_type": "code",
   "execution_count": 13,
   "metadata": {},
   "outputs": [
    {
     "data": {
      "text/html": [
       "<div>\n",
       "<style scoped>\n",
       "    .dataframe tbody tr th:only-of-type {\n",
       "        vertical-align: middle;\n",
       "    }\n",
       "\n",
       "    .dataframe tbody tr th {\n",
       "        vertical-align: top;\n",
       "    }\n",
       "\n",
       "    .dataframe thead th {\n",
       "        text-align: right;\n",
       "    }\n",
       "</style>\n",
       "<table border=\"1\" class=\"dataframe\">\n",
       "  <thead>\n",
       "    <tr style=\"text-align: right;\">\n",
       "      <th></th>\n",
       "      <th>LIMIT_BAL</th>\n",
       "      <th>SEX</th>\n",
       "      <th>EDUCATION</th>\n",
       "      <th>MARRIAGE</th>\n",
       "      <th>PAY_0</th>\n",
       "      <th>PAY_2</th>\n",
       "      <th>PAY_3</th>\n",
       "      <th>PAY_4</th>\n",
       "      <th>PAY_5</th>\n",
       "      <th>PAY_6</th>\n",
       "      <th>BILL_AMT1</th>\n",
       "      <th>PAY_AMT1</th>\n",
       "      <th>PAY_AMT2</th>\n",
       "      <th>PAY_AMT3</th>\n",
       "      <th>PAY_AMT4</th>\n",
       "      <th>PAY_AMT5</th>\n",
       "      <th>PAY_AMT6</th>\n",
       "      <th>AGE2</th>\n",
       "    </tr>\n",
       "  </thead>\n",
       "  <tbody>\n",
       "    <tr>\n",
       "      <td>0</td>\n",
       "      <td>20000</td>\n",
       "      <td>female</td>\n",
       "      <td>University</td>\n",
       "      <td>M</td>\n",
       "      <td>2</td>\n",
       "      <td>2</td>\n",
       "      <td>-1</td>\n",
       "      <td>-1</td>\n",
       "      <td>-2</td>\n",
       "      <td>-2</td>\n",
       "      <td>3913</td>\n",
       "      <td>0</td>\n",
       "      <td>689</td>\n",
       "      <td>0</td>\n",
       "      <td>0</td>\n",
       "      <td>0</td>\n",
       "      <td>0</td>\n",
       "      <td>21-27</td>\n",
       "    </tr>\n",
       "    <tr>\n",
       "      <td>1</td>\n",
       "      <td>120000</td>\n",
       "      <td>female</td>\n",
       "      <td>University</td>\n",
       "      <td>S</td>\n",
       "      <td>-1</td>\n",
       "      <td>2</td>\n",
       "      <td>0</td>\n",
       "      <td>0</td>\n",
       "      <td>0</td>\n",
       "      <td>2</td>\n",
       "      <td>2682</td>\n",
       "      <td>0</td>\n",
       "      <td>1000</td>\n",
       "      <td>1000</td>\n",
       "      <td>1000</td>\n",
       "      <td>0</td>\n",
       "      <td>2000</td>\n",
       "      <td>21-27</td>\n",
       "    </tr>\n",
       "    <tr>\n",
       "      <td>2</td>\n",
       "      <td>90000</td>\n",
       "      <td>female</td>\n",
       "      <td>University</td>\n",
       "      <td>S</td>\n",
       "      <td>0</td>\n",
       "      <td>0</td>\n",
       "      <td>0</td>\n",
       "      <td>0</td>\n",
       "      <td>0</td>\n",
       "      <td>0</td>\n",
       "      <td>29239</td>\n",
       "      <td>1518</td>\n",
       "      <td>1500</td>\n",
       "      <td>1000</td>\n",
       "      <td>1000</td>\n",
       "      <td>1000</td>\n",
       "      <td>5000</td>\n",
       "      <td>28-33</td>\n",
       "    </tr>\n",
       "    <tr>\n",
       "      <td>3</td>\n",
       "      <td>50000</td>\n",
       "      <td>female</td>\n",
       "      <td>University</td>\n",
       "      <td>M</td>\n",
       "      <td>0</td>\n",
       "      <td>0</td>\n",
       "      <td>0</td>\n",
       "      <td>0</td>\n",
       "      <td>0</td>\n",
       "      <td>0</td>\n",
       "      <td>46990</td>\n",
       "      <td>2000</td>\n",
       "      <td>2019</td>\n",
       "      <td>1200</td>\n",
       "      <td>1100</td>\n",
       "      <td>1069</td>\n",
       "      <td>1000</td>\n",
       "      <td>34-40</td>\n",
       "    </tr>\n",
       "    <tr>\n",
       "      <td>4</td>\n",
       "      <td>50000</td>\n",
       "      <td>male</td>\n",
       "      <td>University</td>\n",
       "      <td>M</td>\n",
       "      <td>-1</td>\n",
       "      <td>0</td>\n",
       "      <td>-1</td>\n",
       "      <td>0</td>\n",
       "      <td>0</td>\n",
       "      <td>0</td>\n",
       "      <td>8617</td>\n",
       "      <td>2000</td>\n",
       "      <td>36681</td>\n",
       "      <td>10000</td>\n",
       "      <td>9000</td>\n",
       "      <td>689</td>\n",
       "      <td>679</td>\n",
       "      <td>&gt;55</td>\n",
       "    </tr>\n",
       "  </tbody>\n",
       "</table>\n",
       "</div>"
      ],
      "text/plain": [
       "   LIMIT_BAL     SEX   EDUCATION MARRIAGE  PAY_0  PAY_2  PAY_3  PAY_4  PAY_5  \\\n",
       "0      20000  female  University        M      2      2     -1     -1     -2   \n",
       "1     120000  female  University        S     -1      2      0      0      0   \n",
       "2      90000  female  University        S      0      0      0      0      0   \n",
       "3      50000  female  University        M      0      0      0      0      0   \n",
       "4      50000    male  University        M     -1      0     -1      0      0   \n",
       "\n",
       "   PAY_6  BILL_AMT1  PAY_AMT1  PAY_AMT2  PAY_AMT3  PAY_AMT4  PAY_AMT5  \\\n",
       "0     -2       3913         0       689         0         0         0   \n",
       "1      2       2682         0      1000      1000      1000         0   \n",
       "2      0      29239      1518      1500      1000      1000      1000   \n",
       "3      0      46990      2000      2019      1200      1100      1069   \n",
       "4      0       8617      2000     36681     10000      9000       689   \n",
       "\n",
       "   PAY_AMT6   AGE2  \n",
       "0         0  21-27  \n",
       "1      2000  21-27  \n",
       "2      5000  28-33  \n",
       "3      1000  34-40  \n",
       "4       679    >55  "
      ]
     },
     "execution_count": 13,
     "metadata": {},
     "output_type": "execute_result"
    }
   ],
   "source": [
    "#Training Set (Feature Space: X Training)\n",
    "X_train = (X[: 30000])\n",
    "X_train.head()"
   ]
  },
  {
   "cell_type": "code",
   "execution_count": 14,
   "metadata": {},
   "outputs": [
    {
     "name": "stdout",
     "output_type": "stream",
     "text": [
      "The number of observations in the Y training set are: 30000\n"
     ]
    },
    {
     "data": {
      "text/plain": [
       "0    DEFAULT\n",
       "1    DEFAULT\n",
       "2       PAYS\n",
       "3       PAYS\n",
       "4       PAYS\n",
       "Name: DEFAULT, dtype: object"
      ]
     },
     "execution_count": 14,
     "metadata": {},
     "output_type": "execute_result"
    }
   ],
   "source": [
    "#Dependent Variable Training Set (y Training)\n",
    "y_train = y[: 30000]\n",
    "y_train_count = len(y_train.index)\n",
    "print('The number of observations in the Y training set are:',str(y_train_count))\n",
    "y_train.head()"
   ]
  },
  {
   "cell_type": "code",
   "execution_count": 15,
   "metadata": {},
   "outputs": [],
   "source": [
    "#Train and Testing Set\n",
    "X_train, X_test, y_train, y_test = train_test_split(X, y, test_size=0.20)"
   ]
  },
  {
   "cell_type": "code",
   "execution_count": 19,
   "metadata": {},
   "outputs": [
    {
     "data": {
      "text/plain": [
       "(6000,)"
      ]
     },
     "execution_count": 19,
     "metadata": {},
     "output_type": "execute_result"
    }
   ],
   "source": [
    "y_test.shape"
   ]
  },
  {
   "cell_type": "markdown",
   "metadata": {},
   "source": [
    "# Data Preparation\n",
    "# After evaluating the models required, I realized I need to re-process the original data from the previous Task"
   ]
  },
  {
   "cell_type": "code",
   "execution_count": 30,
   "metadata": {},
   "outputs": [
    {
     "data": {
      "text/html": [
       "<div>\n",
       "<style scoped>\n",
       "    .dataframe tbody tr th:only-of-type {\n",
       "        vertical-align: middle;\n",
       "    }\n",
       "\n",
       "    .dataframe tbody tr th {\n",
       "        vertical-align: top;\n",
       "    }\n",
       "\n",
       "    .dataframe thead th {\n",
       "        text-align: right;\n",
       "    }\n",
       "</style>\n",
       "<table border=\"1\" class=\"dataframe\">\n",
       "  <thead>\n",
       "    <tr style=\"text-align: right;\">\n",
       "      <th></th>\n",
       "      <th>LIMIT_BAL</th>\n",
       "      <th>SEX</th>\n",
       "      <th>EDUCATION</th>\n",
       "      <th>MARRIAGE</th>\n",
       "      <th>AGE</th>\n",
       "      <th>PAY_0</th>\n",
       "      <th>PAY_2</th>\n",
       "      <th>PAY_3</th>\n",
       "      <th>PAY_4</th>\n",
       "      <th>PAY_5</th>\n",
       "      <th>...</th>\n",
       "      <th>BILL_AMT4</th>\n",
       "      <th>BILL_AMT5</th>\n",
       "      <th>BILL_AMT6</th>\n",
       "      <th>PAY_AMT1</th>\n",
       "      <th>PAY_AMT2</th>\n",
       "      <th>PAY_AMT3</th>\n",
       "      <th>PAY_AMT4</th>\n",
       "      <th>PAY_AMT5</th>\n",
       "      <th>PAY_AMT6</th>\n",
       "      <th>default payment next month</th>\n",
       "    </tr>\n",
       "  </thead>\n",
       "  <tbody>\n",
       "    <tr>\n",
       "      <td>0</td>\n",
       "      <td>20000</td>\n",
       "      <td>2</td>\n",
       "      <td>2</td>\n",
       "      <td>1</td>\n",
       "      <td>24</td>\n",
       "      <td>2</td>\n",
       "      <td>2</td>\n",
       "      <td>-1</td>\n",
       "      <td>-1</td>\n",
       "      <td>-2</td>\n",
       "      <td>...</td>\n",
       "      <td>0</td>\n",
       "      <td>0</td>\n",
       "      <td>0</td>\n",
       "      <td>0</td>\n",
       "      <td>689</td>\n",
       "      <td>0</td>\n",
       "      <td>0</td>\n",
       "      <td>0</td>\n",
       "      <td>0</td>\n",
       "      <td>1</td>\n",
       "    </tr>\n",
       "    <tr>\n",
       "      <td>1</td>\n",
       "      <td>120000</td>\n",
       "      <td>2</td>\n",
       "      <td>2</td>\n",
       "      <td>2</td>\n",
       "      <td>26</td>\n",
       "      <td>-1</td>\n",
       "      <td>2</td>\n",
       "      <td>0</td>\n",
       "      <td>0</td>\n",
       "      <td>0</td>\n",
       "      <td>...</td>\n",
       "      <td>3272</td>\n",
       "      <td>3455</td>\n",
       "      <td>3261</td>\n",
       "      <td>0</td>\n",
       "      <td>1000</td>\n",
       "      <td>1000</td>\n",
       "      <td>1000</td>\n",
       "      <td>0</td>\n",
       "      <td>2000</td>\n",
       "      <td>1</td>\n",
       "    </tr>\n",
       "    <tr>\n",
       "      <td>2</td>\n",
       "      <td>90000</td>\n",
       "      <td>2</td>\n",
       "      <td>2</td>\n",
       "      <td>2</td>\n",
       "      <td>34</td>\n",
       "      <td>0</td>\n",
       "      <td>0</td>\n",
       "      <td>0</td>\n",
       "      <td>0</td>\n",
       "      <td>0</td>\n",
       "      <td>...</td>\n",
       "      <td>14331</td>\n",
       "      <td>14948</td>\n",
       "      <td>15549</td>\n",
       "      <td>1518</td>\n",
       "      <td>1500</td>\n",
       "      <td>1000</td>\n",
       "      <td>1000</td>\n",
       "      <td>1000</td>\n",
       "      <td>5000</td>\n",
       "      <td>0</td>\n",
       "    </tr>\n",
       "    <tr>\n",
       "      <td>3</td>\n",
       "      <td>50000</td>\n",
       "      <td>2</td>\n",
       "      <td>2</td>\n",
       "      <td>1</td>\n",
       "      <td>37</td>\n",
       "      <td>0</td>\n",
       "      <td>0</td>\n",
       "      <td>0</td>\n",
       "      <td>0</td>\n",
       "      <td>0</td>\n",
       "      <td>...</td>\n",
       "      <td>28314</td>\n",
       "      <td>28959</td>\n",
       "      <td>29547</td>\n",
       "      <td>2000</td>\n",
       "      <td>2019</td>\n",
       "      <td>1200</td>\n",
       "      <td>1100</td>\n",
       "      <td>1069</td>\n",
       "      <td>1000</td>\n",
       "      <td>0</td>\n",
       "    </tr>\n",
       "    <tr>\n",
       "      <td>4</td>\n",
       "      <td>50000</td>\n",
       "      <td>1</td>\n",
       "      <td>2</td>\n",
       "      <td>1</td>\n",
       "      <td>57</td>\n",
       "      <td>-1</td>\n",
       "      <td>0</td>\n",
       "      <td>-1</td>\n",
       "      <td>0</td>\n",
       "      <td>0</td>\n",
       "      <td>...</td>\n",
       "      <td>20940</td>\n",
       "      <td>19146</td>\n",
       "      <td>19131</td>\n",
       "      <td>2000</td>\n",
       "      <td>36681</td>\n",
       "      <td>10000</td>\n",
       "      <td>9000</td>\n",
       "      <td>689</td>\n",
       "      <td>679</td>\n",
       "      <td>0</td>\n",
       "    </tr>\n",
       "  </tbody>\n",
       "</table>\n",
       "<p>5 rows × 24 columns</p>\n",
       "</div>"
      ],
      "text/plain": [
       "   LIMIT_BAL  SEX  EDUCATION  MARRIAGE  AGE  PAY_0  PAY_2  PAY_3  PAY_4  \\\n",
       "0      20000    2          2         1   24      2      2     -1     -1   \n",
       "1     120000    2          2         2   26     -1      2      0      0   \n",
       "2      90000    2          2         2   34      0      0      0      0   \n",
       "3      50000    2          2         1   37      0      0      0      0   \n",
       "4      50000    1          2         1   57     -1      0     -1      0   \n",
       "\n",
       "   PAY_5  ...  BILL_AMT4  BILL_AMT5  BILL_AMT6  PAY_AMT1  PAY_AMT2  PAY_AMT3  \\\n",
       "0     -2  ...          0          0          0         0       689         0   \n",
       "1      0  ...       3272       3455       3261         0      1000      1000   \n",
       "2      0  ...      14331      14948      15549      1518      1500      1000   \n",
       "3      0  ...      28314      28959      29547      2000      2019      1200   \n",
       "4      0  ...      20940      19146      19131      2000     36681     10000   \n",
       "\n",
       "   PAY_AMT4  PAY_AMT5  PAY_AMT6  default payment next month  \n",
       "0         0         0         0                           1  \n",
       "1      1000         0      2000                           1  \n",
       "2      1000      1000      5000                           0  \n",
       "3      1100      1069      1000                           0  \n",
       "4      9000       689       679                           0  \n",
       "\n",
       "[5 rows x 24 columns]"
      ]
     },
     "execution_count": 30,
     "metadata": {},
     "output_type": "execute_result"
    }
   ],
   "source": [
    "#data\n",
    "#read file and drop ID column\n",
    "rawData = pd.read_csv(r'C:\\Users\\maavila\\Documents\\CURSO-BigData-DD\\Module V\\Task II\\default of credit card clients.csv', header =1)\n",
    "rawData.drop(rawData.columns[0], axis=1, inplace=True)\n",
    "rawData.head()"
   ]
  },
  {
   "cell_type": "markdown",
   "metadata": {},
   "source": [
    "## I applied the Feature Engineering that I identified in the previous task that I believe will be useful for the classification prediction"
   ]
  },
  {
   "cell_type": "code",
   "execution_count": 31,
   "metadata": {},
   "outputs": [],
   "source": [
    "rawData=rawData.rename(columns = {'default payment next month':'DEFAULT'})"
   ]
  },
  {
   "cell_type": "code",
   "execution_count": 32,
   "metadata": {},
   "outputs": [],
   "source": [
    "#Replacing Education values to OTHER (simplification)\n",
    "#Run for 6,5 and 4\n",
    "rawData.replace({\"EDUCATION\":{6:0}}, inplace = True)\n",
    "rawData.replace({\"EDUCATION\":{5:0}}, inplace = True)\n",
    "rawData.replace({\"EDUCATION\":{4:0}}, inplace = True)"
   ]
  },
  {
   "cell_type": "markdown",
   "metadata": {},
   "source": [
    "## Correlation "
   ]
  },
  {
   "cell_type": "code",
   "execution_count": 33,
   "metadata": {},
   "outputs": [
    {
     "data": {
      "text/html": [
       "<div>\n",
       "<style scoped>\n",
       "    .dataframe tbody tr th:only-of-type {\n",
       "        vertical-align: middle;\n",
       "    }\n",
       "\n",
       "    .dataframe tbody tr th {\n",
       "        vertical-align: top;\n",
       "    }\n",
       "\n",
       "    .dataframe thead th {\n",
       "        text-align: right;\n",
       "    }\n",
       "</style>\n",
       "<table border=\"1\" class=\"dataframe\">\n",
       "  <thead>\n",
       "    <tr style=\"text-align: right;\">\n",
       "      <th></th>\n",
       "      <th>LIMIT_BAL</th>\n",
       "      <th>SEX</th>\n",
       "      <th>EDUCATION</th>\n",
       "      <th>MARRIAGE</th>\n",
       "      <th>AGE</th>\n",
       "      <th>PAY_0</th>\n",
       "      <th>PAY_2</th>\n",
       "      <th>PAY_3</th>\n",
       "      <th>PAY_4</th>\n",
       "      <th>PAY_5</th>\n",
       "      <th>...</th>\n",
       "      <th>BILL_AMT4</th>\n",
       "      <th>BILL_AMT5</th>\n",
       "      <th>BILL_AMT6</th>\n",
       "      <th>PAY_AMT1</th>\n",
       "      <th>PAY_AMT2</th>\n",
       "      <th>PAY_AMT3</th>\n",
       "      <th>PAY_AMT4</th>\n",
       "      <th>PAY_AMT5</th>\n",
       "      <th>PAY_AMT6</th>\n",
       "      <th>DEFAULT</th>\n",
       "    </tr>\n",
       "  </thead>\n",
       "  <tbody>\n",
       "    <tr>\n",
       "      <td>LIMIT_BAL</td>\n",
       "      <td>1.000</td>\n",
       "      <td>0.025</td>\n",
       "      <td>-0.245</td>\n",
       "      <td>-0.108</td>\n",
       "      <td>0.145</td>\n",
       "      <td>-0.271</td>\n",
       "      <td>-0.296</td>\n",
       "      <td>-0.286</td>\n",
       "      <td>-0.267</td>\n",
       "      <td>-0.249</td>\n",
       "      <td>...</td>\n",
       "      <td>0.294</td>\n",
       "      <td>0.296</td>\n",
       "      <td>0.290</td>\n",
       "      <td>0.195</td>\n",
       "      <td>0.178</td>\n",
       "      <td>0.210</td>\n",
       "      <td>0.203</td>\n",
       "      <td>0.217</td>\n",
       "      <td>0.220</td>\n",
       "      <td>-0.154</td>\n",
       "    </tr>\n",
       "    <tr>\n",
       "      <td>SEX</td>\n",
       "      <td>0.025</td>\n",
       "      <td>1.000</td>\n",
       "      <td>0.008</td>\n",
       "      <td>-0.031</td>\n",
       "      <td>-0.091</td>\n",
       "      <td>-0.058</td>\n",
       "      <td>-0.071</td>\n",
       "      <td>-0.066</td>\n",
       "      <td>-0.060</td>\n",
       "      <td>-0.055</td>\n",
       "      <td>...</td>\n",
       "      <td>-0.022</td>\n",
       "      <td>-0.017</td>\n",
       "      <td>-0.017</td>\n",
       "      <td>-0.000</td>\n",
       "      <td>-0.001</td>\n",
       "      <td>-0.009</td>\n",
       "      <td>-0.002</td>\n",
       "      <td>-0.002</td>\n",
       "      <td>-0.003</td>\n",
       "      <td>-0.040</td>\n",
       "    </tr>\n",
       "    <tr>\n",
       "      <td>EDUCATION</td>\n",
       "      <td>-0.245</td>\n",
       "      <td>0.008</td>\n",
       "      <td>1.000</td>\n",
       "      <td>-0.147</td>\n",
       "      <td>0.180</td>\n",
       "      <td>0.132</td>\n",
       "      <td>0.155</td>\n",
       "      <td>0.149</td>\n",
       "      <td>0.140</td>\n",
       "      <td>0.126</td>\n",
       "      <td>...</td>\n",
       "      <td>-0.021</td>\n",
       "      <td>-0.021</td>\n",
       "      <td>-0.015</td>\n",
       "      <td>-0.045</td>\n",
       "      <td>-0.042</td>\n",
       "      <td>-0.060</td>\n",
       "      <td>-0.043</td>\n",
       "      <td>-0.051</td>\n",
       "      <td>-0.056</td>\n",
       "      <td>0.066</td>\n",
       "    </tr>\n",
       "    <tr>\n",
       "      <td>MARRIAGE</td>\n",
       "      <td>-0.108</td>\n",
       "      <td>-0.031</td>\n",
       "      <td>-0.147</td>\n",
       "      <td>1.000</td>\n",
       "      <td>-0.414</td>\n",
       "      <td>0.020</td>\n",
       "      <td>0.024</td>\n",
       "      <td>0.033</td>\n",
       "      <td>0.033</td>\n",
       "      <td>0.036</td>\n",
       "      <td>...</td>\n",
       "      <td>-0.023</td>\n",
       "      <td>-0.025</td>\n",
       "      <td>-0.021</td>\n",
       "      <td>-0.006</td>\n",
       "      <td>-0.008</td>\n",
       "      <td>-0.004</td>\n",
       "      <td>-0.013</td>\n",
       "      <td>-0.001</td>\n",
       "      <td>-0.007</td>\n",
       "      <td>-0.024</td>\n",
       "    </tr>\n",
       "    <tr>\n",
       "      <td>AGE</td>\n",
       "      <td>0.145</td>\n",
       "      <td>-0.091</td>\n",
       "      <td>0.180</td>\n",
       "      <td>-0.414</td>\n",
       "      <td>1.000</td>\n",
       "      <td>-0.039</td>\n",
       "      <td>-0.050</td>\n",
       "      <td>-0.053</td>\n",
       "      <td>-0.050</td>\n",
       "      <td>-0.054</td>\n",
       "      <td>...</td>\n",
       "      <td>0.051</td>\n",
       "      <td>0.049</td>\n",
       "      <td>0.048</td>\n",
       "      <td>0.026</td>\n",
       "      <td>0.022</td>\n",
       "      <td>0.029</td>\n",
       "      <td>0.021</td>\n",
       "      <td>0.023</td>\n",
       "      <td>0.019</td>\n",
       "      <td>0.014</td>\n",
       "    </tr>\n",
       "    <tr>\n",
       "      <td>PAY_0</td>\n",
       "      <td>-0.271</td>\n",
       "      <td>-0.058</td>\n",
       "      <td>0.132</td>\n",
       "      <td>0.020</td>\n",
       "      <td>-0.039</td>\n",
       "      <td>1.000</td>\n",
       "      <td>0.672</td>\n",
       "      <td>0.574</td>\n",
       "      <td>0.539</td>\n",
       "      <td>0.509</td>\n",
       "      <td>...</td>\n",
       "      <td>0.179</td>\n",
       "      <td>0.181</td>\n",
       "      <td>0.177</td>\n",
       "      <td>-0.079</td>\n",
       "      <td>-0.070</td>\n",
       "      <td>-0.071</td>\n",
       "      <td>-0.064</td>\n",
       "      <td>-0.058</td>\n",
       "      <td>-0.059</td>\n",
       "      <td>0.325</td>\n",
       "    </tr>\n",
       "    <tr>\n",
       "      <td>PAY_2</td>\n",
       "      <td>-0.296</td>\n",
       "      <td>-0.071</td>\n",
       "      <td>0.155</td>\n",
       "      <td>0.024</td>\n",
       "      <td>-0.050</td>\n",
       "      <td>0.672</td>\n",
       "      <td>1.000</td>\n",
       "      <td>0.767</td>\n",
       "      <td>0.662</td>\n",
       "      <td>0.623</td>\n",
       "      <td>...</td>\n",
       "      <td>0.222</td>\n",
       "      <td>0.221</td>\n",
       "      <td>0.219</td>\n",
       "      <td>-0.081</td>\n",
       "      <td>-0.059</td>\n",
       "      <td>-0.056</td>\n",
       "      <td>-0.047</td>\n",
       "      <td>-0.037</td>\n",
       "      <td>-0.037</td>\n",
       "      <td>0.264</td>\n",
       "    </tr>\n",
       "    <tr>\n",
       "      <td>PAY_3</td>\n",
       "      <td>-0.286</td>\n",
       "      <td>-0.066</td>\n",
       "      <td>0.149</td>\n",
       "      <td>0.033</td>\n",
       "      <td>-0.053</td>\n",
       "      <td>0.574</td>\n",
       "      <td>0.767</td>\n",
       "      <td>1.000</td>\n",
       "      <td>0.777</td>\n",
       "      <td>0.687</td>\n",
       "      <td>...</td>\n",
       "      <td>0.227</td>\n",
       "      <td>0.225</td>\n",
       "      <td>0.222</td>\n",
       "      <td>0.001</td>\n",
       "      <td>-0.067</td>\n",
       "      <td>-0.053</td>\n",
       "      <td>-0.046</td>\n",
       "      <td>-0.036</td>\n",
       "      <td>-0.036</td>\n",
       "      <td>0.235</td>\n",
       "    </tr>\n",
       "    <tr>\n",
       "      <td>PAY_4</td>\n",
       "      <td>-0.267</td>\n",
       "      <td>-0.060</td>\n",
       "      <td>0.140</td>\n",
       "      <td>0.033</td>\n",
       "      <td>-0.050</td>\n",
       "      <td>0.539</td>\n",
       "      <td>0.662</td>\n",
       "      <td>0.777</td>\n",
       "      <td>1.000</td>\n",
       "      <td>0.820</td>\n",
       "      <td>...</td>\n",
       "      <td>0.246</td>\n",
       "      <td>0.243</td>\n",
       "      <td>0.239</td>\n",
       "      <td>-0.009</td>\n",
       "      <td>-0.002</td>\n",
       "      <td>-0.069</td>\n",
       "      <td>-0.043</td>\n",
       "      <td>-0.034</td>\n",
       "      <td>-0.027</td>\n",
       "      <td>0.217</td>\n",
       "    </tr>\n",
       "    <tr>\n",
       "      <td>PAY_5</td>\n",
       "      <td>-0.249</td>\n",
       "      <td>-0.055</td>\n",
       "      <td>0.126</td>\n",
       "      <td>0.036</td>\n",
       "      <td>-0.054</td>\n",
       "      <td>0.509</td>\n",
       "      <td>0.623</td>\n",
       "      <td>0.687</td>\n",
       "      <td>0.820</td>\n",
       "      <td>1.000</td>\n",
       "      <td>...</td>\n",
       "      <td>0.272</td>\n",
       "      <td>0.270</td>\n",
       "      <td>0.263</td>\n",
       "      <td>-0.006</td>\n",
       "      <td>-0.003</td>\n",
       "      <td>0.009</td>\n",
       "      <td>-0.058</td>\n",
       "      <td>-0.033</td>\n",
       "      <td>-0.023</td>\n",
       "      <td>0.204</td>\n",
       "    </tr>\n",
       "    <tr>\n",
       "      <td>PAY_6</td>\n",
       "      <td>-0.235</td>\n",
       "      <td>-0.044</td>\n",
       "      <td>0.115</td>\n",
       "      <td>0.034</td>\n",
       "      <td>-0.049</td>\n",
       "      <td>0.475</td>\n",
       "      <td>0.576</td>\n",
       "      <td>0.633</td>\n",
       "      <td>0.716</td>\n",
       "      <td>0.817</td>\n",
       "      <td>...</td>\n",
       "      <td>0.266</td>\n",
       "      <td>0.291</td>\n",
       "      <td>0.285</td>\n",
       "      <td>-0.001</td>\n",
       "      <td>-0.005</td>\n",
       "      <td>0.006</td>\n",
       "      <td>0.019</td>\n",
       "      <td>-0.046</td>\n",
       "      <td>-0.025</td>\n",
       "      <td>0.187</td>\n",
       "    </tr>\n",
       "    <tr>\n",
       "      <td>BILL_AMT1</td>\n",
       "      <td>0.285</td>\n",
       "      <td>-0.034</td>\n",
       "      <td>-0.008</td>\n",
       "      <td>-0.023</td>\n",
       "      <td>0.056</td>\n",
       "      <td>0.187</td>\n",
       "      <td>0.235</td>\n",
       "      <td>0.208</td>\n",
       "      <td>0.203</td>\n",
       "      <td>0.207</td>\n",
       "      <td>...</td>\n",
       "      <td>0.860</td>\n",
       "      <td>0.830</td>\n",
       "      <td>0.803</td>\n",
       "      <td>0.140</td>\n",
       "      <td>0.099</td>\n",
       "      <td>0.157</td>\n",
       "      <td>0.158</td>\n",
       "      <td>0.167</td>\n",
       "      <td>0.179</td>\n",
       "      <td>-0.020</td>\n",
       "    </tr>\n",
       "    <tr>\n",
       "      <td>BILL_AMT2</td>\n",
       "      <td>0.278</td>\n",
       "      <td>-0.031</td>\n",
       "      <td>-0.009</td>\n",
       "      <td>-0.022</td>\n",
       "      <td>0.054</td>\n",
       "      <td>0.190</td>\n",
       "      <td>0.235</td>\n",
       "      <td>0.237</td>\n",
       "      <td>0.226</td>\n",
       "      <td>0.227</td>\n",
       "      <td>...</td>\n",
       "      <td>0.892</td>\n",
       "      <td>0.860</td>\n",
       "      <td>0.832</td>\n",
       "      <td>0.280</td>\n",
       "      <td>0.101</td>\n",
       "      <td>0.151</td>\n",
       "      <td>0.147</td>\n",
       "      <td>0.158</td>\n",
       "      <td>0.174</td>\n",
       "      <td>-0.014</td>\n",
       "    </tr>\n",
       "    <tr>\n",
       "      <td>BILL_AMT3</td>\n",
       "      <td>0.283</td>\n",
       "      <td>-0.025</td>\n",
       "      <td>-0.013</td>\n",
       "      <td>-0.025</td>\n",
       "      <td>0.054</td>\n",
       "      <td>0.180</td>\n",
       "      <td>0.224</td>\n",
       "      <td>0.227</td>\n",
       "      <td>0.245</td>\n",
       "      <td>0.243</td>\n",
       "      <td>...</td>\n",
       "      <td>0.924</td>\n",
       "      <td>0.884</td>\n",
       "      <td>0.853</td>\n",
       "      <td>0.244</td>\n",
       "      <td>0.317</td>\n",
       "      <td>0.130</td>\n",
       "      <td>0.143</td>\n",
       "      <td>0.180</td>\n",
       "      <td>0.182</td>\n",
       "      <td>-0.014</td>\n",
       "    </tr>\n",
       "    <tr>\n",
       "      <td>BILL_AMT4</td>\n",
       "      <td>0.294</td>\n",
       "      <td>-0.022</td>\n",
       "      <td>-0.021</td>\n",
       "      <td>-0.023</td>\n",
       "      <td>0.051</td>\n",
       "      <td>0.179</td>\n",
       "      <td>0.222</td>\n",
       "      <td>0.227</td>\n",
       "      <td>0.246</td>\n",
       "      <td>0.272</td>\n",
       "      <td>...</td>\n",
       "      <td>1.000</td>\n",
       "      <td>0.940</td>\n",
       "      <td>0.901</td>\n",
       "      <td>0.233</td>\n",
       "      <td>0.208</td>\n",
       "      <td>0.300</td>\n",
       "      <td>0.130</td>\n",
       "      <td>0.160</td>\n",
       "      <td>0.178</td>\n",
       "      <td>-0.010</td>\n",
       "    </tr>\n",
       "    <tr>\n",
       "      <td>BILL_AMT5</td>\n",
       "      <td>0.296</td>\n",
       "      <td>-0.017</td>\n",
       "      <td>-0.021</td>\n",
       "      <td>-0.025</td>\n",
       "      <td>0.049</td>\n",
       "      <td>0.181</td>\n",
       "      <td>0.221</td>\n",
       "      <td>0.225</td>\n",
       "      <td>0.243</td>\n",
       "      <td>0.270</td>\n",
       "      <td>...</td>\n",
       "      <td>0.940</td>\n",
       "      <td>1.000</td>\n",
       "      <td>0.946</td>\n",
       "      <td>0.217</td>\n",
       "      <td>0.181</td>\n",
       "      <td>0.252</td>\n",
       "      <td>0.293</td>\n",
       "      <td>0.142</td>\n",
       "      <td>0.164</td>\n",
       "      <td>-0.007</td>\n",
       "    </tr>\n",
       "    <tr>\n",
       "      <td>BILL_AMT6</td>\n",
       "      <td>0.290</td>\n",
       "      <td>-0.017</td>\n",
       "      <td>-0.015</td>\n",
       "      <td>-0.021</td>\n",
       "      <td>0.048</td>\n",
       "      <td>0.177</td>\n",
       "      <td>0.219</td>\n",
       "      <td>0.222</td>\n",
       "      <td>0.239</td>\n",
       "      <td>0.263</td>\n",
       "      <td>...</td>\n",
       "      <td>0.901</td>\n",
       "      <td>0.946</td>\n",
       "      <td>1.000</td>\n",
       "      <td>0.200</td>\n",
       "      <td>0.173</td>\n",
       "      <td>0.234</td>\n",
       "      <td>0.250</td>\n",
       "      <td>0.308</td>\n",
       "      <td>0.115</td>\n",
       "      <td>-0.005</td>\n",
       "    </tr>\n",
       "    <tr>\n",
       "      <td>PAY_AMT1</td>\n",
       "      <td>0.195</td>\n",
       "      <td>-0.000</td>\n",
       "      <td>-0.045</td>\n",
       "      <td>-0.006</td>\n",
       "      <td>0.026</td>\n",
       "      <td>-0.079</td>\n",
       "      <td>-0.081</td>\n",
       "      <td>0.001</td>\n",
       "      <td>-0.009</td>\n",
       "      <td>-0.006</td>\n",
       "      <td>...</td>\n",
       "      <td>0.233</td>\n",
       "      <td>0.217</td>\n",
       "      <td>0.200</td>\n",
       "      <td>1.000</td>\n",
       "      <td>0.286</td>\n",
       "      <td>0.252</td>\n",
       "      <td>0.200</td>\n",
       "      <td>0.148</td>\n",
       "      <td>0.186</td>\n",
       "      <td>-0.073</td>\n",
       "    </tr>\n",
       "    <tr>\n",
       "      <td>PAY_AMT2</td>\n",
       "      <td>0.178</td>\n",
       "      <td>-0.001</td>\n",
       "      <td>-0.042</td>\n",
       "      <td>-0.008</td>\n",
       "      <td>0.022</td>\n",
       "      <td>-0.070</td>\n",
       "      <td>-0.059</td>\n",
       "      <td>-0.067</td>\n",
       "      <td>-0.002</td>\n",
       "      <td>-0.003</td>\n",
       "      <td>...</td>\n",
       "      <td>0.208</td>\n",
       "      <td>0.181</td>\n",
       "      <td>0.173</td>\n",
       "      <td>0.286</td>\n",
       "      <td>1.000</td>\n",
       "      <td>0.245</td>\n",
       "      <td>0.180</td>\n",
       "      <td>0.181</td>\n",
       "      <td>0.158</td>\n",
       "      <td>-0.059</td>\n",
       "    </tr>\n",
       "    <tr>\n",
       "      <td>PAY_AMT3</td>\n",
       "      <td>0.210</td>\n",
       "      <td>-0.009</td>\n",
       "      <td>-0.060</td>\n",
       "      <td>-0.004</td>\n",
       "      <td>0.029</td>\n",
       "      <td>-0.071</td>\n",
       "      <td>-0.056</td>\n",
       "      <td>-0.053</td>\n",
       "      <td>-0.069</td>\n",
       "      <td>0.009</td>\n",
       "      <td>...</td>\n",
       "      <td>0.300</td>\n",
       "      <td>0.252</td>\n",
       "      <td>0.234</td>\n",
       "      <td>0.252</td>\n",
       "      <td>0.245</td>\n",
       "      <td>1.000</td>\n",
       "      <td>0.216</td>\n",
       "      <td>0.159</td>\n",
       "      <td>0.163</td>\n",
       "      <td>-0.056</td>\n",
       "    </tr>\n",
       "    <tr>\n",
       "      <td>PAY_AMT4</td>\n",
       "      <td>0.203</td>\n",
       "      <td>-0.002</td>\n",
       "      <td>-0.043</td>\n",
       "      <td>-0.013</td>\n",
       "      <td>0.021</td>\n",
       "      <td>-0.064</td>\n",
       "      <td>-0.047</td>\n",
       "      <td>-0.046</td>\n",
       "      <td>-0.043</td>\n",
       "      <td>-0.058</td>\n",
       "      <td>...</td>\n",
       "      <td>0.130</td>\n",
       "      <td>0.293</td>\n",
       "      <td>0.250</td>\n",
       "      <td>0.200</td>\n",
       "      <td>0.180</td>\n",
       "      <td>0.216</td>\n",
       "      <td>1.000</td>\n",
       "      <td>0.152</td>\n",
       "      <td>0.158</td>\n",
       "      <td>-0.057</td>\n",
       "    </tr>\n",
       "    <tr>\n",
       "      <td>PAY_AMT5</td>\n",
       "      <td>0.217</td>\n",
       "      <td>-0.002</td>\n",
       "      <td>-0.051</td>\n",
       "      <td>-0.001</td>\n",
       "      <td>0.023</td>\n",
       "      <td>-0.058</td>\n",
       "      <td>-0.037</td>\n",
       "      <td>-0.036</td>\n",
       "      <td>-0.034</td>\n",
       "      <td>-0.033</td>\n",
       "      <td>...</td>\n",
       "      <td>0.160</td>\n",
       "      <td>0.142</td>\n",
       "      <td>0.308</td>\n",
       "      <td>0.148</td>\n",
       "      <td>0.181</td>\n",
       "      <td>0.159</td>\n",
       "      <td>0.152</td>\n",
       "      <td>1.000</td>\n",
       "      <td>0.155</td>\n",
       "      <td>-0.055</td>\n",
       "    </tr>\n",
       "    <tr>\n",
       "      <td>PAY_AMT6</td>\n",
       "      <td>0.220</td>\n",
       "      <td>-0.003</td>\n",
       "      <td>-0.056</td>\n",
       "      <td>-0.007</td>\n",
       "      <td>0.019</td>\n",
       "      <td>-0.059</td>\n",
       "      <td>-0.037</td>\n",
       "      <td>-0.036</td>\n",
       "      <td>-0.027</td>\n",
       "      <td>-0.023</td>\n",
       "      <td>...</td>\n",
       "      <td>0.178</td>\n",
       "      <td>0.164</td>\n",
       "      <td>0.115</td>\n",
       "      <td>0.186</td>\n",
       "      <td>0.158</td>\n",
       "      <td>0.163</td>\n",
       "      <td>0.158</td>\n",
       "      <td>0.155</td>\n",
       "      <td>1.000</td>\n",
       "      <td>-0.053</td>\n",
       "    </tr>\n",
       "    <tr>\n",
       "      <td>DEFAULT</td>\n",
       "      <td>-0.154</td>\n",
       "      <td>-0.040</td>\n",
       "      <td>0.066</td>\n",
       "      <td>-0.024</td>\n",
       "      <td>0.014</td>\n",
       "      <td>0.325</td>\n",
       "      <td>0.264</td>\n",
       "      <td>0.235</td>\n",
       "      <td>0.217</td>\n",
       "      <td>0.204</td>\n",
       "      <td>...</td>\n",
       "      <td>-0.010</td>\n",
       "      <td>-0.007</td>\n",
       "      <td>-0.005</td>\n",
       "      <td>-0.073</td>\n",
       "      <td>-0.059</td>\n",
       "      <td>-0.056</td>\n",
       "      <td>-0.057</td>\n",
       "      <td>-0.055</td>\n",
       "      <td>-0.053</td>\n",
       "      <td>1.000</td>\n",
       "    </tr>\n",
       "  </tbody>\n",
       "</table>\n",
       "<p>24 rows × 24 columns</p>\n",
       "</div>"
      ],
      "text/plain": [
       "           LIMIT_BAL    SEX  EDUCATION  MARRIAGE    AGE  PAY_0  PAY_2  PAY_3  \\\n",
       "LIMIT_BAL      1.000  0.025     -0.245    -0.108  0.145 -0.271 -0.296 -0.286   \n",
       "SEX            0.025  1.000      0.008    -0.031 -0.091 -0.058 -0.071 -0.066   \n",
       "EDUCATION     -0.245  0.008      1.000    -0.147  0.180  0.132  0.155  0.149   \n",
       "MARRIAGE      -0.108 -0.031     -0.147     1.000 -0.414  0.020  0.024  0.033   \n",
       "AGE            0.145 -0.091      0.180    -0.414  1.000 -0.039 -0.050 -0.053   \n",
       "PAY_0         -0.271 -0.058      0.132     0.020 -0.039  1.000  0.672  0.574   \n",
       "PAY_2         -0.296 -0.071      0.155     0.024 -0.050  0.672  1.000  0.767   \n",
       "PAY_3         -0.286 -0.066      0.149     0.033 -0.053  0.574  0.767  1.000   \n",
       "PAY_4         -0.267 -0.060      0.140     0.033 -0.050  0.539  0.662  0.777   \n",
       "PAY_5         -0.249 -0.055      0.126     0.036 -0.054  0.509  0.623  0.687   \n",
       "PAY_6         -0.235 -0.044      0.115     0.034 -0.049  0.475  0.576  0.633   \n",
       "BILL_AMT1      0.285 -0.034     -0.008    -0.023  0.056  0.187  0.235  0.208   \n",
       "BILL_AMT2      0.278 -0.031     -0.009    -0.022  0.054  0.190  0.235  0.237   \n",
       "BILL_AMT3      0.283 -0.025     -0.013    -0.025  0.054  0.180  0.224  0.227   \n",
       "BILL_AMT4      0.294 -0.022     -0.021    -0.023  0.051  0.179  0.222  0.227   \n",
       "BILL_AMT5      0.296 -0.017     -0.021    -0.025  0.049  0.181  0.221  0.225   \n",
       "BILL_AMT6      0.290 -0.017     -0.015    -0.021  0.048  0.177  0.219  0.222   \n",
       "PAY_AMT1       0.195 -0.000     -0.045    -0.006  0.026 -0.079 -0.081  0.001   \n",
       "PAY_AMT2       0.178 -0.001     -0.042    -0.008  0.022 -0.070 -0.059 -0.067   \n",
       "PAY_AMT3       0.210 -0.009     -0.060    -0.004  0.029 -0.071 -0.056 -0.053   \n",
       "PAY_AMT4       0.203 -0.002     -0.043    -0.013  0.021 -0.064 -0.047 -0.046   \n",
       "PAY_AMT5       0.217 -0.002     -0.051    -0.001  0.023 -0.058 -0.037 -0.036   \n",
       "PAY_AMT6       0.220 -0.003     -0.056    -0.007  0.019 -0.059 -0.037 -0.036   \n",
       "DEFAULT       -0.154 -0.040      0.066    -0.024  0.014  0.325  0.264  0.235   \n",
       "\n",
       "           PAY_4  PAY_5  ...  BILL_AMT4  BILL_AMT5  BILL_AMT6  PAY_AMT1  \\\n",
       "LIMIT_BAL -0.267 -0.249  ...      0.294      0.296      0.290     0.195   \n",
       "SEX       -0.060 -0.055  ...     -0.022     -0.017     -0.017    -0.000   \n",
       "EDUCATION  0.140  0.126  ...     -0.021     -0.021     -0.015    -0.045   \n",
       "MARRIAGE   0.033  0.036  ...     -0.023     -0.025     -0.021    -0.006   \n",
       "AGE       -0.050 -0.054  ...      0.051      0.049      0.048     0.026   \n",
       "PAY_0      0.539  0.509  ...      0.179      0.181      0.177    -0.079   \n",
       "PAY_2      0.662  0.623  ...      0.222      0.221      0.219    -0.081   \n",
       "PAY_3      0.777  0.687  ...      0.227      0.225      0.222     0.001   \n",
       "PAY_4      1.000  0.820  ...      0.246      0.243      0.239    -0.009   \n",
       "PAY_5      0.820  1.000  ...      0.272      0.270      0.263    -0.006   \n",
       "PAY_6      0.716  0.817  ...      0.266      0.291      0.285    -0.001   \n",
       "BILL_AMT1  0.203  0.207  ...      0.860      0.830      0.803     0.140   \n",
       "BILL_AMT2  0.226  0.227  ...      0.892      0.860      0.832     0.280   \n",
       "BILL_AMT3  0.245  0.243  ...      0.924      0.884      0.853     0.244   \n",
       "BILL_AMT4  0.246  0.272  ...      1.000      0.940      0.901     0.233   \n",
       "BILL_AMT5  0.243  0.270  ...      0.940      1.000      0.946     0.217   \n",
       "BILL_AMT6  0.239  0.263  ...      0.901      0.946      1.000     0.200   \n",
       "PAY_AMT1  -0.009 -0.006  ...      0.233      0.217      0.200     1.000   \n",
       "PAY_AMT2  -0.002 -0.003  ...      0.208      0.181      0.173     0.286   \n",
       "PAY_AMT3  -0.069  0.009  ...      0.300      0.252      0.234     0.252   \n",
       "PAY_AMT4  -0.043 -0.058  ...      0.130      0.293      0.250     0.200   \n",
       "PAY_AMT5  -0.034 -0.033  ...      0.160      0.142      0.308     0.148   \n",
       "PAY_AMT6  -0.027 -0.023  ...      0.178      0.164      0.115     0.186   \n",
       "DEFAULT    0.217  0.204  ...     -0.010     -0.007     -0.005    -0.073   \n",
       "\n",
       "           PAY_AMT2  PAY_AMT3  PAY_AMT4  PAY_AMT5  PAY_AMT6  DEFAULT  \n",
       "LIMIT_BAL     0.178     0.210     0.203     0.217     0.220   -0.154  \n",
       "SEX          -0.001    -0.009    -0.002    -0.002    -0.003   -0.040  \n",
       "EDUCATION    -0.042    -0.060    -0.043    -0.051    -0.056    0.066  \n",
       "MARRIAGE     -0.008    -0.004    -0.013    -0.001    -0.007   -0.024  \n",
       "AGE           0.022     0.029     0.021     0.023     0.019    0.014  \n",
       "PAY_0        -0.070    -0.071    -0.064    -0.058    -0.059    0.325  \n",
       "PAY_2        -0.059    -0.056    -0.047    -0.037    -0.037    0.264  \n",
       "PAY_3        -0.067    -0.053    -0.046    -0.036    -0.036    0.235  \n",
       "PAY_4        -0.002    -0.069    -0.043    -0.034    -0.027    0.217  \n",
       "PAY_5        -0.003     0.009    -0.058    -0.033    -0.023    0.204  \n",
       "PAY_6        -0.005     0.006     0.019    -0.046    -0.025    0.187  \n",
       "BILL_AMT1     0.099     0.157     0.158     0.167     0.179   -0.020  \n",
       "BILL_AMT2     0.101     0.151     0.147     0.158     0.174   -0.014  \n",
       "BILL_AMT3     0.317     0.130     0.143     0.180     0.182   -0.014  \n",
       "BILL_AMT4     0.208     0.300     0.130     0.160     0.178   -0.010  \n",
       "BILL_AMT5     0.181     0.252     0.293     0.142     0.164   -0.007  \n",
       "BILL_AMT6     0.173     0.234     0.250     0.308     0.115   -0.005  \n",
       "PAY_AMT1      0.286     0.252     0.200     0.148     0.186   -0.073  \n",
       "PAY_AMT2      1.000     0.245     0.180     0.181     0.158   -0.059  \n",
       "PAY_AMT3      0.245     1.000     0.216     0.159     0.163   -0.056  \n",
       "PAY_AMT4      0.180     0.216     1.000     0.152     0.158   -0.057  \n",
       "PAY_AMT5      0.181     0.159     0.152     1.000     0.155   -0.055  \n",
       "PAY_AMT6      0.158     0.163     0.158     0.155     1.000   -0.053  \n",
       "DEFAULT      -0.059    -0.056    -0.057    -0.055    -0.053    1.000  \n",
       "\n",
       "[24 rows x 24 columns]"
      ]
     },
     "execution_count": 33,
     "metadata": {},
     "output_type": "execute_result"
    }
   ],
   "source": [
    "#from the PAY_n graphs it seems they are very correlated, I will try to eliminate correlated variables\n",
    "corr_matrix = rawData.corr().round(decimals=3)\n",
    "corr_matrix"
   ]
  },
  {
   "cell_type": "code",
   "execution_count": 34,
   "metadata": {},
   "outputs": [
    {
     "data": {
      "image/png": "[encoded data removed]",
      "text/plain": [
       "<Figure size 288x288 with 1 Axes>"
      ]
     },
     "metadata": {
      "needs_background": "light"
     },
     "output_type": "display_data"
    }
   ],
   "source": [
    "#The correlation shows what I had identified, Bill_Amts are highly correlated (columns 11 to 16)\n",
    "plt.matshow(rawData.corr().round(decimals=3))\n",
    "plt.show()"
   ]
  },
  {
   "cell_type": "code",
   "execution_count": 35,
   "metadata": {},
   "outputs": [],
   "source": [
    "credit = rawData.drop([\"BILL_AMT2\",\"BILL_AMT3\",\"BILL_AMT4\",\"BILL_AMT5\",\"BILL_AMT6\"],axis = 1, inplace = False)"
   ]
  },
  {
   "cell_type": "markdown",
   "metadata": {},
   "source": [
    "## Preparing for setting up the training and testing datasets"
   ]
  },
  {
   "cell_type": "code",
   "execution_count": 58,
   "metadata": {},
   "outputs": [],
   "source": [
    "#select features and dependant variable\n",
    "X = credit.drop('DEFAULT', axis=1)\n",
    "y = credit['DEFAULT']"
   ]
  },
  {
   "cell_type": "code",
   "execution_count": 59,
   "metadata": {},
   "outputs": [],
   "source": [
    "X_train, X_test, y_train, y_test = train_test_split(X, y)"
   ]
  },
  {
   "cell_type": "code",
   "execution_count": 60,
   "metadata": {},
   "outputs": [],
   "source": [
    "X_scaled = preprocessing.scale(X_train)"
   ]
  },
  {
   "cell_type": "markdown",
   "metadata": {},
   "source": [
    "# Models"
   ]
  },
  {
   "cell_type": "code",
   "execution_count": 61,
   "metadata": {},
   "outputs": [],
   "source": [
    "#Models\n",
    "modelSVC = SVC(kernel='linear')\n",
    "modelKNN = KNeighborsClassifier(n_neighbors=5)\n",
    "modelDTree = DecisionTreeClassifier(random_state=0, max_depth=3)"
   ]
  },
  {
   "cell_type": "code",
   "execution_count": 115,
   "metadata": {},
   "outputs": [],
   "source": [
    "#Models with additional tuning\n",
    "modelSVC2 = SVC(kernel='poly', decision_function_shape=\"ovo\", degree=3)\n",
    "modelKNN2 = KNeighborsClassifier(n_neighbors=4, leaf_size=50)\n",
    "modelDTree2 = DecisionTreeClassifier(random_state=0, max_depth=3, criterion=\"entropy\",max_features=\"sqrt\")"
   ]
  },
  {
   "cell_type": "markdown",
   "metadata": {},
   "source": [
    "# Support Vector Classifier"
   ]
  },
  {
   "cell_type": "code",
   "execution_count": 62,
   "metadata": {},
   "outputs": [
    {
     "data": {
      "text/plain": [
       "SVC(C=1.0, cache_size=200, class_weight=None, coef0=0.0,\n",
       "    decision_function_shape='ovr', degree=3, gamma='auto_deprecated',\n",
       "    kernel='linear', max_iter=-1, probability=False, random_state=None,\n",
       "    shrinking=True, tol=0.001, verbose=False)"
      ]
     },
     "execution_count": 62,
     "metadata": {},
     "output_type": "execute_result"
    }
   ],
   "source": [
    "modelSVC.fit(X_scaled,y_train)"
   ]
  },
  {
   "cell_type": "code",
   "execution_count": 112,
   "metadata": {},
   "outputs": [
    {
     "data": {
      "text/plain": [
       "SVC(C=1.0, cache_size=200, class_weight=None, coef0=0.0,\n",
       "    decision_function_shape='ovo', degree=3, gamma='auto_deprecated',\n",
       "    kernel='poly', max_iter=-1, probability=False, random_state=None,\n",
       "    shrinking=True, tol=0.001, verbose=False)"
      ]
     },
     "execution_count": 112,
     "metadata": {},
     "output_type": "execute_result"
    }
   ],
   "source": [
    "modelSVC2.fit(X_scaled,y_train)"
   ]
  },
  {
   "cell_type": "markdown",
   "metadata": {},
   "source": [
    "# K Nearest Neighbor"
   ]
  },
  {
   "cell_type": "code",
   "execution_count": 63,
   "metadata": {},
   "outputs": [
    {
     "data": {
      "text/plain": [
       "KNeighborsClassifier(algorithm='auto', leaf_size=30, metric='minkowski',\n",
       "                     metric_params=None, n_jobs=None, n_neighbors=5, p=2,\n",
       "                     weights='uniform')"
      ]
     },
     "execution_count": 63,
     "metadata": {},
     "output_type": "execute_result"
    }
   ],
   "source": [
    "modelKNN.fit(X_scaled,y_train)"
   ]
  },
  {
   "cell_type": "code",
   "execution_count": 113,
   "metadata": {},
   "outputs": [
    {
     "data": {
      "text/plain": [
       "KNeighborsClassifier(algorithm='auto', leaf_size=50, metric='minkowski',\n",
       "                     metric_params=None, n_jobs=None, n_neighbors=4, p=2,\n",
       "                     weights='uniform')"
      ]
     },
     "execution_count": 113,
     "metadata": {},
     "output_type": "execute_result"
    }
   ],
   "source": [
    "modelKNN2.fit(X_scaled,y_train)"
   ]
  },
  {
   "cell_type": "markdown",
   "metadata": {},
   "source": [
    "# Decision Tree"
   ]
  },
  {
   "cell_type": "code",
   "execution_count": 64,
   "metadata": {},
   "outputs": [
    {
     "data": {
      "text/plain": [
       "DecisionTreeClassifier(class_weight=None, criterion='gini', max_depth=3,\n",
       "                       max_features=None, max_leaf_nodes=None,\n",
       "                       min_impurity_decrease=0.0, min_impurity_split=None,\n",
       "                       min_samples_leaf=1, min_samples_split=2,\n",
       "                       min_weight_fraction_leaf=0.0, presort=False,\n",
       "                       random_state=0, splitter='best')"
      ]
     },
     "execution_count": 64,
     "metadata": {},
     "output_type": "execute_result"
    }
   ],
   "source": [
    "modelDTree.fit(X_scaled,y_train)"
   ]
  },
  {
   "cell_type": "code",
   "execution_count": 116,
   "metadata": {},
   "outputs": [
    {
     "data": {
      "text/plain": [
       "DecisionTreeClassifier(class_weight=None, criterion='entropy', max_depth=3,\n",
       "                       max_features='sqrt', max_leaf_nodes=None,\n",
       "                       min_impurity_decrease=0.0, min_impurity_split=None,\n",
       "                       min_samples_leaf=1, min_samples_split=2,\n",
       "                       min_weight_fraction_leaf=0.0, presort=False,\n",
       "                       random_state=0, splitter='best')"
      ]
     },
     "execution_count": 116,
     "metadata": {},
     "output_type": "execute_result"
    }
   ],
   "source": [
    "modelDTree2.fit(X_scaled,y_train)"
   ]
  },
  {
   "cell_type": "markdown",
   "metadata": {},
   "source": [
    "# Model Evaluation with Cross Validation"
   ]
  },
  {
   "cell_type": "code",
   "execution_count": 66,
   "metadata": {},
   "outputs": [
    {
     "name": "stderr",
     "output_type": "stream",
     "text": [
      "C:\\Users\\maavila\\AppData\\Local\\Continuum\\anaconda3\\lib\\site-packages\\sklearn\\model_selection\\_split.py:1978: FutureWarning: The default value of cv will change from 3 to 5 in version 0.22. Specify it explicitly to silence this warning.\n",
      "  warnings.warn(CV_WARNING, FutureWarning)\n"
     ]
    },
    {
     "name": "stdout",
     "output_type": "stream",
     "text": [
      "[0.80949207 0.80786667 0.8079744 ]\n"
     ]
    }
   ],
   "source": [
    "print(cross_val_score(modelSVC, X_scaled, y_train)) "
   ]
  },
  {
   "cell_type": "code",
   "execution_count": 117,
   "metadata": {},
   "outputs": [
    {
     "name": "stderr",
     "output_type": "stream",
     "text": [
      "C:\\Users\\maavila\\AppData\\Local\\Continuum\\anaconda3\\lib\\site-packages\\sklearn\\model_selection\\_split.py:1978: FutureWarning: The default value of cv will change from 3 to 5 in version 0.22. Specify it explicitly to silence this warning.\n",
      "  warnings.warn(CV_WARNING, FutureWarning)\n",
      "C:\\Users\\maavila\\AppData\\Local\\Continuum\\anaconda3\\lib\\site-packages\\sklearn\\svm\\base.py:193: FutureWarning: The default value of gamma will change from 'auto' to 'scale' in version 0.22 to account better for unscaled features. Set gamma explicitly to 'auto' or 'scale' to avoid this warning.\n",
      "  \"avoid this warning.\", FutureWarning)\n",
      "C:\\Users\\maavila\\AppData\\Local\\Continuum\\anaconda3\\lib\\site-packages\\sklearn\\svm\\base.py:193: FutureWarning: The default value of gamma will change from 'auto' to 'scale' in version 0.22 to account better for unscaled features. Set gamma explicitly to 'auto' or 'scale' to avoid this warning.\n",
      "  \"avoid this warning.\", FutureWarning)\n",
      "C:\\Users\\maavila\\AppData\\Local\\Continuum\\anaconda3\\lib\\site-packages\\sklearn\\svm\\base.py:193: FutureWarning: The default value of gamma will change from 'auto' to 'scale' in version 0.22 to account better for unscaled features. Set gamma explicitly to 'auto' or 'scale' to avoid this warning.\n",
      "  \"avoid this warning.\", FutureWarning)\n"
     ]
    },
    {
     "name": "stdout",
     "output_type": "stream",
     "text": [
      "[0.80469271 0.80453333 0.80650753]\n"
     ]
    }
   ],
   "source": [
    "print(cross_val_score(modelSVC2, X_scaled, y_train)) "
   ]
  },
  {
   "cell_type": "code",
   "execution_count": 67,
   "metadata": {},
   "outputs": [
    {
     "name": "stderr",
     "output_type": "stream",
     "text": [
      "C:\\Users\\maavila\\AppData\\Local\\Continuum\\anaconda3\\lib\\site-packages\\sklearn\\model_selection\\_split.py:1978: FutureWarning: The default value of cv will change from 3 to 5 in version 0.22. Specify it explicitly to silence this warning.\n",
      "  warnings.warn(CV_WARNING, FutureWarning)\n"
     ]
    },
    {
     "name": "stdout",
     "output_type": "stream",
     "text": [
      "[0.78762832 0.79453333 0.79490599]\n"
     ]
    }
   ],
   "source": [
    "print(cross_val_score(modelKNN, X_scaled, y_train)) "
   ]
  },
  {
   "cell_type": "code",
   "execution_count": 118,
   "metadata": {},
   "outputs": [
    {
     "name": "stderr",
     "output_type": "stream",
     "text": [
      "C:\\Users\\maavila\\AppData\\Local\\Continuum\\anaconda3\\lib\\site-packages\\sklearn\\model_selection\\_split.py:1978: FutureWarning: The default value of cv will change from 3 to 5 in version 0.22. Specify it explicitly to silence this warning.\n",
      "  warnings.warn(CV_WARNING, FutureWarning)\n"
     ]
    },
    {
     "name": "stdout",
     "output_type": "stream",
     "text": [
      "[0.79122784 0.79946667 0.79637285]\n"
     ]
    }
   ],
   "source": [
    "print(cross_val_score(modelKNN2, X_scaled, y_train)) "
   ]
  },
  {
   "cell_type": "code",
   "execution_count": 68,
   "metadata": {},
   "outputs": [
    {
     "name": "stderr",
     "output_type": "stream",
     "text": [
      "C:\\Users\\maavila\\AppData\\Local\\Continuum\\anaconda3\\lib\\site-packages\\sklearn\\model_selection\\_split.py:1978: FutureWarning: The default value of cv will change from 3 to 5 in version 0.22. Specify it explicitly to silence this warning.\n",
      "  warnings.warn(CV_WARNING, FutureWarning)\n"
     ]
    },
    {
     "name": "stdout",
     "output_type": "stream",
     "text": [
      "[0.81682442 0.8212     0.82010935]\n"
     ]
    }
   ],
   "source": [
    "print(cross_val_score(modelDTree, X_scaled, y_train)) "
   ]
  },
  {
   "cell_type": "code",
   "execution_count": 119,
   "metadata": {},
   "outputs": [
    {
     "name": "stdout",
     "output_type": "stream",
     "text": [
      "[0.82069057 0.818      0.81730897]\n"
     ]
    },
    {
     "name": "stderr",
     "output_type": "stream",
     "text": [
      "C:\\Users\\maavila\\AppData\\Local\\Continuum\\anaconda3\\lib\\site-packages\\sklearn\\model_selection\\_split.py:1978: FutureWarning: The default value of cv will change from 3 to 5 in version 0.22. Specify it explicitly to silence this warning.\n",
      "  warnings.warn(CV_WARNING, FutureWarning)\n"
     ]
    }
   ],
   "source": [
    "print(cross_val_score(modelDTree2, X_scaled, y_train)) "
   ]
  },
  {
   "cell_type": "markdown",
   "metadata": {},
   "source": [
    "# Predictions "
   ]
  },
  {
   "cell_type": "code",
   "execution_count": 69,
   "metadata": {},
   "outputs": [],
   "source": [
    "# The best scoring model was the Decision Tree\n",
    "# Will scale the Testing Data as well\n",
    "X_scaled_test = preprocessing.scale(X_test)"
   ]
  },
  {
   "cell_type": "code",
   "execution_count": 71,
   "metadata": {},
   "outputs": [],
   "source": [
    "predictions = modelDTree.predict(X_scaled_test)"
   ]
  },
  {
   "cell_type": "code",
   "execution_count": 120,
   "metadata": {},
   "outputs": [],
   "source": [
    "predictions2 = modelDTree2.predict(X_scaled_test)"
   ]
  },
  {
   "cell_type": "code",
   "execution_count": 72,
   "metadata": {},
   "outputs": [
    {
     "name": "stdout",
     "output_type": "stream",
     "text": [
      "R Squared: -0.068\n",
      "RMSE: 0.426\n"
     ]
    }
   ],
   "source": [
    "rmse = sqrt(mean_squared_error(y_test, predictions))\n",
    "predRsquared = r2_score(y_test,predictions)\n",
    "print('R Squared: %.3f' % predRsquared)\n",
    "print('RMSE: %.3f' % rmse)"
   ]
  },
  {
   "cell_type": "code",
   "execution_count": 121,
   "metadata": {},
   "outputs": [
    {
     "name": "stdout",
     "output_type": "stream",
     "text": [
      "R Squared: -0.068\n",
      "RMSE: 0.425\n"
     ]
    }
   ],
   "source": [
    "rmse = sqrt(mean_squared_error(y_test, predictions2))\n",
    "predRsquared = r2_score(y_test,predictions)\n",
    "print('R Squared: %.3f' % predRsquared)\n",
    "print('RMSE: %.3f' % rmse)"
   ]
  },
  {
   "cell_type": "code",
   "execution_count": 74,
   "metadata": {},
   "outputs": [
    {
     "name": "stdout",
     "output_type": "stream",
     "text": [
      "[[5566  304]\n",
      " [1058  572]]\n",
      "              precision    recall  f1-score   support\n",
      "\n",
      "           0       0.84      0.95      0.89      5870\n",
      "           1       0.65      0.35      0.46      1630\n",
      "\n",
      "    accuracy                           0.82      7500\n",
      "   macro avg       0.75      0.65      0.67      7500\n",
      "weighted avg       0.80      0.82      0.80      7500\n",
      "\n"
     ]
    }
   ],
   "source": [
    "# Confusion Matrix\n",
    "print(confusion_matrix(y_test, predictions))\n",
    "print(classification_report(y_test, predictions))"
   ]
  },
  {
   "cell_type": "code",
   "execution_count": 107,
   "metadata": {},
   "outputs": [
    {
     "data": {
      "image/png": "[encoded data removed]",
      "text/plain": [
       "<Figure size 288x288 with 2 Axes>"
      ]
     },
     "metadata": {
      "needs_background": "light"
     },
     "output_type": "display_data"
    }
   ],
   "source": [
    "cm = confusion_matrix(y_test, predictions)\n",
    "pl.matshow(cm)\n",
    "pl.title('Confusion matrix for Decision Tree \\nAccuracy:{0:.3f}'.format(accuracy_score(y_test, predictions)))\n",
    "pl.ylabel('True label')\n",
    "pl.xlabel('Predicted label')\n",
    "pl.colorbar()\n",
    "pl.show()"
   ]
  },
  {
   "cell_type": "markdown",
   "metadata": {},
   "source": [
    "# REPEATING all modelling steps without Outliers \n",
    "## From the previous exercise I had identified outliers and the way to eliminate them.  As I don´t know if they impact the model in any way I decide to run the models without outliers\n",
    "### Eliminate Outliers"
   ]
  },
  {
   "cell_type": "code",
   "execution_count": 78,
   "metadata": {},
   "outputs": [],
   "source": [
    "# apply z score to eliminate outliers\n",
    "z = np.abs(stats.zscore(rawData))"
   ]
  },
  {
   "cell_type": "code",
   "execution_count": 79,
   "metadata": {},
   "outputs": [],
   "source": [
    "# Eliminating Outliers based on zcores\n",
    "X_o = rawData[(z < 4.5).all(axis=1)]"
   ]
  },
  {
   "cell_type": "code",
   "execution_count": 80,
   "metadata": {},
   "outputs": [],
   "source": [
    "#select features and dependant variable\n",
    "X_o = credit.drop('DEFAULT', axis=1)\n",
    "y_o = credit['DEFAULT']"
   ]
  },
  {
   "cell_type": "code",
   "execution_count": 81,
   "metadata": {},
   "outputs": [],
   "source": [
    "X_train_o, X_test_o, y_train_o, y_test_o = train_test_split(X_o, y_o)"
   ]
  },
  {
   "cell_type": "code",
   "execution_count": 82,
   "metadata": {},
   "outputs": [],
   "source": [
    "X_scaled_o = preprocessing.scale(X_train_o)"
   ]
  },
  {
   "cell_type": "markdown",
   "metadata": {},
   "source": [
    "# Models"
   ]
  },
  {
   "cell_type": "code",
   "execution_count": 84,
   "metadata": {},
   "outputs": [],
   "source": [
    "#Models without outliers\n",
    "modelSVC_o = SVC(kernel='linear')\n",
    "modelKNN_o = KNeighborsClassifier(n_neighbors=5)\n",
    "modelDTree_o = DecisionTreeClassifier(random_state=0, max_depth=3)"
   ]
  },
  {
   "cell_type": "code",
   "execution_count": 86,
   "metadata": {},
   "outputs": [
    {
     "data": {
      "text/plain": [
       "SVC(C=1.0, cache_size=200, class_weight=None, coef0=0.0,\n",
       "    decision_function_shape='ovr', degree=3, gamma='auto_deprecated',\n",
       "    kernel='linear', max_iter=-1, probability=False, random_state=None,\n",
       "    shrinking=True, tol=0.001, verbose=False)"
      ]
     },
     "execution_count": 86,
     "metadata": {},
     "output_type": "execute_result"
    }
   ],
   "source": [
    "modelSVC_o.fit(X_scaled_o,y_train_o)"
   ]
  },
  {
   "cell_type": "code",
   "execution_count": 85,
   "metadata": {},
   "outputs": [
    {
     "data": {
      "text/plain": [
       "KNeighborsClassifier(algorithm='auto', leaf_size=30, metric='minkowski',\n",
       "                     metric_params=None, n_jobs=None, n_neighbors=5, p=2,\n",
       "                     weights='uniform')"
      ]
     },
     "execution_count": 85,
     "metadata": {},
     "output_type": "execute_result"
    }
   ],
   "source": [
    "modelKNN_o.fit(X_scaled_o,y_train_o)"
   ]
  },
  {
   "cell_type": "code",
   "execution_count": 87,
   "metadata": {},
   "outputs": [
    {
     "data": {
      "text/plain": [
       "DecisionTreeClassifier(class_weight=None, criterion='gini', max_depth=3,\n",
       "                       max_features=None, max_leaf_nodes=None,\n",
       "                       min_impurity_decrease=0.0, min_impurity_split=None,\n",
       "                       min_samples_leaf=1, min_samples_split=2,\n",
       "                       min_weight_fraction_leaf=0.0, presort=False,\n",
       "                       random_state=0, splitter='best')"
      ]
     },
     "execution_count": 87,
     "metadata": {},
     "output_type": "execute_result"
    }
   ],
   "source": [
    "modelDTree_o.fit(X_scaled_o,y_train_o)"
   ]
  },
  {
   "cell_type": "code",
   "execution_count": 88,
   "metadata": {},
   "outputs": [
    {
     "name": "stderr",
     "output_type": "stream",
     "text": [
      "C:\\Users\\maavila\\AppData\\Local\\Continuum\\anaconda3\\lib\\site-packages\\sklearn\\model_selection\\_split.py:1978: FutureWarning: The default value of cv will change from 3 to 5 in version 0.22. Specify it explicitly to silence this warning.\n",
      "  warnings.warn(CV_WARNING, FutureWarning)\n"
     ]
    },
    {
     "name": "stdout",
     "output_type": "stream",
     "text": [
      "[0.80615918 0.80946667 0.80704094]\n"
     ]
    }
   ],
   "source": [
    "print(cross_val_score(modelSVC_o, X_scaled_o, y_train_o)) "
   ]
  },
  {
   "cell_type": "code",
   "execution_count": 89,
   "metadata": {},
   "outputs": [
    {
     "name": "stderr",
     "output_type": "stream",
     "text": [
      "C:\\Users\\maavila\\AppData\\Local\\Continuum\\anaconda3\\lib\\site-packages\\sklearn\\model_selection\\_split.py:1978: FutureWarning: The default value of cv will change from 3 to 5 in version 0.22. Specify it explicitly to silence this warning.\n",
      "  warnings.warn(CV_WARNING, FutureWarning)\n"
     ]
    },
    {
     "name": "stdout",
     "output_type": "stream",
     "text": [
      "[0.79402746 0.79626667 0.79383918]\n"
     ]
    }
   ],
   "source": [
    "print(cross_val_score(modelKNN_o, X_scaled_o, y_train_o)) "
   ]
  },
  {
   "cell_type": "code",
   "execution_count": 90,
   "metadata": {},
   "outputs": [
    {
     "name": "stderr",
     "output_type": "stream",
     "text": [
      "C:\\Users\\maavila\\AppData\\Local\\Continuum\\anaconda3\\lib\\site-packages\\sklearn\\model_selection\\_split.py:1978: FutureWarning: The default value of cv will change from 3 to 5 in version 0.22. Specify it explicitly to silence this warning.\n",
      "  warnings.warn(CV_WARNING, FutureWarning)\n"
     ]
    },
    {
     "name": "stdout",
     "output_type": "stream",
     "text": [
      "[0.82442341 0.81826667 0.8207761 ]\n"
     ]
    }
   ],
   "source": [
    "print(cross_val_score(modelDTree_o, X_scaled_o, y_train_o)) "
   ]
  },
  {
   "cell_type": "code",
   "execution_count": 91,
   "metadata": {},
   "outputs": [],
   "source": [
    "# The best scoring model was the Decision Tree\n",
    "# Will scale the Testing Data as well\n",
    "X_scaled_test_o = preprocessing.scale(X_test_o)"
   ]
  },
  {
   "cell_type": "code",
   "execution_count": 92,
   "metadata": {},
   "outputs": [],
   "source": [
    "predict_o = modelDTree_o.predict(X_scaled_test_o)"
   ]
  },
  {
   "cell_type": "code",
   "execution_count": 93,
   "metadata": {},
   "outputs": [
    {
     "name": "stdout",
     "output_type": "stream",
     "text": [
      "R Squared: -0.056\n",
      "RMSE: 0.423\n"
     ]
    }
   ],
   "source": [
    "rmse = sqrt(mean_squared_error(y_test_o, predict_o))\n",
    "predRsquared = r2_score(y_test_o,predict_o)\n",
    "print('R Squared: %.3f' % predRsquared)\n",
    "print('RMSE: %.3f' % rmse)"
   ]
  },
  {
   "cell_type": "code",
   "execution_count": 94,
   "metadata": {},
   "outputs": [
    {
     "name": "stdout",
     "output_type": "stream",
     "text": [
      "[[5569  312]\n",
      " [1028  591]]\n",
      "              precision    recall  f1-score   support\n",
      "\n",
      "           0       0.84      0.95      0.89      5881\n",
      "           1       0.65      0.37      0.47      1619\n",
      "\n",
      "    accuracy                           0.82      7500\n",
      "   macro avg       0.75      0.66      0.68      7500\n",
      "weighted avg       0.80      0.82      0.80      7500\n",
      "\n"
     ]
    }
   ],
   "source": [
    "# Confusion Matrix\n",
    "print(confusion_matrix(y_test_o, predict_o))\n",
    "print(classification_report(y_test_o, predict_o))"
   ]
  },
  {
   "cell_type": "markdown",
   "metadata": {},
   "source": [
    "# NO SIGNIFICANT DIFFERENCE BY ELIMINATING OUTLIERS"
   ]
  },
  {
   "cell_type": "markdown",
   "metadata": {},
   "source": [
    "###  The results of both predictions indicates that we are able to predict within 82% accuracy the clients who will not default, but not those that will default"
   ]
  },
  {
   "cell_type": "code",
   "execution_count": null,
   "metadata": {},
   "outputs": [],
   "source": [
    "cm = confusion_matrix(y_test, pred)\n",
    "pl.matshow(cm)"
   ]
  }
 ],
 "metadata": {
  "kernelspec": {
   "display_name": "Python 3",
   "language": "python",
   "name": "python3"
  },
  "language_info": {
   "codemirror_mode": {
    "name": "ipython",
    "version": 3
   },
   "file_extension": ".py",
   "mimetype": "text/x-python",
   "name": "python",
   "nbconvert_exporter": "python",
   "pygments_lexer": "ipython3",
   "version": "3.7.4"
  }
 },
 "nbformat": 4,
 "nbformat_minor": 2
}
